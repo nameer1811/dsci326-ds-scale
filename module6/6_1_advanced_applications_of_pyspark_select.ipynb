{
 "cells": [
  {
   "cell_type": "markdown",
   "metadata": {},
   "source": [
    "## Advanced Applications of Select"
   ]
  },
  {
   "cell_type": "code",
   "execution_count": 1,
   "metadata": {},
   "outputs": [],
   "source": [
    "import pandas as pd\n",
    "from dfply import *"
   ]
  },
  {
   "cell_type": "code",
   "execution_count": 6,
   "metadata": {},
   "outputs": [
    {
     "name": "stdout",
     "output_type": "stream",
     "text": [
      "Requirement already satisfied: pyspark in /home/fahad/.pyenv/versions/anaconda3-2022.05/lib/python3.9/site-packages (3.3.1)\n",
      "Requirement already satisfied: py4j==0.10.9.5 in /home/fahad/.pyenv/versions/anaconda3-2022.05/lib/python3.9/site-packages (from pyspark) (0.10.9.5)\n"
     ]
    }
   ],
   "source": [
    "!pip install pyspark"
   ]
  },
  {
   "cell_type": "code",
   "execution_count": 7,
   "metadata": {},
   "outputs": [
    {
     "name": "stdout",
     "output_type": "stream",
     "text": [
      "Requirement already satisfied: toolz in /home/fahad/.pyenv/versions/anaconda3-2022.05/lib/python3.9/site-packages (0.11.2)\n"
     ]
    }
   ],
   "source": [
    "!pip install toolz"
   ]
  },
  {
   "cell_type": "markdown",
   "metadata": {},
   "source": [
    "## Outline\n",
    "\n",
    "* `select` helper functions\n",
    "* Basic `filter` format"
   ]
  },
  {
   "cell_type": "markdown",
   "metadata": {},
   "source": [
    "# Reading a `pandas.Dataframe` into `pyspark` \n",
    "\n",
    "Sometimes it is useful to preprocess data in `pandas` before reading the data frame into `pyspark`.  To make this work, use the `more_pyspark.get_spark_types` to get and pass along the `dtypes` defined in `pandas`."
   ]
  },
  {
   "cell_type": "markdown",
   "metadata": {},
   "source": [
    "#### Step 1.  Read/preprocess the data in `pandas`"
   ]
  },
  {
   "cell_type": "code",
   "execution_count": 2,
   "metadata": {},
   "outputs": [
    {
     "data": {
      "text/plain": [
       "Index(['Unnamed: 0', 'F1', 'F5', 'F2', 'F1.1', 'F2.1', 'F6', 'F4', 'F3',\n",
       "       'F5.1', 'F1.2', 'F2.2', 'F6.1', 'F2.3', 'F4.1', 'F2.4', 'F5.2', 'F2.5',\n",
       "       'F6.2', 'F1.3', 'F2.6', 'F5.3', 'F4.2', 'F2.7', 'F3.1', 'F2.8', 'F5.4',\n",
       "       'F3.2', 'F1.4', 'F3.3', 'F1.5', 'F5.5', 'F6.3', 'F1.6', 'F5.6', 'F2.9',\n",
       "       'F3.4', 'F4.3', 'F2.10', 'F1.7', 'F6.4', 'F4.4', 'F5.7', 'F3.5',\n",
       "       'F2.11'],\n",
       "      dtype='object')"
      ]
     },
     "execution_count": 2,
     "metadata": {},
     "output_type": "execute_result"
    }
   ],
   "source": [
    "survey_raw = pd.read_csv(\"./data/health_survey.csv\")\n",
    "survey_raw.columns"
   ]
  },
  {
   "cell_type": "code",
   "execution_count": 3,
   "metadata": {},
   "outputs": [
    {
     "data": {
      "text/html": [
       "<div>\n",
       "<style scoped>\n",
       "    .dataframe tbody tr th:only-of-type {\n",
       "        vertical-align: middle;\n",
       "    }\n",
       "\n",
       "    .dataframe tbody tr th {\n",
       "        vertical-align: top;\n",
       "    }\n",
       "\n",
       "    .dataframe thead th {\n",
       "        text-align: right;\n",
       "    }\n",
       "</style>\n",
       "<table border=\"1\" class=\"dataframe\">\n",
       "  <thead>\n",
       "    <tr style=\"text-align: right;\">\n",
       "      <th></th>\n",
       "      <th>f1</th>\n",
       "      <th>f5</th>\n",
       "      <th>f2</th>\n",
       "      <th>f1_1</th>\n",
       "      <th>f2_1</th>\n",
       "      <th>f6</th>\n",
       "      <th>f4</th>\n",
       "      <th>f3</th>\n",
       "      <th>f5_1</th>\n",
       "      <th>f1_2</th>\n",
       "      <th>...</th>\n",
       "      <th>f3_4</th>\n",
       "      <th>f4_3</th>\n",
       "      <th>f2_10</th>\n",
       "      <th>f1_7</th>\n",
       "      <th>f6_4</th>\n",
       "      <th>f4_4</th>\n",
       "      <th>f5_7</th>\n",
       "      <th>f3_5</th>\n",
       "      <th>f2_11</th>\n",
       "      <th>id</th>\n",
       "    </tr>\n",
       "  </thead>\n",
       "  <tbody>\n",
       "    <tr>\n",
       "      <th>0</th>\n",
       "      <td>Somewhat Agree</td>\n",
       "      <td>Somewhat Disagree</td>\n",
       "      <td>Somewhat Agree</td>\n",
       "      <td>Somewhat Agree</td>\n",
       "      <td>Somewhat Agree</td>\n",
       "      <td>Somewhat Disagree</td>\n",
       "      <td>Somewhat Agree</td>\n",
       "      <td>Somewhat Agree</td>\n",
       "      <td>Somewhat Agree</td>\n",
       "      <td>Somewhat Agree</td>\n",
       "      <td>...</td>\n",
       "      <td>Somewhat Disagree</td>\n",
       "      <td>Neither Agree nor Disagree</td>\n",
       "      <td>Somewhat Agree</td>\n",
       "      <td>Somewhat Agree</td>\n",
       "      <td>Somewhat Agree</td>\n",
       "      <td>Somewhat Agree</td>\n",
       "      <td>Somewhat Agree</td>\n",
       "      <td>Somewhat Agree</td>\n",
       "      <td>Somewhat Agree</td>\n",
       "      <td>0</td>\n",
       "    </tr>\n",
       "    <tr>\n",
       "      <th>1</th>\n",
       "      <td>Somewhat Agree</td>\n",
       "      <td>Somewhat Disagree</td>\n",
       "      <td>Somewhat Agree</td>\n",
       "      <td>Somewhat Agree</td>\n",
       "      <td>Somewhat Agree</td>\n",
       "      <td>Somewhat Disagree</td>\n",
       "      <td>Somewhat Agree</td>\n",
       "      <td>Neither Agree nor Disagree</td>\n",
       "      <td>Neither Agree nor Disagree</td>\n",
       "      <td>Somewhat Agree</td>\n",
       "      <td>...</td>\n",
       "      <td>Somewhat Agree</td>\n",
       "      <td>Neither Agree nor Disagree</td>\n",
       "      <td>Somewhat Agree</td>\n",
       "      <td>Somewhat Agree</td>\n",
       "      <td>Somewhat Disagree</td>\n",
       "      <td>Neither Agree nor Disagree</td>\n",
       "      <td>Somewhat Agree</td>\n",
       "      <td>Neither Agree nor Disagree</td>\n",
       "      <td>Somewhat Agree</td>\n",
       "      <td>1</td>\n",
       "    </tr>\n",
       "  </tbody>\n",
       "</table>\n",
       "<p>2 rows × 45 columns</p>\n",
       "</div>"
      ],
      "text/plain": [
       "               f1                 f5              f2            f1_1  \\\n",
       "0  Somewhat Agree  Somewhat Disagree  Somewhat Agree  Somewhat Agree   \n",
       "1  Somewhat Agree  Somewhat Disagree  Somewhat Agree  Somewhat Agree   \n",
       "\n",
       "             f2_1                 f6              f4  \\\n",
       "0  Somewhat Agree  Somewhat Disagree  Somewhat Agree   \n",
       "1  Somewhat Agree  Somewhat Disagree  Somewhat Agree   \n",
       "\n",
       "                           f3                        f5_1            f1_2  \\\n",
       "0              Somewhat Agree              Somewhat Agree  Somewhat Agree   \n",
       "1  Neither Agree nor Disagree  Neither Agree nor Disagree  Somewhat Agree   \n",
       "\n",
       "   ...               f3_4                        f4_3           f2_10  \\\n",
       "0  ...  Somewhat Disagree  Neither Agree nor Disagree  Somewhat Agree   \n",
       "1  ...     Somewhat Agree  Neither Agree nor Disagree  Somewhat Agree   \n",
       "\n",
       "             f1_7               f6_4                        f4_4  \\\n",
       "0  Somewhat Agree     Somewhat Agree              Somewhat Agree   \n",
       "1  Somewhat Agree  Somewhat Disagree  Neither Agree nor Disagree   \n",
       "\n",
       "             f5_7                        f3_5           f2_11 id  \n",
       "0  Somewhat Agree              Somewhat Agree  Somewhat Agree  0  \n",
       "1  Somewhat Agree  Neither Agree nor Disagree  Somewhat Agree  1  \n",
       "\n",
       "[2 rows x 45 columns]"
      ]
     },
     "execution_count": 3,
     "metadata": {},
     "output_type": "execute_result"
    }
   ],
   "source": [
    "fix_name = lambda n: n.lower().replace('.', '_')\n",
    "survey = (survey_raw >>\n",
    "           select(~X['Unnamed: 0']) >>\n",
    "           rename(**{fix_name(n):n for n in survey_raw.columns}) >>\n",
    "           mutate(id = X.index))\n",
    "survey.head(2)"
   ]
  },
  {
   "cell_type": "markdown",
   "metadata": {},
   "source": [
    "#### Step 2. Convert the `dtypes` into `spark` types"
   ]
  },
  {
   "cell_type": "code",
   "execution_count": 9,
   "metadata": {
    "scrolled": true
   },
   "outputs": [
    {
     "data": {
      "text/plain": [
       "StructType([StructField('f1', StringType(), True), StructField('f5', StringType(), True), StructField('f2', StringType(), True), StructField('f1_1', StringType(), True), StructField('f2_1', StringType(), True), StructField('f6', StringType(), True), StructField('f4', StringType(), True), StructField('f3', StringType(), True), StructField('f5_1', StringType(), True), StructField('f1_2', StringType(), True), StructField('f2_2', StringType(), True), StructField('f6_1', StringType(), True), StructField('f2_3', StringType(), True), StructField('f4_1', StringType(), True), StructField('f2_4', StringType(), True), StructField('f5_2', StringType(), True), StructField('f2_5', StringType(), True), StructField('f6_2', StringType(), True), StructField('f1_3', StringType(), True), StructField('f2_6', StringType(), True), StructField('f5_3', StringType(), True), StructField('f4_2', StringType(), True), StructField('f2_7', StringType(), True), StructField('f3_1', StringType(), True), StructField('f2_8', StringType(), True), StructField('f5_4', StringType(), True), StructField('f3_2', StringType(), True), StructField('f1_4', StringType(), True), StructField('f3_3', StringType(), True), StructField('f1_5', StringType(), True), StructField('f5_5', StringType(), True), StructField('f6_3', StringType(), True), StructField('f1_6', StringType(), True), StructField('f5_6', StringType(), True), StructField('f2_9', StringType(), True), StructField('f3_4', StringType(), True), StructField('f4_3', StringType(), True), StructField('f2_10', StringType(), True), StructField('f1_7', StringType(), True), StructField('f6_4', StringType(), True), StructField('f4_4', StringType(), True), StructField('f5_7', StringType(), True), StructField('f3_5', StringType(), True), StructField('f2_11', StringType(), True), StructField('id', IntegerType(), True)])"
      ]
     },
     "execution_count": 9,
     "metadata": {},
     "output_type": "execute_result"
    }
   ],
   "source": [
    "from toolz import merge\n",
    "from pyspark.sql.types import IntegerType, StringType, StructType, StructField\n",
    "from more_pyspark import get_spark_types\n",
    "\n",
    "spark_type = get_spark_types(survey)\n",
    "spark_type"
   ]
  },
  {
   "cell_type": "code",
   "execution_count": 10,
   "metadata": {
    "scrolled": true
   },
   "outputs": [
    {
     "name": "stdout",
     "output_type": "stream",
     "text": [
      "StructType([\n",
      "    StructField('f1', StringType(), True), \n",
      "    StructField('f5', StringType(), True), \n",
      "    StructField('f2', StringType(), True), \n",
      "    StructField('f1_1', StringType(), True), \n",
      "    StructField('f2_1', StringType(), True), \n",
      "    StructField('f6', StringType(), True), \n",
      "    StructField('f4', StringType(), True), \n",
      "    StructField('f3', StringType(), True), \n",
      "    StructField('f5_1', StringType(), True), \n",
      "    StructField('f1_2', StringType(), True), \n",
      "    StructField('f2_2', StringType(), True), \n",
      "    StructField('f6_1', StringType(), True), \n",
      "    StructField('f2_3', StringType(), True), \n",
      "    StructField('f4_1', StringType(), True), \n",
      "    StructField('f2_4', StringType(), True), \n",
      "    StructField('f5_2', StringType(), True), \n",
      "    StructField('f2_5', StringType(), True), \n",
      "    StructField('f6_2', StringType(), True), \n",
      "    StructField('f1_3', StringType(), True), \n",
      "    StructField('f2_6', StringType(), True), \n",
      "    StructField('f5_3', StringType(), True), \n",
      "    StructField('f4_2', StringType(), True), \n",
      "    StructField('f2_7', StringType(), True), \n",
      "    StructField('f3_1', StringType(), True), \n",
      "    StructField('f2_8', StringType(), True), \n",
      "    StructField('f5_4', StringType(), True), \n",
      "    StructField('f3_2', StringType(), True), \n",
      "    StructField('f1_4', StringType(), True), \n",
      "    StructField('f3_3', StringType(), True), \n",
      "    StructField('f1_5', StringType(), True), \n",
      "    StructField('f5_5', StringType(), True), \n",
      "    StructField('f6_3', StringType(), True), \n",
      "    StructField('f1_6', StringType(), True), \n",
      "    StructField('f5_6', StringType(), True), \n",
      "    StructField('f2_9', StringType(), True), \n",
      "    StructField('f3_4', StringType(), True), \n",
      "    StructField('f4_3', StringType(), True), \n",
      "    StructField('f2_10', StringType(), True), \n",
      "    StructField('f1_7', StringType(), True), \n",
      "    StructField('f6_4', StringType(), True), \n",
      "    StructField('f4_4', StringType(), True), \n",
      "    StructField('f5_7', StringType(), True), \n",
      "    StructField('f3_5', StringType(), True), \n",
      "    StructField('f2_11', StringType(), True), \n",
      "    StructField('id', IntegerType(), True)])\n"
     ]
    }
   ],
   "source": [
    "## Let's make that a bit more readable\n",
    "\n",
    "from composable.string import replace\n",
    "from composable import pipeable\n",
    "\n",
    "str_ = pipeable(str)\n",
    "print_ = pipeable(print)\n",
    "\n",
    "spark_type = get_spark_types(survey)\n",
    "_ = (spark_type \n",
    "     >> str_ \n",
    "     >> replace('StructField', '\\n    StructField')\n",
    "     >> print_)"
   ]
  },
  {
   "cell_type": "markdown",
   "metadata": {},
   "source": [
    "#### Step 3. Create the `pyspark` data frame"
   ]
  },
  {
   "cell_type": "code",
   "execution_count": 11,
   "metadata": {},
   "outputs": [
    {
     "name": "stdout",
     "output_type": "stream",
     "text": [
      "22/11/02 19:59:52 WARN Utils: Your hostname, jt7372wd222 resolves to a loopback address: 127.0.1.1; using 172.30.78.219 instead (on interface eth0)\n",
      "22/11/02 19:59:52 WARN Utils: Set SPARK_LOCAL_IP if you need to bind to another address\n"
     ]
    },
    {
     "name": "stderr",
     "output_type": "stream",
     "text": [
      "Setting default log level to \"WARN\".\n",
      "To adjust logging level use sc.setLogLevel(newLevel). For SparkR, use setLogLevel(newLevel).\n"
     ]
    },
    {
     "name": "stdout",
     "output_type": "stream",
     "text": [
      "22/11/02 19:59:54 WARN NativeCodeLoader: Unable to load native-hadoop library for your platform... using builtin-java classes where applicable\n"
     ]
    }
   ],
   "source": [
    "from pyspark.sql import SparkSession\n",
    "spark = SparkSession.builder.appName('Ops').getOrCreate()"
   ]
  },
  {
   "cell_type": "code",
   "execution_count": 12,
   "metadata": {
    "scrolled": true
   },
   "outputs": [
    {
     "data": {
      "text/plain": [
       "DataFrame[f1: string, f5: string, f2: string, f1_1: string, f2_1: string, f6: string, f4: string, f3: string, f5_1: string, f1_2: string, f2_2: string, f6_1: string, f2_3: string, f4_1: string, f2_4: string, f5_2: string, f2_5: string, f6_2: string, f1_3: string, f2_6: string, f5_3: string, f4_2: string, f2_7: string, f3_1: string, f2_8: string, f5_4: string, f3_2: string, f1_4: string, f3_3: string, f1_5: string, f5_5: string, f6_3: string, f1_6: string, f5_6: string, f2_9: string, f3_4: string, f4_3: string, f2_10: string, f1_7: string, f6_4: string, f4_4: string, f5_7: string, f3_5: string, f2_11: string, id: int]"
      ]
     },
     "execution_count": 12,
     "metadata": {},
     "output_type": "execute_result"
    }
   ],
   "source": [
    "survey_spark = spark.createDataFrame(survey ,schema=spark_type)\n",
    "survey_spark"
   ]
  },
  {
   "cell_type": "markdown",
   "metadata": {},
   "source": [
    "# `pyspark` helpers from `more_pyspark`\n",
    "\n",
    "I have created similar `select` helpers for `pyspark` similar to the `dfply` helpers such as `columns_from`."
   ]
  },
  {
   "cell_type": "code",
   "execution_count": 13,
   "metadata": {},
   "outputs": [],
   "source": [
    "from more_pyspark import all_but, col_startswith, col_endswith, col_contains, cols_to, cols_from, cols_between, to_pandas"
   ]
  },
  {
   "cell_type": "markdown",
   "metadata": {},
   "source": [
    "## `pyspark` helper details\n",
    "\n",
    "* Require the column names\n",
    "* Two embedded forms\n",
    "    * `col_startswith('f1',survey_spark.columns)`\n",
    "    * `survey_spark.columns >>  col_startswith('f1')`\n",
    "* Or just save first"
   ]
  },
  {
   "cell_type": "markdown",
   "metadata": {},
   "source": [
    "#### Function call"
   ]
  },
  {
   "cell_type": "code",
   "execution_count": 15,
   "metadata": {},
   "outputs": [
    {
     "data": {
      "text/html": [
       "<div>\n",
       "<style scoped>\n",
       "    .dataframe tbody tr th:only-of-type {\n",
       "        vertical-align: middle;\n",
       "    }\n",
       "\n",
       "    .dataframe tbody tr th {\n",
       "        vertical-align: top;\n",
       "    }\n",
       "\n",
       "    .dataframe thead th {\n",
       "        text-align: right;\n",
       "    }\n",
       "</style>\n",
       "<table border=\"1\" class=\"dataframe\">\n",
       "  <thead>\n",
       "    <tr style=\"text-align: right;\">\n",
       "      <th></th>\n",
       "      <th>f1</th>\n",
       "      <th>f1_1</th>\n",
       "      <th>f1_2</th>\n",
       "      <th>f1_3</th>\n",
       "      <th>f1_4</th>\n",
       "      <th>f1_5</th>\n",
       "      <th>f1_6</th>\n",
       "      <th>f1_7</th>\n",
       "    </tr>\n",
       "  </thead>\n",
       "  <tbody>\n",
       "    <tr>\n",
       "      <th>0</th>\n",
       "      <td>Somewhat Agree</td>\n",
       "      <td>Somewhat Agree</td>\n",
       "      <td>Somewhat Agree</td>\n",
       "      <td>Somewhat Agree</td>\n",
       "      <td>Neither Agree nor Disagree</td>\n",
       "      <td>Somewhat Agree</td>\n",
       "      <td>Somewhat Agree</td>\n",
       "      <td>Somewhat Agree</td>\n",
       "    </tr>\n",
       "    <tr>\n",
       "      <th>1</th>\n",
       "      <td>Somewhat Agree</td>\n",
       "      <td>Somewhat Agree</td>\n",
       "      <td>Somewhat Agree</td>\n",
       "      <td>Somewhat Agree</td>\n",
       "      <td>Somewhat Agree</td>\n",
       "      <td>Neither Agree nor Disagree</td>\n",
       "      <td>Somewhat Agree</td>\n",
       "      <td>Somewhat Agree</td>\n",
       "    </tr>\n",
       "  </tbody>\n",
       "</table>\n",
       "</div>"
      ],
      "text/plain": [
       "               f1            f1_1            f1_2            f1_3  \\\n",
       "0  Somewhat Agree  Somewhat Agree  Somewhat Agree  Somewhat Agree   \n",
       "1  Somewhat Agree  Somewhat Agree  Somewhat Agree  Somewhat Agree   \n",
       "\n",
       "                         f1_4                        f1_5            f1_6  \\\n",
       "0  Neither Agree nor Disagree              Somewhat Agree  Somewhat Agree   \n",
       "1              Somewhat Agree  Neither Agree nor Disagree  Somewhat Agree   \n",
       "\n",
       "             f1_7  \n",
       "0  Somewhat Agree  \n",
       "1  Somewhat Agree  "
      ]
     },
     "execution_count": 15,
     "metadata": {},
     "output_type": "execute_result"
    }
   ],
   "source": [
    "(survey_spark\n",
    "   .select(col_startswith('f1',survey_spark.columns))\n",
    "   .take(2)\n",
    ") >> to_pandas"
   ]
  },
  {
   "cell_type": "markdown",
   "metadata": {},
   "source": [
    "#### Embedded pipe"
   ]
  },
  {
   "cell_type": "code",
   "execution_count": 16,
   "metadata": {},
   "outputs": [
    {
     "data": {
      "text/html": [
       "<div>\n",
       "<style scoped>\n",
       "    .dataframe tbody tr th:only-of-type {\n",
       "        vertical-align: middle;\n",
       "    }\n",
       "\n",
       "    .dataframe tbody tr th {\n",
       "        vertical-align: top;\n",
       "    }\n",
       "\n",
       "    .dataframe thead th {\n",
       "        text-align: right;\n",
       "    }\n",
       "</style>\n",
       "<table border=\"1\" class=\"dataframe\">\n",
       "  <thead>\n",
       "    <tr style=\"text-align: right;\">\n",
       "      <th></th>\n",
       "      <th>f1</th>\n",
       "      <th>f1_1</th>\n",
       "      <th>f1_2</th>\n",
       "      <th>f1_3</th>\n",
       "      <th>f1_4</th>\n",
       "      <th>f1_5</th>\n",
       "      <th>f1_6</th>\n",
       "      <th>f1_7</th>\n",
       "    </tr>\n",
       "  </thead>\n",
       "  <tbody>\n",
       "    <tr>\n",
       "      <th>0</th>\n",
       "      <td>Somewhat Agree</td>\n",
       "      <td>Somewhat Agree</td>\n",
       "      <td>Somewhat Agree</td>\n",
       "      <td>Somewhat Agree</td>\n",
       "      <td>Neither Agree nor Disagree</td>\n",
       "      <td>Somewhat Agree</td>\n",
       "      <td>Somewhat Agree</td>\n",
       "      <td>Somewhat Agree</td>\n",
       "    </tr>\n",
       "    <tr>\n",
       "      <th>1</th>\n",
       "      <td>Somewhat Agree</td>\n",
       "      <td>Somewhat Agree</td>\n",
       "      <td>Somewhat Agree</td>\n",
       "      <td>Somewhat Agree</td>\n",
       "      <td>Somewhat Agree</td>\n",
       "      <td>Neither Agree nor Disagree</td>\n",
       "      <td>Somewhat Agree</td>\n",
       "      <td>Somewhat Agree</td>\n",
       "    </tr>\n",
       "  </tbody>\n",
       "</table>\n",
       "</div>"
      ],
      "text/plain": [
       "               f1            f1_1            f1_2            f1_3  \\\n",
       "0  Somewhat Agree  Somewhat Agree  Somewhat Agree  Somewhat Agree   \n",
       "1  Somewhat Agree  Somewhat Agree  Somewhat Agree  Somewhat Agree   \n",
       "\n",
       "                         f1_4                        f1_5            f1_6  \\\n",
       "0  Neither Agree nor Disagree              Somewhat Agree  Somewhat Agree   \n",
       "1              Somewhat Agree  Neither Agree nor Disagree  Somewhat Agree   \n",
       "\n",
       "             f1_7  \n",
       "0  Somewhat Agree  \n",
       "1  Somewhat Agree  "
      ]
     },
     "execution_count": 16,
     "metadata": {},
     "output_type": "execute_result"
    }
   ],
   "source": [
    "(survey_spark\n",
    ".select(survey_spark.columns \n",
    "        >> col_startswith('f1'))\n",
    ".take(2)\n",
    ") >> to_pandas\n"
   ]
  },
  {
   "cell_type": "markdown",
   "metadata": {},
   "source": [
    "#### Save first"
   ]
  },
  {
   "cell_type": "code",
   "execution_count": 17,
   "metadata": {},
   "outputs": [
    {
     "data": {
      "text/html": [
       "<div>\n",
       "<style scoped>\n",
       "    .dataframe tbody tr th:only-of-type {\n",
       "        vertical-align: middle;\n",
       "    }\n",
       "\n",
       "    .dataframe tbody tr th {\n",
       "        vertical-align: top;\n",
       "    }\n",
       "\n",
       "    .dataframe thead th {\n",
       "        text-align: right;\n",
       "    }\n",
       "</style>\n",
       "<table border=\"1\" class=\"dataframe\">\n",
       "  <thead>\n",
       "    <tr style=\"text-align: right;\">\n",
       "      <th></th>\n",
       "      <th>f1</th>\n",
       "      <th>f1_1</th>\n",
       "      <th>f1_2</th>\n",
       "      <th>f1_3</th>\n",
       "      <th>f1_4</th>\n",
       "      <th>f1_5</th>\n",
       "      <th>f1_6</th>\n",
       "      <th>f1_7</th>\n",
       "    </tr>\n",
       "  </thead>\n",
       "  <tbody>\n",
       "    <tr>\n",
       "      <th>0</th>\n",
       "      <td>Somewhat Agree</td>\n",
       "      <td>Somewhat Agree</td>\n",
       "      <td>Somewhat Agree</td>\n",
       "      <td>Somewhat Agree</td>\n",
       "      <td>Neither Agree nor Disagree</td>\n",
       "      <td>Somewhat Agree</td>\n",
       "      <td>Somewhat Agree</td>\n",
       "      <td>Somewhat Agree</td>\n",
       "    </tr>\n",
       "    <tr>\n",
       "      <th>1</th>\n",
       "      <td>Somewhat Agree</td>\n",
       "      <td>Somewhat Agree</td>\n",
       "      <td>Somewhat Agree</td>\n",
       "      <td>Somewhat Agree</td>\n",
       "      <td>Somewhat Agree</td>\n",
       "      <td>Neither Agree nor Disagree</td>\n",
       "      <td>Somewhat Agree</td>\n",
       "      <td>Somewhat Agree</td>\n",
       "    </tr>\n",
       "  </tbody>\n",
       "</table>\n",
       "</div>"
      ],
      "text/plain": [
       "               f1            f1_1            f1_2            f1_3  \\\n",
       "0  Somewhat Agree  Somewhat Agree  Somewhat Agree  Somewhat Agree   \n",
       "1  Somewhat Agree  Somewhat Agree  Somewhat Agree  Somewhat Agree   \n",
       "\n",
       "                         f1_4                        f1_5            f1_6  \\\n",
       "0  Neither Agree nor Disagree              Somewhat Agree  Somewhat Agree   \n",
       "1              Somewhat Agree  Neither Agree nor Disagree  Somewhat Agree   \n",
       "\n",
       "             f1_7  \n",
       "0  Somewhat Agree  \n",
       "1  Somewhat Agree  "
      ]
     },
     "execution_count": 17,
     "metadata": {},
     "output_type": "execute_result"
    }
   ],
   "source": [
    "\n",
    "f1_cols = (survey_spark.columns >>  col_startswith('f1'))\n",
    "\n",
    "(survey_spark\n",
    "   .select(f1_cols)\n",
    "   .take(2)\n",
    ") >> to_pandas"
   ]
  },
  {
   "cell_type": "markdown",
   "metadata": {},
   "source": [
    "#### `all_but`"
   ]
  },
  {
   "cell_type": "code",
   "execution_count": 18,
   "metadata": {},
   "outputs": [
    {
     "data": {
      "text/html": [
       "<div>\n",
       "<style scoped>\n",
       "    .dataframe tbody tr th:only-of-type {\n",
       "        vertical-align: middle;\n",
       "    }\n",
       "\n",
       "    .dataframe tbody tr th {\n",
       "        vertical-align: top;\n",
       "    }\n",
       "\n",
       "    .dataframe thead th {\n",
       "        text-align: right;\n",
       "    }\n",
       "</style>\n",
       "<table border=\"1\" class=\"dataframe\">\n",
       "  <thead>\n",
       "    <tr style=\"text-align: right;\">\n",
       "      <th></th>\n",
       "      <th>f5</th>\n",
       "      <th>f2</th>\n",
       "      <th>f1_1</th>\n",
       "      <th>f2_1</th>\n",
       "      <th>f6</th>\n",
       "      <th>f4</th>\n",
       "      <th>f3</th>\n",
       "      <th>f5_1</th>\n",
       "      <th>f1_2</th>\n",
       "      <th>f2_2</th>\n",
       "      <th>...</th>\n",
       "      <th>f3_4</th>\n",
       "      <th>f4_3</th>\n",
       "      <th>f2_10</th>\n",
       "      <th>f1_7</th>\n",
       "      <th>f6_4</th>\n",
       "      <th>f4_4</th>\n",
       "      <th>f5_7</th>\n",
       "      <th>f3_5</th>\n",
       "      <th>f2_11</th>\n",
       "      <th>id</th>\n",
       "    </tr>\n",
       "  </thead>\n",
       "  <tbody>\n",
       "    <tr>\n",
       "      <th>0</th>\n",
       "      <td>Somewhat Disagree</td>\n",
       "      <td>Somewhat Agree</td>\n",
       "      <td>Somewhat Agree</td>\n",
       "      <td>Somewhat Agree</td>\n",
       "      <td>Somewhat Disagree</td>\n",
       "      <td>Somewhat Agree</td>\n",
       "      <td>Somewhat Agree</td>\n",
       "      <td>Somewhat Agree</td>\n",
       "      <td>Somewhat Agree</td>\n",
       "      <td>Somewhat Agree</td>\n",
       "      <td>...</td>\n",
       "      <td>Somewhat Disagree</td>\n",
       "      <td>Neither Agree nor Disagree</td>\n",
       "      <td>Somewhat Agree</td>\n",
       "      <td>Somewhat Agree</td>\n",
       "      <td>Somewhat Agree</td>\n",
       "      <td>Somewhat Agree</td>\n",
       "      <td>Somewhat Agree</td>\n",
       "      <td>Somewhat Agree</td>\n",
       "      <td>Somewhat Agree</td>\n",
       "      <td>0</td>\n",
       "    </tr>\n",
       "    <tr>\n",
       "      <th>1</th>\n",
       "      <td>Somewhat Disagree</td>\n",
       "      <td>Somewhat Agree</td>\n",
       "      <td>Somewhat Agree</td>\n",
       "      <td>Somewhat Agree</td>\n",
       "      <td>Somewhat Disagree</td>\n",
       "      <td>Somewhat Agree</td>\n",
       "      <td>Neither Agree nor Disagree</td>\n",
       "      <td>Neither Agree nor Disagree</td>\n",
       "      <td>Somewhat Agree</td>\n",
       "      <td>Neither Agree nor Disagree</td>\n",
       "      <td>...</td>\n",
       "      <td>Somewhat Agree</td>\n",
       "      <td>Neither Agree nor Disagree</td>\n",
       "      <td>Somewhat Agree</td>\n",
       "      <td>Somewhat Agree</td>\n",
       "      <td>Somewhat Disagree</td>\n",
       "      <td>Neither Agree nor Disagree</td>\n",
       "      <td>Somewhat Agree</td>\n",
       "      <td>Neither Agree nor Disagree</td>\n",
       "      <td>Somewhat Agree</td>\n",
       "      <td>1</td>\n",
       "    </tr>\n",
       "  </tbody>\n",
       "</table>\n",
       "<p>2 rows × 44 columns</p>\n",
       "</div>"
      ],
      "text/plain": [
       "                  f5              f2            f1_1            f2_1  \\\n",
       "0  Somewhat Disagree  Somewhat Agree  Somewhat Agree  Somewhat Agree   \n",
       "1  Somewhat Disagree  Somewhat Agree  Somewhat Agree  Somewhat Agree   \n",
       "\n",
       "                  f6              f4                          f3  \\\n",
       "0  Somewhat Disagree  Somewhat Agree              Somewhat Agree   \n",
       "1  Somewhat Disagree  Somewhat Agree  Neither Agree nor Disagree   \n",
       "\n",
       "                         f5_1            f1_2                        f2_2  \\\n",
       "0              Somewhat Agree  Somewhat Agree              Somewhat Agree   \n",
       "1  Neither Agree nor Disagree  Somewhat Agree  Neither Agree nor Disagree   \n",
       "\n",
       "   ...               f3_4                        f4_3           f2_10  \\\n",
       "0  ...  Somewhat Disagree  Neither Agree nor Disagree  Somewhat Agree   \n",
       "1  ...     Somewhat Agree  Neither Agree nor Disagree  Somewhat Agree   \n",
       "\n",
       "             f1_7               f6_4                        f4_4  \\\n",
       "0  Somewhat Agree     Somewhat Agree              Somewhat Agree   \n",
       "1  Somewhat Agree  Somewhat Disagree  Neither Agree nor Disagree   \n",
       "\n",
       "             f5_7                        f3_5           f2_11 id  \n",
       "0  Somewhat Agree              Somewhat Agree  Somewhat Agree  0  \n",
       "1  Somewhat Agree  Neither Agree nor Disagree  Somewhat Agree  1  \n",
       "\n",
       "[2 rows x 44 columns]"
      ]
     },
     "execution_count": 18,
     "metadata": {},
     "output_type": "execute_result"
    }
   ],
   "source": [
    "(survey_spark\n",
    ".select(survey_spark.columns \n",
    "       >> all_but('f1'))\n",
    ".take(2)\n",
    ") >> to_pandas"
   ]
  },
  {
   "cell_type": "markdown",
   "metadata": {},
   "source": [
    "#### Composing `all_but`"
   ]
  },
  {
   "cell_type": "code",
   "execution_count": 19,
   "metadata": {},
   "outputs": [
    {
     "data": {
      "text/html": [
       "<div>\n",
       "<style scoped>\n",
       "    .dataframe tbody tr th:only-of-type {\n",
       "        vertical-align: middle;\n",
       "    }\n",
       "\n",
       "    .dataframe tbody tr th {\n",
       "        vertical-align: top;\n",
       "    }\n",
       "\n",
       "    .dataframe thead th {\n",
       "        text-align: right;\n",
       "    }\n",
       "</style>\n",
       "<table border=\"1\" class=\"dataframe\">\n",
       "  <thead>\n",
       "    <tr style=\"text-align: right;\">\n",
       "      <th></th>\n",
       "      <th>f1</th>\n",
       "      <th>f5</th>\n",
       "      <th>f2</th>\n",
       "      <th>f6</th>\n",
       "      <th>f4</th>\n",
       "      <th>f3</th>\n",
       "      <th>id</th>\n",
       "    </tr>\n",
       "  </thead>\n",
       "  <tbody>\n",
       "    <tr>\n",
       "      <th>0</th>\n",
       "      <td>Somewhat Agree</td>\n",
       "      <td>Somewhat Disagree</td>\n",
       "      <td>Somewhat Agree</td>\n",
       "      <td>Somewhat Disagree</td>\n",
       "      <td>Somewhat Agree</td>\n",
       "      <td>Somewhat Agree</td>\n",
       "      <td>0</td>\n",
       "    </tr>\n",
       "    <tr>\n",
       "      <th>1</th>\n",
       "      <td>Somewhat Agree</td>\n",
       "      <td>Somewhat Disagree</td>\n",
       "      <td>Somewhat Agree</td>\n",
       "      <td>Somewhat Disagree</td>\n",
       "      <td>Somewhat Agree</td>\n",
       "      <td>Neither Agree nor Disagree</td>\n",
       "      <td>1</td>\n",
       "    </tr>\n",
       "  </tbody>\n",
       "</table>\n",
       "</div>"
      ],
      "text/plain": [
       "               f1                 f5              f2                 f6  \\\n",
       "0  Somewhat Agree  Somewhat Disagree  Somewhat Agree  Somewhat Disagree   \n",
       "1  Somewhat Agree  Somewhat Disagree  Somewhat Agree  Somewhat Disagree   \n",
       "\n",
       "               f4                          f3  id  \n",
       "0  Somewhat Agree              Somewhat Agree   0  \n",
       "1  Somewhat Agree  Neither Agree nor Disagree   1  "
      ]
     },
     "execution_count": 19,
     "metadata": {},
     "output_type": "execute_result"
    }
   ],
   "source": [
    "has_underscore = survey_spark.columns >> col_contains('_')\n",
    "no_underscore = survey_spark.columns >> all_but(has_underscore)\n",
    "                 \n",
    "(survey_spark.\n",
    "   select(no_underscore).\n",
    "   take(2)) >> to_pandas"
   ]
  },
  {
   "cell_type": "markdown",
   "metadata": {},
   "source": [
    "#### Endwith"
   ]
  },
  {
   "cell_type": "code",
   "execution_count": 20,
   "metadata": {},
   "outputs": [
    {
     "data": {
      "text/html": [
       "<div>\n",
       "<style scoped>\n",
       "    .dataframe tbody tr th:only-of-type {\n",
       "        vertical-align: middle;\n",
       "    }\n",
       "\n",
       "    .dataframe tbody tr th {\n",
       "        vertical-align: top;\n",
       "    }\n",
       "\n",
       "    .dataframe thead th {\n",
       "        text-align: right;\n",
       "    }\n",
       "</style>\n",
       "<table border=\"1\" class=\"dataframe\">\n",
       "  <thead>\n",
       "    <tr style=\"text-align: right;\">\n",
       "      <th></th>\n",
       "      <th>f1_2</th>\n",
       "      <th>f2_2</th>\n",
       "      <th>f5_2</th>\n",
       "      <th>f6_2</th>\n",
       "      <th>f4_2</th>\n",
       "      <th>f3_2</th>\n",
       "    </tr>\n",
       "  </thead>\n",
       "  <tbody>\n",
       "    <tr>\n",
       "      <th>0</th>\n",
       "      <td>Somewhat Agree</td>\n",
       "      <td>Somewhat Agree</td>\n",
       "      <td>Somewhat Agree</td>\n",
       "      <td>Somewhat Agree</td>\n",
       "      <td>Somewhat Agree</td>\n",
       "      <td>Somewhat Agree</td>\n",
       "    </tr>\n",
       "    <tr>\n",
       "      <th>1</th>\n",
       "      <td>Somewhat Agree</td>\n",
       "      <td>Neither Agree nor Disagree</td>\n",
       "      <td>Somewhat Agree</td>\n",
       "      <td>Somewhat Agree</td>\n",
       "      <td>Somewhat Agree</td>\n",
       "      <td>Neither Agree nor Disagree</td>\n",
       "    </tr>\n",
       "  </tbody>\n",
       "</table>\n",
       "</div>"
      ],
      "text/plain": [
       "             f1_2                        f2_2            f5_2            f6_2  \\\n",
       "0  Somewhat Agree              Somewhat Agree  Somewhat Agree  Somewhat Agree   \n",
       "1  Somewhat Agree  Neither Agree nor Disagree  Somewhat Agree  Somewhat Agree   \n",
       "\n",
       "             f4_2                        f3_2  \n",
       "0  Somewhat Agree              Somewhat Agree  \n",
       "1  Somewhat Agree  Neither Agree nor Disagree  "
      ]
     },
     "execution_count": 20,
     "metadata": {},
     "output_type": "execute_result"
    }
   ],
   "source": [
    "(survey_spark\n",
    "   .select((survey_spark.columns \n",
    "            >> col_endswith('_2')))\n",
    "   .take(2)) >> to_pandas"
   ]
  },
  {
   "cell_type": "markdown",
   "metadata": {},
   "source": [
    "#### Contains"
   ]
  },
  {
   "cell_type": "code",
   "execution_count": 21,
   "metadata": {},
   "outputs": [
    {
     "data": {
      "text/html": [
       "<div>\n",
       "<style scoped>\n",
       "    .dataframe tbody tr th:only-of-type {\n",
       "        vertical-align: middle;\n",
       "    }\n",
       "\n",
       "    .dataframe tbody tr th {\n",
       "        vertical-align: top;\n",
       "    }\n",
       "\n",
       "    .dataframe thead th {\n",
       "        text-align: right;\n",
       "    }\n",
       "</style>\n",
       "<table border=\"1\" class=\"dataframe\">\n",
       "  <thead>\n",
       "    <tr style=\"text-align: right;\">\n",
       "      <th></th>\n",
       "      <th>f6_1</th>\n",
       "      <th>f6_2</th>\n",
       "      <th>f6_3</th>\n",
       "      <th>f6_4</th>\n",
       "    </tr>\n",
       "  </thead>\n",
       "  <tbody>\n",
       "    <tr>\n",
       "      <th>0</th>\n",
       "      <td>Somewhat Agree</td>\n",
       "      <td>Somewhat Agree</td>\n",
       "      <td>Somewhat Disagree</td>\n",
       "      <td>Somewhat Agree</td>\n",
       "    </tr>\n",
       "    <tr>\n",
       "      <th>1</th>\n",
       "      <td>Somewhat Agree</td>\n",
       "      <td>Somewhat Agree</td>\n",
       "      <td>Somewhat Disagree</td>\n",
       "      <td>Somewhat Disagree</td>\n",
       "    </tr>\n",
       "  </tbody>\n",
       "</table>\n",
       "</div>"
      ],
      "text/plain": [
       "             f6_1            f6_2               f6_3               f6_4\n",
       "0  Somewhat Agree  Somewhat Agree  Somewhat Disagree     Somewhat Agree\n",
       "1  Somewhat Agree  Somewhat Agree  Somewhat Disagree  Somewhat Disagree"
      ]
     },
     "execution_count": 21,
     "metadata": {},
     "output_type": "execute_result"
    }
   ],
   "source": [
    "(survey_spark\n",
    "   .select((survey_spark.columns \n",
    "            >> col_contains('6_')))\n",
    "   .take(2)) >> to_pandas"
   ]
  },
  {
   "cell_type": "markdown",
   "metadata": {},
   "source": [
    "#### Columns up to"
   ]
  },
  {
   "cell_type": "code",
   "execution_count": 22,
   "metadata": {},
   "outputs": [
    {
     "data": {
      "text/html": [
       "<div>\n",
       "<style scoped>\n",
       "    .dataframe tbody tr th:only-of-type {\n",
       "        vertical-align: middle;\n",
       "    }\n",
       "\n",
       "    .dataframe tbody tr th {\n",
       "        vertical-align: top;\n",
       "    }\n",
       "\n",
       "    .dataframe thead th {\n",
       "        text-align: right;\n",
       "    }\n",
       "</style>\n",
       "<table border=\"1\" class=\"dataframe\">\n",
       "  <thead>\n",
       "    <tr style=\"text-align: right;\">\n",
       "      <th></th>\n",
       "      <th>f1</th>\n",
       "      <th>f5</th>\n",
       "      <th>f2</th>\n",
       "      <th>f1_1</th>\n",
       "    </tr>\n",
       "  </thead>\n",
       "  <tbody>\n",
       "    <tr>\n",
       "      <th>0</th>\n",
       "      <td>Somewhat Agree</td>\n",
       "      <td>Somewhat Disagree</td>\n",
       "      <td>Somewhat Agree</td>\n",
       "      <td>Somewhat Agree</td>\n",
       "    </tr>\n",
       "    <tr>\n",
       "      <th>1</th>\n",
       "      <td>Somewhat Agree</td>\n",
       "      <td>Somewhat Disagree</td>\n",
       "      <td>Somewhat Agree</td>\n",
       "      <td>Somewhat Agree</td>\n",
       "    </tr>\n",
       "  </tbody>\n",
       "</table>\n",
       "</div>"
      ],
      "text/plain": [
       "               f1                 f5              f2            f1_1\n",
       "0  Somewhat Agree  Somewhat Disagree  Somewhat Agree  Somewhat Agree\n",
       "1  Somewhat Agree  Somewhat Disagree  Somewhat Agree  Somewhat Agree"
      ]
     },
     "execution_count": 22,
     "metadata": {},
     "output_type": "execute_result"
    }
   ],
   "source": [
    "(survey_spark\n",
    "   .select((survey_spark.columns \n",
    "            >> cols_to('f1_1')))\n",
    "   .take(2)) >> to_pandas"
   ]
  },
  {
   "cell_type": "markdown",
   "metadata": {},
   "source": [
    "#### Columns from"
   ]
  },
  {
   "cell_type": "code",
   "execution_count": 23,
   "metadata": {},
   "outputs": [
    {
     "data": {
      "text/html": [
       "<div>\n",
       "<style scoped>\n",
       "    .dataframe tbody tr th:only-of-type {\n",
       "        vertical-align: middle;\n",
       "    }\n",
       "\n",
       "    .dataframe tbody tr th {\n",
       "        vertical-align: top;\n",
       "    }\n",
       "\n",
       "    .dataframe thead th {\n",
       "        text-align: right;\n",
       "    }\n",
       "</style>\n",
       "<table border=\"1\" class=\"dataframe\">\n",
       "  <thead>\n",
       "    <tr style=\"text-align: right;\">\n",
       "      <th></th>\n",
       "      <th>f6_4</th>\n",
       "      <th>f4_4</th>\n",
       "      <th>f5_7</th>\n",
       "      <th>f3_5</th>\n",
       "      <th>f2_11</th>\n",
       "      <th>id</th>\n",
       "    </tr>\n",
       "  </thead>\n",
       "  <tbody>\n",
       "    <tr>\n",
       "      <th>0</th>\n",
       "      <td>Somewhat Agree</td>\n",
       "      <td>Somewhat Agree</td>\n",
       "      <td>Somewhat Agree</td>\n",
       "      <td>Somewhat Agree</td>\n",
       "      <td>Somewhat Agree</td>\n",
       "      <td>0</td>\n",
       "    </tr>\n",
       "    <tr>\n",
       "      <th>1</th>\n",
       "      <td>Somewhat Disagree</td>\n",
       "      <td>Neither Agree nor Disagree</td>\n",
       "      <td>Somewhat Agree</td>\n",
       "      <td>Neither Agree nor Disagree</td>\n",
       "      <td>Somewhat Agree</td>\n",
       "      <td>1</td>\n",
       "    </tr>\n",
       "  </tbody>\n",
       "</table>\n",
       "</div>"
      ],
      "text/plain": [
       "                f6_4                        f4_4            f5_7  \\\n",
       "0     Somewhat Agree              Somewhat Agree  Somewhat Agree   \n",
       "1  Somewhat Disagree  Neither Agree nor Disagree  Somewhat Agree   \n",
       "\n",
       "                         f3_5           f2_11  id  \n",
       "0              Somewhat Agree  Somewhat Agree   0  \n",
       "1  Neither Agree nor Disagree  Somewhat Agree   1  "
      ]
     },
     "execution_count": 23,
     "metadata": {},
     "output_type": "execute_result"
    }
   ],
   "source": [
    "(survey_spark\n",
    "   .select((survey_spark.columns \n",
    "            >> cols_from('f6_4')))\n",
    "   .take(2)) >> to_pandas"
   ]
  },
  {
   "cell_type": "markdown",
   "metadata": {},
   "source": [
    "#### Columns between"
   ]
  },
  {
   "cell_type": "code",
   "execution_count": 24,
   "metadata": {},
   "outputs": [
    {
     "data": {
      "text/html": [
       "<div>\n",
       "<style scoped>\n",
       "    .dataframe tbody tr th:only-of-type {\n",
       "        vertical-align: middle;\n",
       "    }\n",
       "\n",
       "    .dataframe tbody tr th {\n",
       "        vertical-align: top;\n",
       "    }\n",
       "\n",
       "    .dataframe thead th {\n",
       "        text-align: right;\n",
       "    }\n",
       "</style>\n",
       "<table border=\"1\" class=\"dataframe\">\n",
       "  <thead>\n",
       "    <tr style=\"text-align: right;\">\n",
       "      <th></th>\n",
       "      <th>f1_1</th>\n",
       "      <th>f2_1</th>\n",
       "      <th>f6</th>\n",
       "      <th>f4</th>\n",
       "      <th>f3</th>\n",
       "      <th>f5_1</th>\n",
       "      <th>f1_2</th>\n",
       "      <th>f2_2</th>\n",
       "    </tr>\n",
       "  </thead>\n",
       "  <tbody>\n",
       "    <tr>\n",
       "      <th>0</th>\n",
       "      <td>Somewhat Agree</td>\n",
       "      <td>Somewhat Agree</td>\n",
       "      <td>Somewhat Disagree</td>\n",
       "      <td>Somewhat Agree</td>\n",
       "      <td>Somewhat Agree</td>\n",
       "      <td>Somewhat Agree</td>\n",
       "      <td>Somewhat Agree</td>\n",
       "      <td>Somewhat Agree</td>\n",
       "    </tr>\n",
       "    <tr>\n",
       "      <th>1</th>\n",
       "      <td>Somewhat Agree</td>\n",
       "      <td>Somewhat Agree</td>\n",
       "      <td>Somewhat Disagree</td>\n",
       "      <td>Somewhat Agree</td>\n",
       "      <td>Neither Agree nor Disagree</td>\n",
       "      <td>Neither Agree nor Disagree</td>\n",
       "      <td>Somewhat Agree</td>\n",
       "      <td>Neither Agree nor Disagree</td>\n",
       "    </tr>\n",
       "  </tbody>\n",
       "</table>\n",
       "</div>"
      ],
      "text/plain": [
       "             f1_1            f2_1                 f6              f4  \\\n",
       "0  Somewhat Agree  Somewhat Agree  Somewhat Disagree  Somewhat Agree   \n",
       "1  Somewhat Agree  Somewhat Agree  Somewhat Disagree  Somewhat Agree   \n",
       "\n",
       "                           f3                        f5_1            f1_2  \\\n",
       "0              Somewhat Agree              Somewhat Agree  Somewhat Agree   \n",
       "1  Neither Agree nor Disagree  Neither Agree nor Disagree  Somewhat Agree   \n",
       "\n",
       "                         f2_2  \n",
       "0              Somewhat Agree  \n",
       "1  Neither Agree nor Disagree  "
      ]
     },
     "execution_count": 24,
     "metadata": {},
     "output_type": "execute_result"
    }
   ],
   "source": [
    "(survey_spark\n",
    " .select((survey_spark.columns \n",
    "          >> cols_between('f1_1', 'f2_2')))\n",
    " .take(2)) >> to_pandas"
   ]
  },
  {
   "cell_type": "markdown",
   "metadata": {},
   "source": [
    "## <font color=\"red\"> Exercise 6.1.1 </font> \n",
    "\n",
    "Use the `pyspark` `select` helper functions to create a table that contains all `F2` and `F3` questions.  \n",
    "\n",
    "\n",
    "**Hint:** `select` helpers return intentions that turn into lists.  Think about how you can combine two lists."
   ]
  },
  {
   "cell_type": "code",
   "execution_count": 51,
   "metadata": {},
   "outputs": [
    {
     "data": {
      "text/html": [
       "<div>\n",
       "<style scoped>\n",
       "    .dataframe tbody tr th:only-of-type {\n",
       "        vertical-align: middle;\n",
       "    }\n",
       "\n",
       "    .dataframe tbody tr th {\n",
       "        vertical-align: top;\n",
       "    }\n",
       "\n",
       "    .dataframe thead th {\n",
       "        text-align: right;\n",
       "    }\n",
       "</style>\n",
       "<table border=\"1\" class=\"dataframe\">\n",
       "  <thead>\n",
       "    <tr style=\"text-align: right;\">\n",
       "      <th></th>\n",
       "      <th>f2</th>\n",
       "      <th>f2_1</th>\n",
       "      <th>f2_2</th>\n",
       "      <th>f2_3</th>\n",
       "      <th>f2_4</th>\n",
       "      <th>f2_5</th>\n",
       "      <th>f2_6</th>\n",
       "      <th>f2_7</th>\n",
       "      <th>f2_8</th>\n",
       "      <th>f2_9</th>\n",
       "      <th>f2_10</th>\n",
       "      <th>f2_11</th>\n",
       "      <th>f3</th>\n",
       "      <th>f3_1</th>\n",
       "      <th>f3_2</th>\n",
       "      <th>f3_3</th>\n",
       "      <th>f3_4</th>\n",
       "      <th>f3_5</th>\n",
       "    </tr>\n",
       "  </thead>\n",
       "  <tbody>\n",
       "    <tr>\n",
       "      <th>0</th>\n",
       "      <td>Somewhat Agree</td>\n",
       "      <td>Somewhat Agree</td>\n",
       "      <td>Somewhat Agree</td>\n",
       "      <td>Somewhat Agree</td>\n",
       "      <td>Somewhat Agree</td>\n",
       "      <td>Somewhat Agree</td>\n",
       "      <td>Somewhat Agree</td>\n",
       "      <td>Somewhat Agree</td>\n",
       "      <td>Somewhat Agree</td>\n",
       "      <td>Somewhat Agree</td>\n",
       "      <td>Somewhat Agree</td>\n",
       "      <td>Somewhat Agree</td>\n",
       "      <td>Somewhat Agree</td>\n",
       "      <td>Somewhat Disagree</td>\n",
       "      <td>Somewhat Agree</td>\n",
       "      <td>Somewhat Agree</td>\n",
       "      <td>Somewhat Disagree</td>\n",
       "      <td>Somewhat Agree</td>\n",
       "    </tr>\n",
       "    <tr>\n",
       "      <th>1</th>\n",
       "      <td>Somewhat Agree</td>\n",
       "      <td>Somewhat Agree</td>\n",
       "      <td>Neither Agree nor Disagree</td>\n",
       "      <td>Somewhat Agree</td>\n",
       "      <td>Somewhat Agree</td>\n",
       "      <td>Somewhat Agree</td>\n",
       "      <td>Somewhat Agree</td>\n",
       "      <td>Somewhat Agree</td>\n",
       "      <td>Somewhat Agree</td>\n",
       "      <td>Somewhat Agree</td>\n",
       "      <td>Somewhat Agree</td>\n",
       "      <td>Somewhat Agree</td>\n",
       "      <td>Neither Agree nor Disagree</td>\n",
       "      <td>Neither Agree nor Disagree</td>\n",
       "      <td>Neither Agree nor Disagree</td>\n",
       "      <td>Neither Agree nor Disagree</td>\n",
       "      <td>Somewhat Agree</td>\n",
       "      <td>Neither Agree nor Disagree</td>\n",
       "    </tr>\n",
       "  </tbody>\n",
       "</table>\n",
       "</div>"
      ],
      "text/plain": [
       "               f2            f2_1                        f2_2            f2_3  \\\n",
       "0  Somewhat Agree  Somewhat Agree              Somewhat Agree  Somewhat Agree   \n",
       "1  Somewhat Agree  Somewhat Agree  Neither Agree nor Disagree  Somewhat Agree   \n",
       "\n",
       "             f2_4            f2_5            f2_6            f2_7  \\\n",
       "0  Somewhat Agree  Somewhat Agree  Somewhat Agree  Somewhat Agree   \n",
       "1  Somewhat Agree  Somewhat Agree  Somewhat Agree  Somewhat Agree   \n",
       "\n",
       "             f2_8            f2_9           f2_10           f2_11  \\\n",
       "0  Somewhat Agree  Somewhat Agree  Somewhat Agree  Somewhat Agree   \n",
       "1  Somewhat Agree  Somewhat Agree  Somewhat Agree  Somewhat Agree   \n",
       "\n",
       "                           f3                        f3_1  \\\n",
       "0              Somewhat Agree           Somewhat Disagree   \n",
       "1  Neither Agree nor Disagree  Neither Agree nor Disagree   \n",
       "\n",
       "                         f3_2                        f3_3               f3_4  \\\n",
       "0              Somewhat Agree              Somewhat Agree  Somewhat Disagree   \n",
       "1  Neither Agree nor Disagree  Neither Agree nor Disagree     Somewhat Agree   \n",
       "\n",
       "                         f3_5  \n",
       "0              Somewhat Agree  \n",
       "1  Neither Agree nor Disagree  "
      ]
     },
     "execution_count": 51,
     "metadata": {},
     "output_type": "execute_result"
    }
   ],
   "source": [
    "# Your code here\n",
    "f2 = survey_spark.columns >> col_contains('f2')\n",
    "f3 = survey_spark.columns >> col_contains('f3')\n",
    "contains_both = f2+f3\n",
    "  \n",
    "(survey_spark.\n",
    "   select(contains_both).\n",
    "   take(2)) >> to_pandas"
   ]
  }
 ],
 "metadata": {
  "kernelspec": {
   "display_name": "Python 3 (ipykernel)",
   "language": "python",
   "name": "python3"
  },
  "language_info": {
   "codemirror_mode": {
    "name": "ipython",
    "version": 3
   },
   "file_extension": ".py",
   "mimetype": "text/x-python",
   "name": "python",
   "nbconvert_exporter": "python",
   "pygments_lexer": "ipython3",
   "version": "3.9.12"
  },
  "nteract": {
   "version": "nteract-on-jupyter@2.0.3"
  },
  "varInspector": {
   "cols": {
    "lenName": 16,
    "lenType": 16,
    "lenVar": 40
   },
   "kernels_config": {
    "python": {
     "delete_cmd_postfix": "",
     "delete_cmd_prefix": "del ",
     "library": "var_list.py",
     "varRefreshCmd": "print(var_dic_list())"
    },
    "r": {
     "delete_cmd_postfix": ") ",
     "delete_cmd_prefix": "rm(",
     "library": "var_list.r",
     "varRefreshCmd": "cat(var_dic_list()) "
    }
   },
   "types_to_exclude": [
    "module",
    "function",
    "builtin_function_or_method",
    "instance",
    "_Feature"
   ],
   "window_display": false
  }
 },
 "nbformat": 4,
 "nbformat_minor": 2
}
