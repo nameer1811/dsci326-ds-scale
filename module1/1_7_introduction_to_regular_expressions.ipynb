{
  "cells": [
    {
      "cell_type": "markdown",
      "metadata": {
        "id": "view-in-github",
        "colab_type": "text"
      },
      "source": [
        "<a href=\"https://colab.research.google.com/github/nameer1811/module1_lectures/blob/main/1_7_introduction_to_regular_expressions.ipynb\" target=\"_parent\"><img src=\"https://colab.research.google.com/assets/colab-badge.svg\" alt=\"Open In Colab\"/></a>"
      ]
    },
    {
      "cell_type": "markdown",
      "metadata": {
        "id": "JYZbCgl04Vo2"
      },
      "source": [
        "## Regular Expressions\n",
        "\n",
        "<img src=\"https://imgs.xkcd.com/comics/regular_expressions.png \" width=400>"
      ]
    },
    {
      "cell_type": "markdown",
      "metadata": {
        "id": "kEAJ__K24VpA"
      },
      "source": [
        "## RegEx Golf\n",
        "\n",
        "<img src=\"https://imgs.xkcd.com/comics/regex_golf.png\" width=600>"
      ]
    },
    {
      "cell_type": "markdown",
      "metadata": {
        "id": "DGkEi7vy4VpC"
      },
      "source": [
        "## Perl Problems\n",
        "\n",
        "    Some people, when confronted with a problem, think \"I know, I'll use regular expressions.\" Now they have two problems. - Jamie Zawinski \n",
        "<img src=\"https://imgs.xkcd.com/comics/perl_problems.png\" width=600>"
      ]
    },
    {
      "cell_type": "markdown",
      "metadata": {
        "id": "F7Ti-cw14VpD"
      },
      "source": [
        "## <font color=\"red\"> Exercise 1 </font>\n",
        "\n",
        "**Question:** What do all of these strings have in common?\n",
        "\n",
        "* `\"ab\"`\n",
        "* `\"abab\"`\n",
        "* `\"ababcde\"`\n",
        "* `\"abcde\"`"
      ]
    },
    {
      "cell_type": "markdown",
      "metadata": {
        "id": "z86JgfPR4VpF"
      },
      "source": [
        "> All these strings have ab in common."
      ]
    },
    {
      "cell_type": "markdown",
      "metadata": {
        "id": "j3wa5WNP4VpH"
      },
      "source": [
        "## <font color=\"red\"> Exercise 2 </font>\n",
        "\n",
        "**Task:** Predict the next three elements of the sequence.\n",
        "\n",
        "* `\"0\"`\n",
        "* `\"1ab\"`\n",
        "* `\"2abab\"`\n",
        "* `\"3ababab\"`\n"
      ]
    },
    {
      "cell_type": "markdown",
      "metadata": {
        "id": "awa3TBbe4VpI"
      },
      "source": [
        "> 4abababab"
      ]
    },
    {
      "cell_type": "markdown",
      "metadata": {
        "id": "S-8nTa6W4VpK"
      },
      "source": [
        "## What is a regular expression\n",
        "\n",
        "* Language for matching regular patterns\n",
        "    * `\"ab\"`\n",
        "    * `\"abab\"`\n",
        "    * `\"ababcde\"`\n",
        "    * `\"abcde\"`\n",
        "* Can't match other, context sensitive, patterns\n",
        "    * `\"0\"`\n",
        "    * `\"1ab\"`\n",
        "    * `\"2abab\"`\n",
        "    * `\"3ababab\"`"
      ]
    },
    {
      "cell_type": "markdown",
      "metadata": {
        "id": "zv-R9hig4VpL"
      },
      "source": [
        "## <font color=\"red\"> Exercise 3 </font>\n",
        "\n",
        "**Tasks:** \n",
        "\n",
        "1. Go to [RegexOne](https://regexone.com/)\n",
        "2. Read the first section\n",
        "3. Define a pattern that matches the first three strings."
      ]
    },
    {
      "cell_type": "code",
      "execution_count": null,
      "metadata": {
        "id": "G-gZcmlC4VpN"
      },
      "outputs": [],
      "source": [
        "pattern1 = \"abc\""
      ]
    },
    {
      "cell_type": "markdown",
      "metadata": {
        "id": "ycIr6KeQ4VpP"
      },
      "source": [
        "## Regular Expressions Workflow in Python\n",
        "\n",
        "* `import re`\n",
        "* Compile a pattern `regex = re.compile(pattern)`\n",
        "    * Use `r\"pattern\"` to avoid escaping symbols\n",
        "* `m = regex.match(some_string)`"
      ]
    },
    {
      "cell_type": "code",
      "execution_count": 1,
      "metadata": {
        "id": "ub5VJygc4VpQ"
      },
      "outputs": [],
      "source": [
        "import re"
      ]
    },
    {
      "cell_type": "code",
      "execution_count": 2,
      "metadata": {
        "id": "6wLQAw1Q4VpQ",
        "outputId": "62734afe-06b9-4c15-93ce-d5b1bccc2b1c",
        "colab": {
          "base_uri": "https://localhost:8080/"
        }
      },
      "outputs": [
        {
          "output_type": "execute_result",
          "data": {
            "text/plain": [
              "<re.Match object; span=(0, 2), match='ab'>"
            ]
          },
          "metadata": {},
          "execution_count": 2
        }
      ],
      "source": [
        "pattern = r\"ab\" # r is for raw\n",
        "regex = re.compile(pattern)\n",
        "m1 = regex.match('abc')\n",
        "m1"
      ]
    },
    {
      "cell_type": "markdown",
      "metadata": {
        "id": "WVFEBJ3Z4VpS"
      },
      "source": [
        "## `match` returns `None` when there is no match"
      ]
    },
    {
      "cell_type": "code",
      "execution_count": null,
      "metadata": {
        "id": "j0fg_blx4VpS"
      },
      "outputs": [],
      "source": [
        "m2 = regex.match('acb')\n",
        "m2"
      ]
    },
    {
      "cell_type": "code",
      "execution_count": null,
      "metadata": {
        "id": "-vRmXGxw4VpS",
        "outputId": "ccd8049a-6c2b-4505-94c7-6bea2ae04a28",
        "colab": {
          "base_uri": "https://localhost:8080/"
        }
      },
      "outputs": [
        {
          "output_type": "execute_result",
          "data": {
            "text/plain": [
              "True"
            ]
          },
          "metadata": {},
          "execution_count": 6
        }
      ],
      "source": [
        "m2 is None"
      ]
    },
    {
      "cell_type": "code",
      "execution_count": null,
      "metadata": {
        "id": "QKyCgRL_4VpT",
        "outputId": "874d121b-8d36-428e-91a8-051a36223738",
        "colab": {
          "base_uri": "https://localhost:8080/"
        }
      },
      "outputs": [
        {
          "output_type": "execute_result",
          "data": {
            "text/plain": [
              "True"
            ]
          },
          "metadata": {},
          "execution_count": 7
        }
      ],
      "source": [
        "not m2 "
      ]
    },
    {
      "cell_type": "markdown",
      "metadata": {
        "id": "LPHDr_GZ4VpT"
      },
      "source": [
        "## The result of a match can be used in Boolean expressions"
      ]
    },
    {
      "cell_type": "code",
      "execution_count": null,
      "metadata": {
        "id": "xTJoRs064VpU",
        "outputId": "67aab8f9-62d1-405d-8189-69a79151215b",
        "colab": {
          "base_uri": "https://localhost:8080/",
          "height": 36
        }
      },
      "outputs": [
        {
          "output_type": "execute_result",
          "data": {
            "text/plain": [
              "'Yes'"
            ],
            "application/vnd.google.colaboratory.intrinsic+json": {
              "type": "string"
            }
          },
          "metadata": {},
          "execution_count": 8
        }
      ],
      "source": [
        "\"Yes\" if m1 else \"No\""
      ]
    },
    {
      "cell_type": "code",
      "execution_count": null,
      "metadata": {
        "id": "djwdVRpM4VpU",
        "outputId": "81725fd3-e0e6-4abe-ec3f-81b6e736ec43",
        "colab": {
          "base_uri": "https://localhost:8080/",
          "height": 36
        }
      },
      "outputs": [
        {
          "output_type": "execute_result",
          "data": {
            "text/plain": [
              "'No'"
            ],
            "application/vnd.google.colaboratory.intrinsic+json": {
              "type": "string"
            }
          },
          "metadata": {},
          "execution_count": 9
        }
      ],
      "source": [
        "\"Yes\" if m2 else \"No\""
      ]
    },
    {
      "cell_type": "markdown",
      "metadata": {
        "id": "Jkf6kfHM4VpV"
      },
      "source": [
        "## <font color=\"red\"> Exercise 4 </font>\n",
        "\n",
        "**Tasks:** Make sure your pattern from <font color=\"red\"> Exercise 3</font> passes the following `assert` statements."
      ]
    },
    {
      "cell_type": "code",
      "execution_count": 3,
      "metadata": {
        "id": "6rZgAGRk4VpW"
      },
      "outputs": [],
      "source": [
        "pattern1 = \"abc\"\n",
        "my_regex = re.compile(pattern1)\n",
        "assert my_regex.search('abcdefg')\n",
        "assert my_regex.search('abcde')\n",
        "assert my_regex.search('abc')\n",
        "assert not my_regex.search('acb')"
      ]
    },
    {
      "cell_type": "code",
      "source": [
        "pattern2 = r\"123\"\n",
        "my_regex = re.compile(pattern2)\n",
        "assert my_regex.search('abc123xyz')\n",
        "assert my_regex.search('define \"123\"')\n",
        "assert my_regex.search('var g = 123;')"
      ],
      "metadata": {
        "id": "8YUEjjHm71iG"
      },
      "execution_count": 10,
      "outputs": []
    },
    {
      "cell_type": "code",
      "source": [
        "pattern3 = r\"...\\.\"\n",
        "my_regex = re.compile(pattern3)\n",
        "assert my_regex.search('cat.')\n",
        "assert my_regex.search('896.')\n",
        "assert my_regex.search('?=+.')\n",
        "assert not my_regex.search('abc1')"
      ],
      "metadata": {
        "id": "to-oYXwE9gVn"
      },
      "execution_count": 5,
      "outputs": []
    },
    {
      "cell_type": "code",
      "source": [
        "pattern4 = r\"[cmf]an\"\n",
        "my_regex = re.compile(pattern4)\n",
        "assert my_regex.search('can')\n",
        "assert my_regex.search('man')\n",
        "assert my_regex.search('fan')\n",
        "assert not my_regex.search('dan')\n",
        "assert not my_regex.search('ran')\n",
        "assert not my_regex.search('pan')"
      ],
      "metadata": {
        "id": "rc0LSudU-AsO"
      },
      "execution_count": 6,
      "outputs": []
    },
    {
      "cell_type": "code",
      "source": [
        "pattern5 = r\"[^b]og\"\n",
        "my_regex = re.compile(pattern5)\n",
        "assert my_regex.search('hog')\n",
        "assert my_regex.search('dog')\n",
        "assert not my_regex.search('bog')"
      ],
      "metadata": {
        "id": "VCqUAY4S_Jgz"
      },
      "execution_count": 7,
      "outputs": []
    },
    {
      "cell_type": "code",
      "source": [
        "pattern6 = r\"[A-Z][n-z][a-z]\"\n",
        "my_regex = re.compile(pattern6)\n",
        "assert my_regex.search('Ana')\n",
        "assert my_regex.search('Bob')\n",
        "assert my_regex.search('Cpc')\n",
        "assert not my_regex.search('aax')\n",
        "assert not my_regex.search('bby')\n",
        "assert not my_regex.search('ccz')"
      ],
      "metadata": {
        "id": "qeR9-u4TCpoS"
      },
      "execution_count": 8,
      "outputs": []
    },
    {
      "cell_type": "code",
      "source": [
        "pattern7 = r\"waz{3,5}up\"\n",
        "my_regex = re.compile(pattern7)\n",
        "assert my_regex.search('wazzzzzup')\n",
        "assert my_regex.search('wazzzup')\n",
        "assert not my_regex.search('wazup')"
      ],
      "metadata": {
        "id": "hcS4L3gqt5Pu"
      },
      "execution_count": 11,
      "outputs": []
    },
    {
      "cell_type": "code",
      "source": [
        "pattern8 = r\"aa+b*c*\"\n",
        "my_regex = re.compile(pattern8)\n",
        "assert my_regex.search('aaaabcc')\n",
        "assert my_regex.search('aabbbbc')\n",
        "assert my_regex.search('aacc')\n",
        "assert not my_regex.search('a')"
      ],
      "metadata": {
        "id": "EdJJm1RWt5gg"
      },
      "execution_count": 15,
      "outputs": []
    },
    {
      "cell_type": "code",
      "source": [
        "pattern9 = r\"\\d* files? found\\?\"\n",
        "my_regex = re.compile(pattern9)\n",
        "assert my_regex.search('1 file found?')\n",
        "assert my_regex.search('2 files found?')\n",
        "assert my_regex.search('24 files found?')\n",
        "assert not my_regex.search('No files found.')"
      ],
      "metadata": {
        "id": "5_vopGtTt5tg"
      },
      "execution_count": 16,
      "outputs": []
    },
    {
      "cell_type": "code",
      "source": [
        "pattern10 = r\"\\d\\.\\s+abc\"\n",
        "my_regex = re.compile(pattern10)\n",
        "assert my_regex.search('1.   abc')\n",
        "assert my_regex.search('2.\tabc')\n",
        "assert my_regex.search('3.           abc')\n",
        "assert not my_regex.search('4.abc')"
      ],
      "metadata": {
        "id": "7-ERPMGQt58s"
      },
      "execution_count": 17,
      "outputs": []
    },
    {
      "cell_type": "code",
      "source": [
        "pattern11 = r\"^Mission: successful$\"\n",
        "my_regex = re.compile(pattern11)\n",
        "assert my_regex.search('Mission: successful')\n",
        "assert not my_regex.search('Last Mission: unsuccessful')\n",
        "assert not my_regex.search('Next Mission: successful upon capture of target')"
      ],
      "metadata": {
        "id": "AkUTsOuFt6L2"
      },
      "execution_count": null,
      "outputs": []
    },
    {
      "cell_type": "code",
      "source": [
        "pattern12 = r\"^(file_.+)\\.pdf$\"\n",
        "my_regex = re.compile(pattern12)\n",
        "assert my_regex.search('file_record_transcript.pdf')\n",
        "assert my_regex.search('file_07241999.pdf')\n",
        "assert not my_regex.search('testfile_fake.pdf.tmp')"
      ],
      "metadata": {
        "id": "gDkuKNULt6Z6"
      },
      "execution_count": 18,
      "outputs": []
    },
    {
      "cell_type": "code",
      "source": [
        "pattern13 = r\"(\\w+\\s(\\d+))\"\n",
        "my_regex = re.compile(pattern13)\n",
        "assert my_regex.search('Jan 1987')\n",
        "assert my_regex.search('May 1969')\n",
        "assert my_regex.search('Aug 2011')"
      ],
      "metadata": {
        "id": "5e0tQe5Kt6oV"
      },
      "execution_count": 19,
      "outputs": []
    },
    {
      "cell_type": "code",
      "source": [
        "pattern14 = r\"(\\d*)x(\\d*)\"\n",
        "my_regex = re.compile(pattern14)\n",
        "assert my_regex.search('1280x720')\n",
        "assert my_regex.search('1920x1600')\n",
        "assert my_regex.search('1024x768')"
      ],
      "metadata": {
        "id": "pHmpSzRQt7EP"
      },
      "execution_count": 20,
      "outputs": []
    },
    {
      "cell_type": "code",
      "source": [
        "pattern15 = r\"I\\slove\\s(cats|dogs)\"\n",
        "my_regex = re.compile(pattern15)\n",
        "assert my_regex.search('I love cats')\n",
        "assert my_regex.search('I love dogs')\n",
        "assert not my_regex.search('I love logs')\n",
        "assert not my_regex.search('I love cogs')"
      ],
      "metadata": {
        "id": "A2YmeZw4t7UJ"
      },
      "execution_count": 21,
      "outputs": []
    },
    {
      "cell_type": "code",
      "source": [
        "pattern16 = r\"^The(re)?\\s\\w*\\s(\\d*|\\w*)\\s(\\w*)\\s\\w*\\s\\w*\\s\\w*\\s(\\d*\\.0%|\\w*)?.*\"\n",
        "my_regex = re.compile(pattern16)\n",
        "assert my_regex.search('The quick brown fox jumps over the lazy dog.')\n",
        "assert my_regex.search('There were 614 instances of students getting 90.0% or above.')\n",
        "assert my_regex.search('The FCC had to censor the network for saying &$#*@!.')"
      ],
      "metadata": {
        "id": "AyzS3BpCt7jY"
      },
      "execution_count": 23,
      "outputs": []
    },
    {
      "cell_type": "code",
      "source": [
        "pattern17 = r\"^[-|\\d].*\\d$\"\n",
        "my_regex = re.compile(pattern17)\n",
        "assert my_regex.search('3.14529')\n",
        "assert my_regex.search('-255.34')\n",
        "assert my_regex.search('128')\n",
        "assert my_regex.search('1.9e10')\n",
        "assert my_regex.search('123,340.00')\n",
        "assert not my_regex.search('720p')"
      ],
      "metadata": {
        "id": "eaOSmizYt72C"
      },
      "execution_count": 24,
      "outputs": []
    },
    {
      "cell_type": "code",
      "source": [
        "pattern18 = r\"(\\d{3})\"\n",
        "my_regex = re.compile(pattern18)\n",
        "assert my_regex.search('415-555-1234')\n",
        "assert my_regex.search('650-555-2345')\n",
        "assert my_regex.search('(416)555-3456')\n",
        "assert my_regex.search('202 555 4567')\n",
        "assert my_regex.search('4035555678')\n",
        "assert my_regex.search('1 416 555 9292')"
      ],
      "metadata": {
        "id": "vgGcxL3ut8DC"
      },
      "execution_count": 25,
      "outputs": []
    },
    {
      "cell_type": "code",
      "source": [
        "pattern19 = r\"(\\w+\\.?\\w+)\"\n",
        "my_regex = re.compile(pattern19)\n",
        "assert my_regex.search('tom@hogwarts.com')\n",
        "assert my_regex.search('tom.riddle@hogwarts.com')\n",
        "assert my_regex.search('tom.riddle+regexone@hogwarts.com')\n",
        "assert my_regex.search('tom@hogwarts.eu.com')\n",
        "assert my_regex.search('potter@hogwarts.com')\n",
        "assert my_regex.search('harry@hogwarts.com')\n",
        "assert my_regex.search('hermione+regexone@hogwarts.com')"
      ],
      "metadata": {
        "id": "I3MoT-Get8Sn"
      },
      "execution_count": 26,
      "outputs": []
    },
    {
      "cell_type": "code",
      "source": [
        "pattern20 = r\"(\\w+)\"\n",
        "my_regex = re.compile(pattern20)\n",
        "assert my_regex.search('<a>This is a link</a>')\n",
        "assert my_regex.search('<a href=\\'https://regexone.com\\'>Link</a>')\n",
        "assert my_regex.search('<div class=\\'test_style\\'>Test</div>')\n",
        "assert my_regex.search('<div>Hello <span>world</span></div>')"
      ],
      "metadata": {
        "id": "U-Qk8vbwt8kM"
      },
      "execution_count": 27,
      "outputs": []
    },
    {
      "cell_type": "code",
      "source": [
        "pattern21 = r\"(\\w+)\\.(jpg|png|gif)$\"\n",
        "my_regex = re.compile(pattern21)\n",
        "assert my_regex.search('img0912.jpg')\n",
        "assert my_regex.search('updated_img0912.png')\n",
        "assert my_regex.search('favicon.gif')\n",
        "assert not my_regex.search('.bash_profile')\n",
        "assert not my_regex.search('workspace.doc')\n",
        "assert not my_regex.search('documentation.html')\n",
        "assert not my_regex.search('img0912.jpg.tmp')\n",
        "assert not my_regex.search('access.lock')"
      ],
      "metadata": {
        "id": "7JpGLfFSt87_"
      },
      "execution_count": 28,
      "outputs": []
    },
    {
      "cell_type": "code",
      "source": [
        "pattern22 = r\"\\s*(.*)\\s*\"\n",
        "my_regex = re.compile(pattern22)\n",
        "assert my_regex.search('\t\t\tThe quick brown fox...')\n",
        "assert my_regex.search('   jumps over the lazy dog.')"
      ],
      "metadata": {
        "id": "7GbQQgfLt9K3"
      },
      "execution_count": 30,
      "outputs": []
    },
    {
      "cell_type": "code",
      "source": [
        "pattern23 = r\"(\\w+)\\((\\w+\\.\\w+):(\\d*)\"\n",
        "my_regex = re.compile(pattern23)\n",
        "assert my_regex.search('E/( 1553):   at widget.List.makeView(ListView.java:1727)')\n",
        "assert my_regex.search('E/( 1553):   at widget.List.fillDown(ListView.java:652)')\n",
        "assert my_regex.search('E/( 1553):   at widget.List.fillFrom(ListView.java:709)')\n",
        "assert not my_regex.search('W/dalvikvm( 1553): threadid=1: uncaught exception')\n",
        "assert not my_regex.search('E/( 1553): FATAL EXCEPTION: main')\n",
        "assert not my_regex.search('E/( 1553): java.lang.StringIndexOutOfBoundsException')"
      ],
      "metadata": {
        "id": "iY4LKKamt9aa"
      },
      "execution_count": 32,
      "outputs": []
    },
    {
      "cell_type": "code",
      "source": [
        "pattern24 = r\"(\\w+)://(\\w+-?\\w+\\.?\\w+):?(\\d+)?\"\n",
        "my_regex = re.compile(pattern24)\n",
        "assert my_regex.search('ftp://file_server.com:21/top_secret/life_changing_plans.pdf')\n",
        "assert my_regex.search('https://regexone.com/lesson/introduction#section')\n",
        "assert my_regex.search('file://localhost:4040/zip_file')\n",
        "assert my_regex.search('https://s3cur3-server.com:9999/\t')\n",
        "assert my_regex.search('market://search/angry%20birds')"
      ],
      "metadata": {
        "id": "L2dXWAieutYN"
      },
      "execution_count": 33,
      "outputs": []
    },
    {
      "cell_type": "markdown",
      "metadata": {
        "id": "io2AD7xS4VpX"
      },
      "source": [
        "## Whitespace and escaped characters\n",
        "\n",
        "* Whitespace includes spaces, tabs, and newlines\n",
        "* Python uses escape characters: `\"\\t\"`, `\"\\n\"`"
      ]
    },
    {
      "cell_type": "markdown",
      "metadata": {
        "id": "XdiYPGFr4VpZ"
      },
      "source": [
        "#### Use `\"\\n\"` for newlines"
      ]
    },
    {
      "cell_type": "code",
      "execution_count": null,
      "metadata": {
        "id": "M2DLgNLm4Vpa",
        "outputId": "c323ab50-187e-4731-ad30-fb94d19f07e0"
      },
      "outputs": [
        {
          "data": {
            "text/plain": [
              "'\\n'"
            ]
          },
          "execution_count": 7,
          "metadata": {},
          "output_type": "execute_result"
        }
      ],
      "source": [
        "\"\\n\""
      ]
    },
    {
      "cell_type": "code",
      "execution_count": null,
      "metadata": {
        "id": "K3F_TZF94Vpa",
        "outputId": "622d0541-db1c-4b13-b0ce-191808a5254f"
      },
      "outputs": [
        {
          "name": "stdout",
          "output_type": "stream",
          "text": [
            "\n",
            "\n"
          ]
        }
      ],
      "source": [
        "print('\\n')"
      ]
    },
    {
      "cell_type": "code",
      "execution_count": null,
      "metadata": {
        "id": "yhWqxHhn4Vpb",
        "outputId": "eda0070e-9943-4ae2-f1c1-fdda4583758b"
      },
      "outputs": [
        {
          "name": "stdout",
          "output_type": "stream",
          "text": [
            "a\n",
            "b\n"
          ]
        }
      ],
      "source": [
        "print('a\\nb')"
      ]
    },
    {
      "cell_type": "markdown",
      "metadata": {
        "id": "PpgcvQNK4Vpb"
      },
      "source": [
        "#### Use `\"\\t\"` for tab"
      ]
    },
    {
      "cell_type": "code",
      "execution_count": null,
      "metadata": {
        "id": "WVy7Q0MN4Vpb",
        "outputId": "b6922ad7-b9e2-4e56-d42e-aaaf77898bd0"
      },
      "outputs": [
        {
          "data": {
            "text/plain": [
              "'\\t'"
            ]
          },
          "execution_count": 14,
          "metadata": {},
          "output_type": "execute_result"
        }
      ],
      "source": [
        "\"\\t\""
      ]
    },
    {
      "cell_type": "code",
      "execution_count": null,
      "metadata": {
        "id": "FPKFYMKl4Vpc",
        "outputId": "fc118805-90d6-40ed-badd-4d8d8bc0935a"
      },
      "outputs": [
        {
          "name": "stdout",
          "output_type": "stream",
          "text": [
            "\t\n"
          ]
        }
      ],
      "source": [
        "print('\\t')"
      ]
    },
    {
      "cell_type": "code",
      "execution_count": null,
      "metadata": {
        "id": "bfNIAgPJ4Vpd",
        "outputId": "04970c8d-2a3d-4ee8-bfa4-394a54187ba7"
      },
      "outputs": [
        {
          "name": "stdout",
          "output_type": "stream",
          "text": [
            "a\tb\n"
          ]
        }
      ],
      "source": [
        "print('a\\tb')"
      ]
    },
    {
      "cell_type": "markdown",
      "metadata": {
        "id": "Pe9RCuef4Vpd"
      },
      "source": [
        "## Why use `r\"raw strings\"` in `regex`\n",
        "\n",
        "* Regular strings $\\rightarrow$ `\\` is for special characters: `'\\n'`, `'\\t'`\n",
        "* In regular expressions, `\\` is for\n",
        "    * Escaping: i.e. `\\.` vs. `.`\n",
        "* Without raw string, we would need \n",
        "    * `'\\\\n'`  to match a new line\n",
        "    * `'\\\\t'` to match a tab"
      ]
    },
    {
      "cell_type": "code",
      "execution_count": null,
      "metadata": {
        "id": "9W1HYV5j4Vpd",
        "outputId": "d9f785cd-4114-4284-dcc5-e463f7ad57e1"
      },
      "outputs": [
        {
          "data": {
            "text/plain": [
              "'\\\\n'"
            ]
          },
          "execution_count": 1,
          "metadata": {},
          "output_type": "execute_result"
        }
      ],
      "source": [
        "r\"\\n\" # Raw string allow us to match newlines without the extra \\"
      ]
    },
    {
      "cell_type": "markdown",
      "metadata": {
        "id": "BIaPFYB84Vpe"
      },
      "source": [
        "## Important `match object` methods\n",
        "\n",
        "<table class=\"docutils\" border=\"1\">\n",
        "<colgroup>\n",
        "<col width=\"29%\">\n",
        "<col width=\"71%\">\n",
        "</colgroup>\n",
        "<thead valign=\"bottom\">\n",
        "<tr class=\"row-odd\"><th class=\"head\">Method/Attribute</th>\n",
        "<th class=\"head\">Purpose</th>\n",
        "</tr>\n",
        "</thead>\n",
        "<tbody valign=\"top\">\n",
        "<tr class=\"row-even\"><td><code class=\"docutils literal notranslate\"><span class=\"pre\">group()</span></code></td>\n",
        "<td>Return the string matched by the RE</td>\n",
        "</tr>\n",
        "<tr class=\"row-odd\"><td><code class=\"docutils literal notranslate\"><span class=\"pre\">start()</span></code></td>\n",
        "<td>Return the starting position of the match</td>\n",
        "</tr>\n",
        "<tr class=\"row-even\"><td><code class=\"docutils literal notranslate\"><span class=\"pre\">end()</span></code></td>\n",
        "<td>Return the ending position of the match</td>\n",
        "</tr>\n",
        "<tr class=\"row-odd\"><td><code class=\"docutils literal notranslate\"><span class=\"pre\">span()</span></code></td>\n",
        "<td>Return a tuple containing the (start, end)\n",
        "positions  of the match</td>\n",
        "</tr>\n",
        "</tbody>\n",
        "</table>"
      ]
    },
    {
      "cell_type": "code",
      "execution_count": null,
      "metadata": {
        "id": "wxv1TIas4Vpe",
        "outputId": "5a64df4f-1c4d-4bae-8edf-f1c2af34fef7"
      },
      "outputs": [
        {
          "data": {
            "text/plain": [
              "'ab'"
            ]
          },
          "execution_count": 74,
          "metadata": {},
          "output_type": "execute_result"
        }
      ],
      "source": [
        "m1.group()"
      ]
    },
    {
      "cell_type": "code",
      "execution_count": null,
      "metadata": {
        "id": "ELplqdsC4Vpf",
        "outputId": "5fe5764f-1dd5-4a70-ec21-9d98a0a47fba"
      },
      "outputs": [
        {
          "data": {
            "text/plain": [
              "(0, 2)"
            ]
          },
          "execution_count": 75,
          "metadata": {},
          "output_type": "execute_result"
        }
      ],
      "source": [
        "m1.start(), m.end()"
      ]
    },
    {
      "cell_type": "code",
      "execution_count": null,
      "metadata": {
        "id": "rqtezh7G4Vpf",
        "outputId": "7643f65b-0afe-448f-bfdd-a5fd2f6a5a9e"
      },
      "outputs": [
        {
          "data": {
            "text/plain": [
              "(0, 2)"
            ]
          },
          "execution_count": 80,
          "metadata": {},
          "output_type": "execute_result"
        }
      ],
      "source": [
        "m1.span()"
      ]
    },
    {
      "cell_type": "markdown",
      "metadata": {
        "id": "FRsFwsIs4Vpg"
      },
      "source": [
        "## Be sure to check for `None`"
      ]
    },
    {
      "cell_type": "code",
      "execution_count": null,
      "metadata": {
        "id": "nRPXJoFH4Vpg"
      },
      "outputs": [],
      "source": [
        "m2 # example that DIDN'T match "
      ]
    },
    {
      "cell_type": "code",
      "execution_count": null,
      "metadata": {
        "id": "JvOADoKx4Vpg",
        "outputId": "87d6aaed-155a-42d5-f83b-1c6f5b9836be"
      },
      "outputs": [
        {
          "data": {
            "text/plain": [
              "True"
            ]
          },
          "execution_count": 18,
          "metadata": {},
          "output_type": "execute_result"
        }
      ],
      "source": [
        "m2 is None # non-matches return None"
      ]
    },
    {
      "cell_type": "code",
      "execution_count": null,
      "metadata": {
        "id": "GPnvqq4-4Vph",
        "outputId": "67a4db2f-f235-4a6f-e895-ccc30da1e873"
      },
      "outputs": [
        {
          "ename": "AttributeError",
          "evalue": "'NoneType' object has no attribute 'group'",
          "output_type": "error",
          "traceback": [
            "\u001b[0;31m---------------------------------------------------------------------------\u001b[0m",
            "\u001b[0;31mAttributeError\u001b[0m                            Traceback (most recent call last)",
            "\u001b[0;32m<ipython-input-21-0951bace4a25>\u001b[0m in \u001b[0;36m<module>\u001b[0;34m()\u001b[0m\n\u001b[0;32m----> 1\u001b[0;31m \u001b[0mm2\u001b[0m\u001b[0;34m.\u001b[0m\u001b[0mgroup\u001b[0m\u001b[0;34m(\u001b[0m\u001b[0;34m)\u001b[0m \u001b[0;31m# Oh you silly 'Nonetype' errors\u001b[0m\u001b[0;34m\u001b[0m\u001b[0m\n\u001b[0m",
            "\u001b[0;31mAttributeError\u001b[0m: 'NoneType' object has no attribute 'group'"
          ]
        }
      ],
      "source": [
        "m2.group() # Oh you silly 'Nonetype' errors"
      ]
    },
    {
      "cell_type": "markdown",
      "metadata": {
        "id": "5_TtZpn64Vph"
      },
      "source": [
        "## Solution 1\n",
        "\n",
        "Always check for `None`"
      ]
    },
    {
      "cell_type": "code",
      "execution_count": null,
      "metadata": {
        "id": "1NjR90lx4Vph"
      },
      "outputs": [],
      "source": [
        "m2.group() if m2 else None"
      ]
    },
    {
      "cell_type": "markdown",
      "metadata": {
        "id": "J7FlX9cg4Vpi"
      },
      "source": [
        "## Solution 2\n",
        "\n",
        "Learn about the [`Maybe` monad](https://en.wikipedia.org/wiki/Monad_(functional_programming)#An_example:_Maybe). (We will tackle this in a later chapter.)"
      ]
    },
    {
      "cell_type": "markdown",
      "metadata": {
        "id": "Ck15wZ1L4Vpi"
      },
      "source": [
        "## Python regex methods\n",
        "\n",
        "<table class=\"docutils\" border=\"1\">\n",
        "<colgroup>\n",
        "<col width=\"28%\">\n",
        "<col width=\"72%\">\n",
        "</colgroup>\n",
        "<thead valign=\"bottom\">\n",
        "<tr class=\"row-odd\"><th class=\"head\">Method/Attribute</th>\n",
        "<th class=\"head\">Purpose</th>\n",
        "</tr>\n",
        "</thead>\n",
        "<tbody valign=\"top\">\n",
        "<tr class=\"row-even\"><td><code class=\"docutils literal notranslate\"><span class=\"pre\">match()</span></code></td>\n",
        "<td>Determine if the RE matches at the beginning\n",
        "of the string.</td>\n",
        "</tr>\n",
        "<tr class=\"row-odd\"><td><code class=\"docutils literal notranslate\"><span class=\"pre\">search()</span></code></td>\n",
        "<td>Scan through a string, looking for any\n",
        "location where this RE matches.</td>\n",
        "</tr>\n",
        "<tr class=\"row-even\"><td><code class=\"docutils literal notranslate\"><span class=\"pre\">findall()</span></code></td>\n",
        "<td>Find all substrings where the RE matches, and\n",
        "returns them as a list.</td>\n",
        "</tr>\n",
        "<tr class=\"row-odd\"><td><code class=\"docutils literal notranslate\"><span class=\"pre\">finditer()</span></code></td>\n",
        "<td>Find all substrings where the RE matches, and\n",
        "returns them as an <a class=\"reference internal\" href=\"../glossary.html#term-iterator\"><span class=\"xref std std-term\">iterator</span></a>.</td>\n",
        "</tr>\n",
        "</tbody>\n",
        "</table>\n",
        "\n",
        "**Source:** [Python documentation](https://docs.python.org/3/howto/regex.html)"
      ]
    },
    {
      "cell_type": "markdown",
      "metadata": {
        "id": "64Q15ONM4Vpj"
      },
      "source": [
        "## A better `str.replace`\n",
        "\n",
        "* Often chain many `replace` calls\n",
        "* Example `s.replace('(', '').replace(')','').replace(':', '')`\n",
        "* We can use `re.sub` to simplify."
      ]
    },
    {
      "cell_type": "code",
      "execution_count": null,
      "metadata": {
        "id": "62L636S54Vpk",
        "outputId": "53289603-c1f6-4821-838b-7b921fe3d88d"
      },
      "outputs": [
        {
          "data": {
            "text/plain": [
              "'The string has some things in it'"
            ]
          },
          "execution_count": 7,
          "metadata": {},
          "output_type": "execute_result"
        }
      ],
      "source": [
        "s = \"The string (has) some: things in (it)\"\n",
        "s.replace('(', '').replace(')','').replace(':', '')"
      ]
    },
    {
      "cell_type": "code",
      "execution_count": null,
      "metadata": {
        "id": "wXLJ_RP14Vpk",
        "outputId": "c69c4e25-4a79-44dd-9429-e4e126f5a167"
      },
      "outputs": [
        {
          "data": {
            "text/plain": [
              "'The string has some things in it'"
            ]
          },
          "execution_count": 8,
          "metadata": {},
          "output_type": "execute_result"
        }
      ],
      "source": [
        "re.sub(r\"[():]\", '', s)"
      ]
    },
    {
      "cell_type": "markdown",
      "metadata": {
        "id": "a0hpo5HE4Vpl"
      },
      "source": [
        "## Substitutions with a compiled RegEx\n",
        "\n",
        "1. Compile a pattern\n",
        "2. Use `pat.sub(new_substr, s)`"
      ]
    },
    {
      "cell_type": "code",
      "execution_count": null,
      "metadata": {
        "id": "B7NpWj1a4Vpm",
        "outputId": "8dfa8e94-d0ee-4fc8-d297-062f479f8e0c"
      },
      "outputs": [
        {
          "data": {
            "text/plain": [
              "'The string has some things in it'"
            ]
          },
          "execution_count": 9,
          "metadata": {},
          "output_type": "execute_result"
        }
      ],
      "source": [
        "paren_or_colon = re.compile(r\"[():]\")\n",
        "paren_or_colon.sub('', s)"
      ]
    },
    {
      "cell_type": "markdown",
      "metadata": {
        "id": "um6I0AOB4Vpm"
      },
      "source": [
        "## <font color=\"red\"> Exercise 4 </font>\n",
        "\n",
        "**Task:** Write and test a function that uses `re.sub` to remove all punctuation from a string.  **Hint:** Use the `punctuation` variable from the `string` module."
      ]
    },
    {
      "cell_type": "code",
      "execution_count": null,
      "metadata": {
        "id": "FsxAJqNB4Vpn"
      },
      "outputs": [],
      "source": []
    },
    {
      "cell_type": "markdown",
      "metadata": {
        "id": "FvzIpsUB4Vpn"
      },
      "source": [
        "## Next Up\n",
        "\n",
        "Now you should read through the rest of [RegExOne](https://regexone.com/) and put your work in [Lab 3](./lab_3_regexone.ipynb)."
      ]
    }
  ],
  "metadata": {
    "celltoolbar": "Slideshow",
    "kernelspec": {
      "display_name": "Python 3",
      "language": "python",
      "name": "python3"
    },
    "language_info": {
      "codemirror_mode": {
        "name": "ipython",
        "version": 3
      },
      "file_extension": ".py",
      "mimetype": "text/x-python",
      "name": "python",
      "nbconvert_exporter": "python",
      "pygments_lexer": "ipython3",
      "version": "3.7.2"
    },
    "varInspector": {
      "cols": {
        "lenName": 16,
        "lenType": 16,
        "lenVar": 40
      },
      "kernels_config": {
        "python": {
          "delete_cmd_postfix": "",
          "delete_cmd_prefix": "del ",
          "library": "var_list.py",
          "varRefreshCmd": "print(var_dic_list())"
        },
        "r": {
          "delete_cmd_postfix": ") ",
          "delete_cmd_prefix": "rm(",
          "library": "var_list.r",
          "varRefreshCmd": "cat(var_dic_list()) "
        }
      },
      "types_to_exclude": [
        "module",
        "function",
        "builtin_function_or_method",
        "instance",
        "_Feature"
      ],
      "window_display": false
    },
    "colab": {
      "provenance": [],
      "include_colab_link": true
    }
  },
  "nbformat": 4,
  "nbformat_minor": 0
}