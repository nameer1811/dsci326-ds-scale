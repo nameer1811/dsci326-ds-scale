{
  "cells": [
    {
      "cell_type": "markdown",
      "metadata": {
        "id": "view-in-github",
        "colab_type": "text"
      },
      "source": [
        "<a href=\"https://colab.research.google.com/github/nameer1811/module2_intro_to_pandas/blob/main/0_1_dictionaries.ipynb\" target=\"_parent\"><img src=\"https://colab.research.google.com/assets/colab-badge.svg\" alt=\"Open In Colab\"/></a>"
      ]
    },
    {
      "cell_type": "markdown",
      "metadata": {
        "id": "KtfGrwY5po8W"
      },
      "source": [
        "# Dictionaries"
      ]
    },
    {
      "cell_type": "markdown",
      "metadata": {
        "id": "7PSXzTuypo8Y"
      },
      "source": [
        "## Overview\n",
        "\n",
        "In this section, we will introduce the dictionary; which is a data structure that efficiently maps one value to another.  This structure is a useful way to store non-tabular data."
      ]
    },
    {
      "cell_type": "markdown",
      "metadata": {
        "id": "luucbam_po8a"
      },
      "source": [
        "## List and Dictionaries\n",
        "\n",
        "* List: $index \\rightarrow value$\n",
        "* Dictionary: $key \\rightarrow value$\n",
        "* Valid keys\n",
        "    * must be immutable\n",
        "    * unique"
      ]
    },
    {
      "cell_type": "markdown",
      "metadata": {
        "id": "R7C64ScZpo8b"
      },
      "source": [
        "## Syntax\n",
        "\n",
        "* Enclosed in `{}`\n",
        "* Pairs format: `key:value`\n",
        "* Commas between pairs"
      ]
    },
    {
      "cell_type": "markdown",
      "metadata": {
        "id": "bcoAK_D9po8c"
      },
      "source": [
        "## Example - Translation"
      ]
    },
    {
      "cell_type": "code",
      "execution_count": 1,
      "metadata": {
        "id": "-shYiwNwpo8d",
        "outputId": "01005eef-b551-4aa8-bc96-57d17d3c551c",
        "colab": {
          "base_uri": "https://localhost:8080/"
        }
      },
      "outputs": [
        {
          "output_type": "execute_result",
          "data": {
            "text/plain": [
              "{'one': 'uno', 'two': 'dos', 'three': 'tres'}"
            ]
          },
          "metadata": {},
          "execution_count": 1
        }
      ],
      "source": [
        "eng_to_span = {'one':'uno', 'two':'dos', 'three':'tres'}\n",
        "eng_to_span"
      ]
    },
    {
      "cell_type": "markdown",
      "metadata": {
        "id": "fQvn7zBppo8f"
      },
      "source": [
        "## Example - Dates"
      ]
    },
    {
      "cell_type": "code",
      "execution_count": 2,
      "metadata": {
        "id": "gCFbRbw-po8f",
        "outputId": "38c4743e-7d12-43b0-a0cc-21f4e409530f",
        "colab": {
          "base_uri": "https://localhost:8080/"
        }
      },
      "outputs": [
        {
          "output_type": "execute_result",
          "data": {
            "text/plain": [
              "{'Jan': 1, 'Feb': 2, 'Mar': 3}"
            ]
          },
          "metadata": {},
          "execution_count": 2
        }
      ],
      "source": [
        "month_num = {'Jan':1, 'Feb':2, 'Mar':3}\n",
        "month_num"
      ]
    },
    {
      "cell_type": "markdown",
      "metadata": {
        "id": "mSc9Oa8spo8g"
      },
      "source": [
        "## Visualizing a Dictionary\n",
        "\n",
        "<img src=\"https://github.com/nameer1811/module2_intro_to_pandas/blob/main/img/dict_img.png?raw=1\"/>"
      ]
    },
    {
      "cell_type": "markdown",
      "metadata": {
        "id": "UOxlY9KVpo8h"
      },
      "source": [
        "## Examples of valid keys\n",
        "\n",
        "* Numbers, both `int`, `float`\n",
        "* Strings\n",
        "* Tuples"
      ]
    },
    {
      "cell_type": "markdown",
      "metadata": {
        "id": "nkfcta0cpo8h"
      },
      "source": [
        "## Length == number of pairs"
      ]
    },
    {
      "cell_type": "code",
      "execution_count": 3,
      "metadata": {
        "id": "9RtHl26Ppo8i",
        "outputId": "a0a8785c-e363-4a02-b06b-82d8af0647b2",
        "colab": {
          "base_uri": "https://localhost:8080/"
        }
      },
      "outputs": [
        {
          "output_type": "execute_result",
          "data": {
            "text/plain": [
              "3"
            ]
          },
          "metadata": {},
          "execution_count": 3
        }
      ],
      "source": [
        "len(month_num)"
      ]
    },
    {
      "cell_type": "markdown",
      "metadata": {
        "id": "7bkqGPfKpo8i"
      },
      "source": [
        "## Checking the presence of a key with `in`"
      ]
    },
    {
      "cell_type": "code",
      "execution_count": 4,
      "metadata": {
        "id": "aV6Pl7sXpo8j",
        "outputId": "17396118-d51e-487f-f3a0-d3684e5ae666",
        "colab": {
          "base_uri": "https://localhost:8080/"
        }
      },
      "outputs": [
        {
          "output_type": "execute_result",
          "data": {
            "text/plain": [
              "True"
            ]
          },
          "metadata": {},
          "execution_count": 4
        }
      ],
      "source": [
        "'Jan' in month_num"
      ]
    },
    {
      "cell_type": "code",
      "execution_count": 5,
      "metadata": {
        "id": "sFMzaq_bpo8j",
        "outputId": "c8333b28-36db-4b63-8127-4bcdc160e461",
        "colab": {
          "base_uri": "https://localhost:8080/"
        }
      },
      "outputs": [
        {
          "output_type": "execute_result",
          "data": {
            "text/plain": [
              "False"
            ]
          },
          "metadata": {},
          "execution_count": 5
        }
      ],
      "source": [
        "'Apr' in month_num"
      ]
    },
    {
      "cell_type": "markdown",
      "metadata": {
        "id": "SMS5QR4Ppo8j"
      },
      "source": [
        "## Looking up a value for a given key\n",
        "\n",
        "* Syntax: `dict_name[key]`\n",
        "* Looks like indexing a list/tuple\n",
        "* Efficient $\\left(O\\left(\\log n\\right)\\right)$"
      ]
    },
    {
      "cell_type": "code",
      "execution_count": 6,
      "metadata": {
        "id": "MW0gxfTmpo8k",
        "outputId": "0fc65f29-e678-4608-915f-6d15fa4acce3",
        "colab": {
          "base_uri": "https://localhost:8080/",
          "height": 36
        }
      },
      "outputs": [
        {
          "output_type": "execute_result",
          "data": {
            "text/plain": [
              "'dos'"
            ],
            "application/vnd.google.colaboratory.intrinsic+json": {
              "type": "string"
            }
          },
          "metadata": {},
          "execution_count": 6
        }
      ],
      "source": [
        "eng_to_span['two']"
      ]
    },
    {
      "cell_type": "markdown",
      "metadata": {
        "id": "ks1rQMYZpo8k"
      },
      "source": [
        "## Looking up a missing value is BAD\n",
        "\n",
        "* Raises a `KeyError`"
      ]
    },
    {
      "cell_type": "code",
      "execution_count": 7,
      "metadata": {
        "id": "hD07Xsqbpo8k",
        "outputId": "9097c298-9bf6-45d2-bafa-9f7c1d12d5c4",
        "colab": {
          "base_uri": "https://localhost:8080/",
          "height": 165
        }
      },
      "outputs": [
        {
          "output_type": "error",
          "ename": "KeyError",
          "evalue": "ignored",
          "traceback": [
            "\u001b[0;31m---------------------------------------------------------------------------\u001b[0m",
            "\u001b[0;31mKeyError\u001b[0m                                  Traceback (most recent call last)",
            "\u001b[0;32m<ipython-input-7-f02652bec86f>\u001b[0m in \u001b[0;36m<module>\u001b[0;34m\u001b[0m\n\u001b[0;32m----> 1\u001b[0;31m \u001b[0meng_to_span\u001b[0m\u001b[0;34m[\u001b[0m\u001b[0;34m'four'\u001b[0m\u001b[0;34m]\u001b[0m\u001b[0;34m\u001b[0m\u001b[0;34m\u001b[0m\u001b[0m\n\u001b[0m",
            "\u001b[0;31mKeyError\u001b[0m: 'four'"
          ]
        }
      ],
      "source": [
        "eng_to_span['four']"
      ]
    },
    {
      "cell_type": "markdown",
      "metadata": {
        "id": "Peb6Vn-1po8l"
      },
      "source": [
        "## Dealing with `KeyError`s - Conditional Expression"
      ]
    },
    {
      "cell_type": "code",
      "execution_count": 8,
      "metadata": {
        "id": "MMMFXwMdpo8l",
        "outputId": "e1be40a9-707a-4f40-9c07-7e19eb34ffe5",
        "colab": {
          "base_uri": "https://localhost:8080/",
          "height": 36
        }
      },
      "outputs": [
        {
          "output_type": "execute_result",
          "data": {
            "text/plain": [
              "'tres'"
            ],
            "application/vnd.google.colaboratory.intrinsic+json": {
              "type": "string"
            }
          },
          "metadata": {},
          "execution_count": 8
        }
      ],
      "source": [
        "x = 'three'\n",
        "eng_to_span[x] if x in eng_to_span else None"
      ]
    },
    {
      "cell_type": "code",
      "execution_count": 9,
      "metadata": {
        "id": "eBG-3aVmpo8l"
      },
      "outputs": [],
      "source": [
        "x = 'four'\n",
        "eng_to_span[x] if x in eng_to_span else None"
      ]
    },
    {
      "cell_type": "markdown",
      "metadata": {
        "id": "NfdzrsD9po8m"
      },
      "source": [
        "## Dealing with `KeyError`s - `try` and `except`"
      ]
    },
    {
      "cell_type": "code",
      "execution_count": 10,
      "metadata": {
        "id": "5tCgiSBvpo8m"
      },
      "outputs": [],
      "source": [
        "x = 'four'\n",
        "try:\n",
        "    out = eng_to_span[x] if x in eng_to_span else None\n",
        "except:\n",
        "    out = None\n",
        "out"
      ]
    },
    {
      "cell_type": "markdown",
      "metadata": {
        "id": "k_KxeSrXpo8m"
      },
      "source": [
        "## Getting `keys` with a list comprehension\n",
        "\n",
        "* By default, dictionaries iterate over keys"
      ]
    },
    {
      "cell_type": "code",
      "execution_count": 11,
      "metadata": {
        "id": "HWtYuv4Dpo8n",
        "outputId": "21473cb7-8cdc-406d-ff0c-cf6e2aa3b0e2",
        "colab": {
          "base_uri": "https://localhost:8080/"
        }
      },
      "outputs": [
        {
          "output_type": "execute_result",
          "data": {
            "text/plain": [
              "['one', 'two', 'three']"
            ]
          },
          "metadata": {},
          "execution_count": 11
        }
      ],
      "source": [
        "[key for key in eng_to_span]"
      ]
    },
    {
      "cell_type": "markdown",
      "metadata": {
        "id": "myGFmZ3bpo8n"
      },
      "source": [
        "## Getting values with the `values` method"
      ]
    },
    {
      "cell_type": "code",
      "execution_count": 12,
      "metadata": {
        "id": "WaBQRvP3po8n",
        "outputId": "24eacdd2-4e81-4384-df91-c66f77f248ea",
        "colab": {
          "base_uri": "https://localhost:8080/"
        }
      },
      "outputs": [
        {
          "output_type": "execute_result",
          "data": {
            "text/plain": [
              "dict_values(['uno', 'dos', 'tres'])"
            ]
          },
          "metadata": {},
          "execution_count": 12
        }
      ],
      "source": [
        "eng_to_span.values()"
      ]
    },
    {
      "cell_type": "code",
      "execution_count": 13,
      "metadata": {
        "id": "LMhBW0IZpo8o",
        "outputId": "e5b6abda-266d-4466-a3f0-0d4c55dcf8af",
        "colab": {
          "base_uri": "https://localhost:8080/"
        }
      },
      "outputs": [
        {
          "output_type": "execute_result",
          "data": {
            "text/plain": [
              "dict_values"
            ]
          },
          "metadata": {},
          "execution_count": 13
        }
      ],
      "source": [
        "# This changes for different versions of Python\n",
        "type(eng_to_span.values())"
      ]
    },
    {
      "cell_type": "markdown",
      "metadata": {
        "id": "TH3_iFswpo8o"
      },
      "source": [
        "## `values` and list comprehensions\n",
        "\n",
        "* Safe way to access values over different Python versions"
      ]
    },
    {
      "cell_type": "code",
      "execution_count": 14,
      "metadata": {
        "id": "y4t0G67dpo8p",
        "outputId": "bed546f5-6361-4c27-9f58-32a8b4281955",
        "colab": {
          "base_uri": "https://localhost:8080/"
        }
      },
      "outputs": [
        {
          "output_type": "execute_result",
          "data": {
            "text/plain": [
              "['uno', 'dos', 'tres']"
            ]
          },
          "metadata": {},
          "execution_count": 14
        }
      ],
      "source": [
        "[val for val in eng_to_span.values()]"
      ]
    },
    {
      "cell_type": "markdown",
      "metadata": {
        "id": "Zn2ulAx7po8q"
      },
      "source": [
        "## Getting key, value pairs with `items`"
      ]
    },
    {
      "cell_type": "code",
      "execution_count": 15,
      "metadata": {
        "id": "xdu7DeUlpo8q",
        "outputId": "c080413b-4992-490a-cd98-c963023c5836",
        "colab": {
          "base_uri": "https://localhost:8080/"
        }
      },
      "outputs": [
        {
          "output_type": "execute_result",
          "data": {
            "text/plain": [
              "dict_items([('one', 'uno'), ('two', 'dos'), ('three', 'tres')])"
            ]
          },
          "metadata": {},
          "execution_count": 15
        }
      ],
      "source": [
        "eng_to_span.items()"
      ]
    },
    {
      "cell_type": "code",
      "execution_count": 16,
      "metadata": {
        "scrolled": true,
        "id": "-l3-3LGcpo8r",
        "outputId": "4b05d5dd-9fa5-4d54-b150-95bc586b4875",
        "colab": {
          "base_uri": "https://localhost:8080/"
        }
      },
      "outputs": [
        {
          "output_type": "execute_result",
          "data": {
            "text/plain": [
              "dict_items"
            ]
          },
          "metadata": {},
          "execution_count": 16
        }
      ],
      "source": [
        "# Another thing that changed in Python 3.6\n",
        "type(eng_to_span.items())"
      ]
    },
    {
      "cell_type": "markdown",
      "metadata": {
        "id": "pRZduIyypo8s"
      },
      "source": [
        "## `items` and list comprehensions\n",
        "\n",
        "* Safe way to access key, value pairs over different Python versions"
      ]
    },
    {
      "cell_type": "code",
      "execution_count": 17,
      "metadata": {
        "id": "p1ANGdcKpo8s",
        "outputId": "ba610d7f-8209-4a34-8c95-a5f33b28dfbc",
        "colab": {
          "base_uri": "https://localhost:8080/"
        }
      },
      "outputs": [
        {
          "output_type": "execute_result",
          "data": {
            "text/plain": [
              "[('one', 'uno'), ('two', 'dos'), ('three', 'tres')]"
            ]
          },
          "metadata": {},
          "execution_count": 17
        }
      ],
      "source": [
        "[item for item in eng_to_span.items()]"
      ]
    },
    {
      "cell_type": "markdown",
      "metadata": {
        "id": "Y_8bE601po8t"
      },
      "source": [
        "## Unpacking key, value pairs"
      ]
    },
    {
      "cell_type": "code",
      "execution_count": 18,
      "metadata": {
        "id": "zCpmp6dWpo8t",
        "outputId": "8b5d70a4-b24b-4367-a4b1-ac86cb5a114f",
        "colab": {
          "base_uri": "https://localhost:8080/"
        }
      },
      "outputs": [
        {
          "output_type": "execute_result",
          "data": {
            "text/plain": [
              "['one is uno in Spanish', 'two is dos in Spanish', 'three is tres in Spanish']"
            ]
          },
          "metadata": {},
          "execution_count": 18
        }
      ],
      "source": [
        "base= \"{0} is {1} in Spanish\"\n",
        "[base.format(k, v) for k, v in eng_to_span.items()]"
      ]
    },
    {
      "cell_type": "markdown",
      "metadata": {
        "id": "gpaxD-GOpo8t"
      },
      "source": [
        "## Dictionary Comprehensions\n",
        "\n",
        "Similar to lists, we can process dictionaries with a comprehension.  It has a similar syntax.\n",
        "\n",
        "```\n",
        "{k:v for k, v in dict.values()}\n",
        "```"
      ]
    },
    {
      "cell_type": "markdown",
      "metadata": {
        "id": "617wz64Ppo8t"
      },
      "source": [
        "## Example - Programic construction of a dictionary\n",
        "\n",
        "Construction of a dictionary as follows.\n",
        "\n",
        "1. Make a list of keys and a list of values\n",
        "    * Line up value (first with first, etc.)\n",
        "2. zip the lists together into key-value tuples.\n",
        "3. Use a dict comprehension to constuct the dictionary."
      ]
    },
    {
      "cell_type": "code",
      "execution_count": 19,
      "metadata": {
        "id": "OHLO7p6Spo8u",
        "outputId": "a98fca14-16aa-432d-9a9e-9bbfaa6cd2d2",
        "colab": {
          "base_uri": "https://localhost:8080/"
        }
      },
      "outputs": [
        {
          "output_type": "execute_result",
          "data": {
            "text/plain": [
              "[('one', 'uno'), ('two', 'dos'), ('three', 'tres')]"
            ]
          },
          "metadata": {},
          "execution_count": 19
        }
      ],
      "source": [
        "eng_num = ['one', 'two', 'three']\n",
        "span_num = ['uno', 'dos', 'tres']\n",
        "pairs = [item for item in zip(eng_num, span_num)]\n",
        "pairs"
      ]
    },
    {
      "cell_type": "code",
      "execution_count": 20,
      "metadata": {
        "id": "5J95t6ampo8u",
        "outputId": "79652dfb-a6d7-4784-8f72-d96e85311943",
        "colab": {
          "base_uri": "https://localhost:8080/"
        }
      },
      "outputs": [
        {
          "output_type": "execute_result",
          "data": {
            "text/plain": [
              "{'uno': 'one', 'dos': 'two', 'tres': 'three'}"
            ]
          },
          "metadata": {},
          "execution_count": 20
        }
      ],
      "source": [
        "en_to_sp = {v:k  for k, v in pairs}\n",
        "en_to_sp"
      ]
    },
    {
      "cell_type": "markdown",
      "metadata": {
        "id": "ECU0Ho-bpo8u"
      },
      "source": [
        "## All in one expression"
      ]
    },
    {
      "cell_type": "code",
      "execution_count": 21,
      "metadata": {
        "id": "AqMhbSnJpo8u",
        "outputId": "ff841f7b-69da-46d9-e31a-ccfd6a0057ad",
        "colab": {
          "base_uri": "https://localhost:8080/"
        }
      },
      "outputs": [
        {
          "output_type": "execute_result",
          "data": {
            "text/plain": [
              "{'one': 'uno', 'two': 'dos', 'three': 'tres'}"
            ]
          },
          "metadata": {},
          "execution_count": 21
        }
      ],
      "source": [
        "{key:val for key, val in zip(eng_num, span_num)}"
      ]
    },
    {
      "cell_type": "markdown",
      "metadata": {
        "id": "-jjxD4d_po8v"
      },
      "source": [
        "<font color=\"red\"><h2> Exercise 1 </h2></font>\n",
        "\n",
        "Use `zip` inside a dictionary comprehension to create a *Spanish to English* dictionary."
      ]
    },
    {
      "cell_type": "code",
      "execution_count": 22,
      "metadata": {
        "id": "vyByKGw7po8v",
        "outputId": "33be9ab2-2624-42a5-b7c8-31e22661c5b1",
        "colab": {
          "base_uri": "https://localhost:8080/"
        }
      },
      "outputs": [
        {
          "output_type": "execute_result",
          "data": {
            "text/plain": [
              "{'uno': 'one', 'dos': 'two', 'tres': 'three'}"
            ]
          },
          "metadata": {},
          "execution_count": 22
        }
      ],
      "source": [
        "{key:val for key, val in zip(span_num, eng_num)}"
      ]
    }
  ],
  "metadata": {
    "kernelspec": {
      "display_name": "Python 3",
      "language": "python",
      "name": "python3"
    },
    "language_info": {
      "codemirror_mode": {
        "name": "ipython",
        "version": 3
      },
      "file_extension": ".py",
      "mimetype": "text/x-python",
      "name": "python",
      "nbconvert_exporter": "python",
      "pygments_lexer": "ipython3",
      "version": "3.7.2"
    },
    "colab": {
      "provenance": [],
      "include_colab_link": true
    }
  },
  "nbformat": 4,
  "nbformat_minor": 0
}