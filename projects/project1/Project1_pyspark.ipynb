{
 "cells": [
  {
   "cell_type": "code",
   "execution_count": 6,
   "metadata": {},
   "outputs": [],
   "source": [
    "from pyspark.sql.functions import *\n",
    "from pyspark.sql import SparkSession\n",
    "import numpy as np\n",
    "from pyspark.sql.types import StructType, StructField, StringType, IntegerType, DateType\n",
    "from pyspark.sql.functions import udf\n",
    "from more_pyspark import *"
   ]
  },
  {
   "cell_type": "code",
   "execution_count": 2,
   "metadata": {},
   "outputs": [
    {
     "name": "stdout",
     "output_type": "stream",
     "text": [
      "22/11/08 11:54:33 WARN Utils: Your hostname, jt7372wd222 resolves to a loopback address: 127.0.1.1; using 172.23.236.204 instead (on interface eth0)\n",
      "22/11/08 11:54:33 WARN Utils: Set SPARK_LOCAL_IP if you need to bind to another address\n"
     ]
    },
    {
     "name": "stderr",
     "output_type": "stream",
     "text": [
      "Setting default log level to \"WARN\".\n",
      "To adjust logging level use sc.setLogLevel(newLevel). For SparkR, use setLogLevel(newLevel).\n"
     ]
    },
    {
     "name": "stdout",
     "output_type": "stream",
     "text": [
      "22/11/08 11:54:35 WARN NativeCodeLoader: Unable to load native-hadoop library for your platform... using builtin-java classes where applicable\n"
     ]
    }
   ],
   "source": [
    "spark = SparkSession.builder.appName('Ops').getOrCreate()"
   ]
  },
  {
   "cell_type": "code",
   "execution_count": 3,
   "metadata": {},
   "outputs": [],
   "source": [
    "# Assigning long strings to meaningful variables\n",
    "poverty_data_path = \"./Data/PovertyEstimates.csv\"\n",
    "crosswalk_data_path = \"./Data/CMS_facility_to_fips_crosswalk.csv\"\n",
    "hospital_data_path = \"./Data/Timely_and_Effective_Care-Hospital.csv\"\n",
    "\n",
    "hospital_data_cols = ['Facility ID', 'State', 'County Name', 'Condition', 'Measure Name', 'Score']\n",
    "hospital_data_measure_names = ['Left before being seen', 'Average (median) time patients spent in the emergency department before leaving from the visit A lower number of minutes is better']"
   ]
  },
  {
   "cell_type": "code",
   "execution_count": 4,
   "metadata": {},
   "outputs": [],
   "source": [
    "poverty_data = spark.read.csv(poverty_data_path, header=True, inferSchema=True)\n",
    "crosswalk_data = spark.read.csv(crosswalk_data_path, header=True, inferSchema=True)\n",
    "hospital_data = spark.read.csv(hospital_data_path, header=True, inferSchema=True)"
   ]
  },
  {
   "cell_type": "code",
   "execution_count": 5,
   "metadata": {},
   "outputs": [
    {
     "name": "stdout",
     "output_type": "stream",
     "text": [
      "StructType([StructField('Facility ID', DoubleType(), True),\n",
      "            StructField('Facility Name', StringType(), True),\n",
      "            StructField('Address', StringType(), True),\n",
      "            StructField('City', StringType(), True),\n",
      "            StructField('State', StringType(), True),\n",
      "            StructField('ZIP Code', IntegerType(), True),\n",
      "            StructField('County Name', StringType(), True),\n",
      "            StructField('Phone Number', StringType(), True),\n",
      "            StructField('Condition', StringType(), True),\n",
      "            StructField('Measure ID', StringType(), True),\n",
      "            StructField('Measure Name', StringType(), True),\n",
      "            StructField('Score', StringType(), True),\n",
      "            StructField('Sample', StringType(), True),\n",
      "            StructField('Footnote', StringType(), True),\n",
      "            StructField('Start Date', StringType(), True),\n",
      "            StructField('End Date', StringType(), True)])\n"
     ]
    }
   ],
   "source": [
    "hospital_data >> pprint_schema"
   ]
  },
  {
   "cell_type": "code",
   "execution_count": 18,
   "metadata": {},
   "outputs": [],
   "source": [
    "hospital_schema = StructType([StructField('Facility ID', StringType(), True),\n",
    "            StructField('Facility Name', StringType(), True),\n",
    "            StructField('Address', StringType(), True),\n",
    "            StructField('City', StringType(), True),\n",
    "            StructField('State', StringType(), True),\n",
    "            StructField('ZIP Code', IntegerType(), True),\n",
    "            StructField('County Name', StringType(), True),\n",
    "            StructField('Phone Number', StringType(), True),\n",
    "            StructField('Condition', StringType(), True),\n",
    "            StructField('Measure ID', StringType(), True),\n",
    "            StructField('Measure Name', StringType(), True),\n",
    "            StructField('Score', StringType(), True),\n",
    "            StructField('Sample', StringType(), True),\n",
    "            StructField('Footnote', StringType(), True),\n",
    "            StructField('Start Date', DateType(), True),\n",
    "            StructField('End Date', DateType(), True)])\n",
    "\n",
    "hospital_data_dateTime = 'MM/dd/yyyy'"
   ]
  },
  {
   "cell_type": "code",
   "execution_count": 8,
   "metadata": {},
   "outputs": [
    {
     "name": "stdout",
     "output_type": "stream",
     "text": [
      "StructType([StructField('Final FIPS', IntegerType(), True),\n",
      "            StructField('Facility ID', DoubleType(), True),\n",
      "            StructField('State', StringType(), True),\n",
      "            StructField('County Name', StringType(), True)])\n"
     ]
    }
   ],
   "source": [
    "crosswalk_data >> pprint_schema"
   ]
  },
  {
   "cell_type": "code",
   "execution_count": 9,
   "metadata": {},
   "outputs": [],
   "source": [
    "crosswalk_schema = StructType([StructField('Final FIPS', IntegerType(), True),\n",
    "            StructField('Facility ID', StringType(), True),\n",
    "            StructField('State', StringType(), True),\n",
    "            StructField('County Name', StringType(), True)])"
   ]
  },
  {
   "cell_type": "code",
   "execution_count": 10,
   "metadata": {},
   "outputs": [
    {
     "name": "stdout",
     "output_type": "stream",
     "text": [
      "StructType([StructField('FIPS_code', IntegerType(), True),\n",
      "            StructField('Stabr', StringType(), True),\n",
      "            StructField('Area_name', StringType(), True),\n",
      "            StructField('Rural-urban_Continuum_Code_2003', IntegerType(), True),\n",
      "            StructField('Urban_Influence_Code_2003', IntegerType(), True),\n",
      "            StructField('Rural-urban_Continuum_Code_2013', IntegerType(), True),\n",
      "            StructField('Urban_Influence_Code_2013', IntegerType(), True),\n",
      "            StructField('POVALL_2020', StringType(), True),\n",
      "            StructField('CI90LBALL_2020', StringType(), True),\n",
      "            StructField('CI90UBALL_2020', StringType(), True),\n",
      "            StructField('PCTPOVALL_2020', DoubleType(), True),\n",
      "            StructField('CI90LBALLP_2020', DoubleType(), True),\n",
      "            StructField('CI90UBALLP_2020', DoubleType(), True),\n",
      "            StructField('POV017_2020', StringType(), True),\n",
      "            StructField('CI90LB017_2020', StringType(), True),\n",
      "            StructField('CI90UB017_2020', StringType(), True),\n",
      "            StructField('PCTPOV017_2020', DoubleType(), True),\n",
      "            StructField('CI90LB017P_2020', DoubleType(), True),\n",
      "            StructField('CI90UB017P_2020', DoubleType(), True),\n",
      "            StructField('POV517_2020', StringType(), True),\n",
      "            StructField('CI90LB517_2020', StringType(), True),\n",
      "            StructField('CI90UB517_2020', StringType(), True),\n",
      "            StructField('PCTPOV517_2020', DoubleType(), True),\n",
      "            StructField('CI90LB517P_2020', DoubleType(), True),\n",
      "            StructField('CI90UB517P_2020', DoubleType(), True),\n",
      "            StructField('MEDHHINC_2020', StringType(), True),\n",
      "            StructField('CI90LBINC_2020', StringType(), True),\n",
      "            StructField('CI90UBINC_2020', StringType(), True),\n",
      "            StructField('POV04_2020', StringType(), True),\n",
      "            StructField('CI90LB04_2020', StringType(), True),\n",
      "            StructField('CI90UB04_2020', StringType(), True),\n",
      "            StructField('PCTPOV04_2020', DoubleType(), True),\n",
      "            StructField('CI90LB04P_2020', DoubleType(), True),\n",
      "            StructField('CI90UB04P_2020', DoubleType(), True)])\n"
     ]
    }
   ],
   "source": [
    "poverty_data >> pprint_schema"
   ]
  },
  {
   "cell_type": "code",
   "execution_count": 19,
   "metadata": {},
   "outputs": [],
   "source": [
    "crosswalk_data = spark.read.csv(crosswalk_data_path, header=True, schema=crosswalk_schema)\n",
    "hospital_data = spark.read.csv(hospital_data_path, header=True, schema=hospital_schema, dateFormat=hospital_data_dateTime)"
   ]
  },
  {
   "cell_type": "code",
   "execution_count": 12,
   "metadata": {},
   "outputs": [],
   "source": [
    "from pyspark.sql.functions import array, explode, struct, lit, col\n",
    "\n",
    "@pipeable\n",
    "def spread(val_col, var_col, group_by_col, df):\n",
    "    return  (df\n",
    "             .groupBy(group_by_col)\n",
    "             .pivot(val_col)\n",
    "             .sum(var_col))"
   ]
  },
  {
   "cell_type": "code",
   "execution_count": 36,
   "metadata": {},
   "outputs": [],
   "source": [
    "cleaned_hospital_data = ((\n",
    "    hospital_data\n",
    "    .select(hospital_data_cols)\n",
    "    .where(col('Condition') == \"Emergency Department\")\n",
    "    .where(col('Measure Name').contains(hospital_data_measure_names[0]) | col('Measure Name').contains(hospital_data_measure_names[1]))\n",
    "    .drop(col('Condition'))\n",
    "    .withColumn(\"Score\", when(col('Score') == 'Not Available', np.NaN).otherwise(col('Score').astype('float')))\n",
    ") >> spread('Measure Name', 'Score', ['Facility ID', 'State', 'County Name']))"
   ]
  },
  {
   "cell_type": "code",
   "execution_count": 37,
   "metadata": {},
   "outputs": [],
   "source": [
    "cleaned_poverty_data = (\n",
    "    poverty_data\n",
    "    .select(col('FIPS_code'), col('PCTPOVALL_2020'))\n",
    ")"
   ]
  },
  {
   "cell_type": "code",
   "execution_count": 67,
   "metadata": {},
   "outputs": [
    {
     "name": "stderr",
     "output_type": "stream",
     "text": [
      "                                                                                \r"
     ]
    }
   ],
   "source": [
    "fix_fips = lambda fips: str(fips).zfill(5)\n",
    "five_digit_fips = udf(fix_fips, StringType())\n",
    "\n",
    "joined_data = (\n",
    "    cleaned_hospital_data\n",
    "    .join(crosswalk_data, \"Facility ID\", how='inner')\n",
    "    .withColumn('FIPS_code', col('Final FIPS'))\n",
    "    .drop(col(\"Final FIPS\"))\n",
    "    .join(cleaned_poverty_data, \"FIPS_code\", how='left')\n",
    "    .withColumn('FIPS_code', five_digit_fips(col('FIPS_code')))\n",
    "    .collect()\n",
    ") >> to_pandas"
   ]
  },
  {
   "cell_type": "code",
   "execution_count": 68,
   "metadata": {},
   "outputs": [
    {
     "data": {
      "text/html": [
       "<div>\n",
       "<style scoped>\n",
       "    .dataframe tbody tr th:only-of-type {\n",
       "        vertical-align: middle;\n",
       "    }\n",
       "\n",
       "    .dataframe tbody tr th {\n",
       "        vertical-align: top;\n",
       "    }\n",
       "\n",
       "    .dataframe thead th {\n",
       "        text-align: right;\n",
       "    }\n",
       "</style>\n",
       "<table border=\"1\" class=\"dataframe\">\n",
       "  <thead>\n",
       "    <tr style=\"text-align: right;\">\n",
       "      <th></th>\n",
       "      <th>FIPS_code</th>\n",
       "      <th>Facility ID</th>\n",
       "      <th>State</th>\n",
       "      <th>County Name</th>\n",
       "      <th>Average (median) time patients spent in the emergency department before leaving from the visit A lower number of minutes is better</th>\n",
       "      <th>Left before being seen</th>\n",
       "      <th>PCTPOVALL_2020</th>\n",
       "    </tr>\n",
       "  </thead>\n",
       "  <tbody>\n",
       "    <tr>\n",
       "      <th>0</th>\n",
       "      <td>04013</td>\n",
       "      <td>030030</td>\n",
       "      <td>AZ</td>\n",
       "      <td>MARICOPA</td>\n",
       "      <td>164.0</td>\n",
       "      <td>1.0</td>\n",
       "      <td>11.6</td>\n",
       "    </tr>\n",
       "    <tr>\n",
       "      <th>1</th>\n",
       "      <td>05119</td>\n",
       "      <td>040036</td>\n",
       "      <td>AR</td>\n",
       "      <td>PULASKI</td>\n",
       "      <td>199.0</td>\n",
       "      <td>2.0</td>\n",
       "      <td>15.3</td>\n",
       "    </tr>\n",
       "    <tr>\n",
       "      <th>2</th>\n",
       "      <td>06037</td>\n",
       "      <td>050112</td>\n",
       "      <td>CA</td>\n",
       "      <td>LOS ANGELES</td>\n",
       "      <td>138.0</td>\n",
       "      <td>1.0</td>\n",
       "      <td>13.2</td>\n",
       "    </tr>\n",
       "    <tr>\n",
       "      <th>3</th>\n",
       "      <td>06077</td>\n",
       "      <td>050122</td>\n",
       "      <td>CA</td>\n",
       "      <td>SAN JOAQUIN</td>\n",
       "      <td>155.0</td>\n",
       "      <td>3.0</td>\n",
       "      <td>13.9</td>\n",
       "    </tr>\n",
       "    <tr>\n",
       "      <th>4</th>\n",
       "      <td>20173</td>\n",
       "      <td>170186</td>\n",
       "      <td>KS</td>\n",
       "      <td>SEDGWICK</td>\n",
       "      <td>NaN</td>\n",
       "      <td>NaN</td>\n",
       "      <td>13.4</td>\n",
       "    </tr>\n",
       "    <tr>\n",
       "      <th>...</th>\n",
       "      <td>...</td>\n",
       "      <td>...</td>\n",
       "      <td>...</td>\n",
       "      <td>...</td>\n",
       "      <td>...</td>\n",
       "      <td>...</td>\n",
       "      <td>...</td>\n",
       "    </tr>\n",
       "    <tr>\n",
       "      <th>4706</th>\n",
       "      <td>36059</td>\n",
       "      <td>330182</td>\n",
       "      <td>NY</td>\n",
       "      <td>NASSAU</td>\n",
       "      <td>168.0</td>\n",
       "      <td>0.0</td>\n",
       "      <td>5.7</td>\n",
       "    </tr>\n",
       "    <tr>\n",
       "      <th>4707</th>\n",
       "      <td>41023</td>\n",
       "      <td>381305</td>\n",
       "      <td>OR</td>\n",
       "      <td>GRANT</td>\n",
       "      <td>142.0</td>\n",
       "      <td>8.0</td>\n",
       "      <td>13.9</td>\n",
       "    </tr>\n",
       "    <tr>\n",
       "      <th>4708</th>\n",
       "      <td>39007</td>\n",
       "      <td>360245</td>\n",
       "      <td>OH</td>\n",
       "      <td>ASHTABULA</td>\n",
       "      <td>NaN</td>\n",
       "      <td>NaN</td>\n",
       "      <td>16.5</td>\n",
       "    </tr>\n",
       "    <tr>\n",
       "      <th>4709</th>\n",
       "      <td>55081</td>\n",
       "      <td>521305</td>\n",
       "      <td>WI</td>\n",
       "      <td>MONROE</td>\n",
       "      <td>83.0</td>\n",
       "      <td>0.0</td>\n",
       "      <td>10.5</td>\n",
       "    </tr>\n",
       "    <tr>\n",
       "      <th>4710</th>\n",
       "      <td>55049</td>\n",
       "      <td>521352</td>\n",
       "      <td>WI</td>\n",
       "      <td>IOWA</td>\n",
       "      <td>116.0</td>\n",
       "      <td>0.0</td>\n",
       "      <td>7.2</td>\n",
       "    </tr>\n",
       "  </tbody>\n",
       "</table>\n",
       "<p>4711 rows × 7 columns</p>\n",
       "</div>"
      ],
      "text/plain": [
       "     FIPS_code Facility ID State  County Name  \\\n",
       "0        04013      030030    AZ     MARICOPA   \n",
       "1        05119      040036    AR      PULASKI   \n",
       "2        06037      050112    CA  LOS ANGELES   \n",
       "3        06077      050122    CA  SAN JOAQUIN   \n",
       "4        20173      170186    KS     SEDGWICK   \n",
       "...        ...         ...   ...          ...   \n",
       "4706     36059      330182    NY       NASSAU   \n",
       "4707     41023      381305    OR        GRANT   \n",
       "4708     39007      360245    OH    ASHTABULA   \n",
       "4709     55081      521305    WI       MONROE   \n",
       "4710     55049      521352    WI         IOWA   \n",
       "\n",
       "      Average (median) time patients spent in the emergency department before leaving from the visit A lower number of minutes is better  \\\n",
       "0                                                 164.0                                                                                    \n",
       "1                                                 199.0                                                                                    \n",
       "2                                                 138.0                                                                                    \n",
       "3                                                 155.0                                                                                    \n",
       "4                                                   NaN                                                                                    \n",
       "...                                                 ...                                                                                    \n",
       "4706                                              168.0                                                                                    \n",
       "4707                                              142.0                                                                                    \n",
       "4708                                                NaN                                                                                    \n",
       "4709                                               83.0                                                                                    \n",
       "4710                                              116.0                                                                                    \n",
       "\n",
       "      Left before being seen  PCTPOVALL_2020  \n",
       "0                        1.0            11.6  \n",
       "1                        2.0            15.3  \n",
       "2                        1.0            13.2  \n",
       "3                        3.0            13.9  \n",
       "4                        NaN            13.4  \n",
       "...                      ...             ...  \n",
       "4706                     0.0             5.7  \n",
       "4707                     8.0            13.9  \n",
       "4708                     NaN            16.5  \n",
       "4709                     0.0            10.5  \n",
       "4710                     0.0             7.2  \n",
       "\n",
       "[4711 rows x 7 columns]"
      ]
     },
     "execution_count": 68,
     "metadata": {},
     "output_type": "execute_result"
    }
   ],
   "source": [
    "joined_data"
   ]
  },
  {
   "cell_type": "code",
   "execution_count": null,
   "metadata": {},
   "outputs": [],
   "source": []
  },
  {
   "cell_type": "code",
   "execution_count": 69,
   "metadata": {},
   "outputs": [],
   "source": [
    "joined_data.to_csv(\"./Data/timely_care_w_poverty_percent_spark.csv\")"
   ]
  }
 ],
 "metadata": {
  "kernelspec": {
   "display_name": "Python 3 (ipykernel)",
   "language": "python",
   "name": "python3"
  },
  "language_info": {
   "codemirror_mode": {
    "name": "ipython",
    "version": 3
   },
   "file_extension": ".py",
   "mimetype": "text/x-python",
   "name": "python",
   "nbconvert_exporter": "python",
   "pygments_lexer": "ipython3",
   "version": "3.9.12"
  },
  "orig_nbformat": 4,
  "vscode": {
   "interpreter": {
    "hash": "916dbcbb3f70747c44a77c7bcd40155683ae19c65e1c03b4aa3499c5328201f1"
   }
  }
 },
 "nbformat": 4,
 "nbformat_minor": 2
}
