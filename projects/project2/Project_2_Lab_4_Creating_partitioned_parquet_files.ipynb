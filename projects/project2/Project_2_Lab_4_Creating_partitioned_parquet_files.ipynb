{
 "cells": [
  {
   "cell_type": "code",
   "execution_count": 1,
   "id": "698db51a",
   "metadata": {
    "scrolled": true
   },
   "outputs": [
    {
     "name": "stdout",
     "output_type": "stream",
     "text": [
      "Requirement already satisfied: more_pyspark in /home/fahad/.pyenv/versions/anaconda3-2022.05/envs/dsci326/lib/python3.10/site-packages (0.1.4)\n",
      "Requirement already satisfied: pandas<2,>=1 in /home/fahad/.pyenv/versions/anaconda3-2022.05/envs/dsci326/lib/python3.10/site-packages (from more_pyspark) (1.4.4)\n",
      "Requirement already satisfied: pyspark<4,>=3 in /home/fahad/.pyenv/versions/anaconda3-2022.05/envs/dsci326/lib/python3.10/site-packages (from more_pyspark) (3.3.1)\n",
      "Requirement already satisfied: more-itertools<10.0.0,>=9.0.0 in /home/fahad/.pyenv/versions/anaconda3-2022.05/envs/dsci326/lib/python3.10/site-packages (from more_pyspark) (9.0.0)\n",
      "Requirement already satisfied: composable>=0.4.0 in /home/fahad/.pyenv/versions/anaconda3-2022.05/envs/dsci326/lib/python3.10/site-packages (from more_pyspark) (0.5.4)\n",
      "Requirement already satisfied: toolz<0.12.0,>=0.11.1 in /home/fahad/.pyenv/versions/anaconda3-2022.05/envs/dsci326/lib/python3.10/site-packages (from composable>=0.4.0->more_pyspark) (0.11.2)\n",
      "Requirement already satisfied: python-forge<19.0,>=18.6 in /home/fahad/.pyenv/versions/anaconda3-2022.05/envs/dsci326/lib/python3.10/site-packages (from composable>=0.4.0->more_pyspark) (18.6.0)\n",
      "Requirement already satisfied: python-dateutil>=2.8.1 in /home/fahad/.pyenv/versions/anaconda3-2022.05/envs/dsci326/lib/python3.10/site-packages (from pandas<2,>=1->more_pyspark) (2.8.2)\n",
      "Requirement already satisfied: pytz>=2020.1 in /home/fahad/.pyenv/versions/anaconda3-2022.05/envs/dsci326/lib/python3.10/site-packages (from pandas<2,>=1->more_pyspark) (2022.1)\n",
      "Requirement already satisfied: numpy>=1.21.0 in /home/fahad/.pyenv/versions/anaconda3-2022.05/envs/dsci326/lib/python3.10/site-packages (from pandas<2,>=1->more_pyspark) (1.21.5)\n",
      "Requirement already satisfied: py4j==0.10.9.5 in /home/fahad/.pyenv/versions/anaconda3-2022.05/envs/dsci326/lib/python3.10/site-packages (from pyspark<4,>=3->more_pyspark) (0.10.9.5)\n",
      "Requirement already satisfied: six>=1.5 in /home/fahad/.pyenv/versions/anaconda3-2022.05/envs/dsci326/lib/python3.10/site-packages (from python-dateutil>=2.8.1->pandas<2,>=1->more_pyspark) (1.16.0)\n"
     ]
    }
   ],
   "source": [
    "!pip install more_pyspark"
   ]
  },
  {
   "cell_type": "code",
   "execution_count": 2,
   "id": "23737b81",
   "metadata": {
    "scrolled": false
   },
   "outputs": [
    {
     "name": "stdout",
     "output_type": "stream",
     "text": [
      "Requirement already satisfied: composable in /home/fahad/.pyenv/versions/anaconda3-2022.05/envs/dsci326/lib/python3.10/site-packages (0.5.4)\n",
      "Requirement already satisfied: toolz<0.12.0,>=0.11.1 in /home/fahad/.pyenv/versions/anaconda3-2022.05/envs/dsci326/lib/python3.10/site-packages (from composable) (0.11.2)\n",
      "Requirement already satisfied: python-forge<19.0,>=18.6 in /home/fahad/.pyenv/versions/anaconda3-2022.05/envs/dsci326/lib/python3.10/site-packages (from composable) (18.6.0)\n"
     ]
    }
   ],
   "source": [
    "!pip install composable --upgrade"
   ]
  },
  {
   "cell_type": "markdown",
   "id": "54b3054c",
   "metadata": {},
   "source": [
    "# Lab 4 - Creating partitioned parquet files\n",
    "\n",
    "In this lab, we will perform our first round of data preparation by writing the larger files (`XREF` and the yearly `parcel` files to the `parquet` format.  \n",
    "\n",
    "In the process, we will discuss and investigate an important concept in managing lots of data: the principle of locality.  Big data problem as IO bound, meaning that almost all of the time/resources will be used managing the input/output of data.  The principle of locality holds that is often reused over a short period of time (temporal locality) and data that is stored in similar locations tend to be used at similar points in a program (spatial locality).  The `parquet` always us to partition a data set to leverage these properties.   *The correct partitioning can result in orders of magnitude speed up in processing time!*\n",
    "\n"
   ]
  },
  {
   "cell_type": "markdown",
   "id": "687ec68c",
   "metadata": {},
   "source": [
    "## The Principle of Locality.\n",
    "\n",
    "<img src=\"./img/locality.png\" width=\"800\">\n",
    "\n",
    "We can leverage the behavior of the operating system (OS)--in particular the loading of chucks of data in proximity and keeping that data in memory for a time--by partitioning our data so that similar data is stored together."
   ]
  },
  {
   "cell_type": "markdown",
   "id": "e92b1b92",
   "metadata": {},
   "source": [
    "## We need to group the data by lake and distance to the lake\n",
    "\n",
    "<img src=\"./img/row_proximity.png\" width=\"800\">"
   ]
  },
  {
   "cell_type": "markdown",
   "id": "ee5d8102",
   "metadata": {},
   "source": [
    "## Problem 1 - Understanding the big picture and tables keys\n",
    "\n",
    "**Tasks.**  \n",
    "\n",
    "1. Explain why it, in the case of parcel data, to group the rows by lake id and distance to the lake.\n",
    "2. Neither of these columns is present in the parcel data files.  How will we go about adding this information?"
   ]
  },
  {
   "cell_type": "markdown",
   "id": "aca70000",
   "metadata": {},
   "source": [
    "> <font color=\"orange\"> 1. I think we would group the rows by lake id and distance to the lake because we would have easier and faster time to get these data because of principle of locality.<br>\n",
    "2. The coulmns could be added to parcel data by first union-ing the parcel data and then join these information to the parcel data.</font>"
   ]
  },
  {
   "cell_type": "markdown",
   "id": "35a7647b",
   "metadata": {},
   "source": [
    "## Problem 2 - Writing the XREF to a partitioned parquet \"file\"\n",
    "\n",
    "**Tasks.**\n",
    "\n",
    "1. Load the `XREF` data and select the relevant columns (Lake ID, centroid lat & long, distance to the lake).\n",
    "2. Create a new categorical variable named with three categories based on distance to the lake: withing 500m, between 501-1600m, and over 1600m.\n",
    "3. Write the table \n",
    "2. Read in each of these files and suggest the columns that will be used to join the tables.\n",
    "3. To understand the relationship (one-to-one; one-to-many; many-to-many) between tables, perform aggregation on each table to determine if there is one or many keys per row.\n",
    "4. Based on the results of the last task, suggest a join type and justify your response.\n",
    "5. For each table, create query that results in a column with one unique key per row.\n",
    "6. Perform the join suggested in **4.** and investigate any mismatches.  Document your findings and suggest necessary remedies.\n",
    "\n",
    "**Note.** The code for partitioning and writing a parquet file for the water quality data is provided as an example. "
   ]
  },
  {
   "cell_type": "markdown",
   "id": "8f1b350e",
   "metadata": {},
   "source": [
    "#### Example - Writing a partitioned water quality file"
   ]
  },
  {
   "cell_type": "code",
   "execution_count": 3,
   "id": "fc700300",
   "metadata": {
    "scrolled": true
   },
   "outputs": [
    {
     "name": "stdout",
     "output_type": "stream",
     "text": [
      "22/12/05 12:07:43 WARN Utils: Your hostname, jt7372wd222 resolves to a loopback address: 127.0.1.1; using 172.21.135.20 instead (on interface eth0)\n",
      "22/12/05 12:07:43 WARN Utils: Set SPARK_LOCAL_IP if you need to bind to another address\n"
     ]
    },
    {
     "name": "stderr",
     "output_type": "stream",
     "text": [
      "Setting default log level to \"WARN\".\n",
      "To adjust logging level use sc.setLogLevel(newLevel). For SparkR, use setLogLevel(newLevel).\n"
     ]
    },
    {
     "name": "stdout",
     "output_type": "stream",
     "text": [
      "22/12/05 12:07:44 WARN NativeCodeLoader: Unable to load native-hadoop library for your platform... using builtin-java classes where applicable\n",
      "22/12/05 12:07:45 WARN Utils: Service 'SparkUI' could not bind on port 4040. Attempting port 4041.\n"
     ]
    }
   ],
   "source": [
    "from pyspark.sql import SparkSession\n",
    "\n",
    "\n",
    "spark = (SparkSession.builder.appName('Ops').getOrCreate())"
   ]
  },
  {
   "cell_type": "code",
   "execution_count": 4,
   "id": "aab109e7",
   "metadata": {},
   "outputs": [
    {
     "name": "stdout",
     "output_type": "stream",
     "text": [
      "22/12/05 12:07:53 WARN package: Truncated the string representation of a plan since it was too large. This behavior can be adjusted by setting 'spark.sql.debug.maxToStringFields'.\n"
     ]
    },
    {
     "data": {
      "text/html": [
       "<div>\n",
       "<style scoped>\n",
       "    .dataframe tbody tr th:only-of-type {\n",
       "        vertical-align: middle;\n",
       "    }\n",
       "\n",
       "    .dataframe tbody tr th {\n",
       "        vertical-align: top;\n",
       "    }\n",
       "\n",
       "    .dataframe thead th {\n",
       "        text-align: right;\n",
       "    }\n",
       "</style>\n",
       "<table border=\"1\" class=\"dataframe\">\n",
       "  <thead>\n",
       "    <tr style=\"text-align: right;\">\n",
       "      <th></th>\n",
       "      <th>PROJECT_ID</th>\n",
       "      <th>DATA_SET_TITLE</th>\n",
       "      <th>LAKE_NAME</th>\n",
       "      <th>CITY</th>\n",
       "      <th>COUNTY</th>\n",
       "      <th>DNR_ID_Site_Number</th>\n",
       "      <th>MAJOR_WATERSHED</th>\n",
       "      <th>WATER_PLANNING_AUTHORITY</th>\n",
       "      <th>LAKE_SITE_NUMBER</th>\n",
       "      <th>START_DATE</th>\n",
       "      <th>...</th>\n",
       "      <th>Secchi_Depth_RESULT_SIGN</th>\n",
       "      <th>Secchi_Depth_RESULT</th>\n",
       "      <th>Secchi_Depth_QUALIFIER</th>\n",
       "      <th>Secchi_Depth_Units</th>\n",
       "      <th>Total_Phosphorus_RESULT_SIGN</th>\n",
       "      <th>Total_Phosphorus_RESULT</th>\n",
       "      <th>Total_Phosphorus_QUALIFIER</th>\n",
       "      <th>Total_Phosphorus_Units</th>\n",
       "      <th>longitude</th>\n",
       "      <th>latitude</th>\n",
       "    </tr>\n",
       "  </thead>\n",
       "  <tbody>\n",
       "    <tr>\n",
       "      <th>0</th>\n",
       "      <td>7108</td>\n",
       "      <td>Citizen Assisted Monitoring Program (CAMP) for...</td>\n",
       "      <td>Acorn Lake</td>\n",
       "      <td>Oakdale</td>\n",
       "      <td>Washington</td>\n",
       "      <td>82010200-01</td>\n",
       "      <td>Lower St. Croix River</td>\n",
       "      <td>Valley Branch WD</td>\n",
       "      <td>1</td>\n",
       "      <td>2006-04-16</td>\n",
       "      <td>...</td>\n",
       "      <td>None</td>\n",
       "      <td>1</td>\n",
       "      <td>Approved</td>\n",
       "      <td>m</td>\n",
       "      <td>None</td>\n",
       "      <td>0.156</td>\n",
       "      <td>Approved</td>\n",
       "      <td>mg/L</td>\n",
       "      <td>-92.97171054</td>\n",
       "      <td>45.01655642</td>\n",
       "    </tr>\n",
       "    <tr>\n",
       "      <th>1</th>\n",
       "      <td>7108</td>\n",
       "      <td>Citizen Assisted Monitoring Program (CAMP) for...</td>\n",
       "      <td>Acorn Lake</td>\n",
       "      <td>Oakdale</td>\n",
       "      <td>Washington</td>\n",
       "      <td>82010200-01</td>\n",
       "      <td>Lower St. Croix River</td>\n",
       "      <td>Valley Branch WD</td>\n",
       "      <td>1</td>\n",
       "      <td>2006-05-01</td>\n",
       "      <td>...</td>\n",
       "      <td>None</td>\n",
       "      <td>None</td>\n",
       "      <td>None</td>\n",
       "      <td>m</td>\n",
       "      <td>None</td>\n",
       "      <td>None</td>\n",
       "      <td>None</td>\n",
       "      <td>mg/L</td>\n",
       "      <td>-92.97171054</td>\n",
       "      <td>45.01655642</td>\n",
       "    </tr>\n",
       "  </tbody>\n",
       "</table>\n",
       "<p>2 rows × 33 columns</p>\n",
       "</div>"
      ],
      "text/plain": [
       "  PROJECT_ID                                     DATA_SET_TITLE   LAKE_NAME  \\\n",
       "0       7108  Citizen Assisted Monitoring Program (CAMP) for...  Acorn Lake   \n",
       "1       7108  Citizen Assisted Monitoring Program (CAMP) for...  Acorn Lake   \n",
       "\n",
       "      CITY      COUNTY DNR_ID_Site_Number        MAJOR_WATERSHED  \\\n",
       "0  Oakdale  Washington        82010200-01  Lower St. Croix River   \n",
       "1  Oakdale  Washington        82010200-01  Lower St. Croix River   \n",
       "\n",
       "  WATER_PLANNING_AUTHORITY LAKE_SITE_NUMBER  START_DATE  ...  \\\n",
       "0         Valley Branch WD                1  2006-04-16  ...   \n",
       "1         Valley Branch WD                1  2006-05-01  ...   \n",
       "\n",
       "  Secchi_Depth_RESULT_SIGN Secchi_Depth_RESULT Secchi_Depth_QUALIFIER  \\\n",
       "0                     None                   1               Approved   \n",
       "1                     None                None                   None   \n",
       "\n",
       "  Secchi_Depth_Units Total_Phosphorus_RESULT_SIGN Total_Phosphorus_RESULT  \\\n",
       "0                  m                         None                   0.156   \n",
       "1                  m                         None                    None   \n",
       "\n",
       "  Total_Phosphorus_QUALIFIER Total_Phosphorus_Units     longitude     latitude  \n",
       "0                   Approved                   mg/L  -92.97171054  45.01655642  \n",
       "1                       None                   mg/L  -92.97171054  45.01655642  \n",
       "\n",
       "[2 rows x 33 columns]"
      ]
     },
     "execution_count": 4,
     "metadata": {},
     "output_type": "execute_result"
    }
   ],
   "source": [
    "from more_pyspark import to_pandas, pprint_schema\n",
    "\n",
    "water_quality = spark.read.csv('./data/MinneMUDAC_raw_files/mces_lakes_1999_2014.txt',\n",
    "                              header = True,\n",
    "                              sep='\\t')\n",
    "water_quality.take(2) >> to_pandas"
   ]
  },
  {
   "cell_type": "code",
   "execution_count": 5,
   "id": "dfc3c511",
   "metadata": {},
   "outputs": [
    {
     "name": "stderr",
     "output_type": "stream",
     "text": [
      "\r",
      "[Stage 2:>                                                          (0 + 3) / 3]\r"
     ]
    },
    {
     "name": "stdout",
     "output_type": "stream",
     "text": [
      "4.65 s ± 0 ns per loop (mean ± std. dev. of 1 run, 1 loop each)\n"
     ]
    },
    {
     "name": "stderr",
     "output_type": "stream",
     "text": [
      "\r",
      "                                                                                \r"
     ]
    }
   ],
   "source": [
    "%%timeit -n 1 -r 1\n",
    "\n",
    "(water_quality\n",
    " .write\n",
    " .partitionBy('DNR_ID_Site_Number')\n",
    " .mode('overwrite')\n",
    " .parquet('water_quality.parquet')\n",
    ")"
   ]
  },
  {
   "cell_type": "code",
   "execution_count": 6,
   "id": "afe0a928",
   "metadata": {},
   "outputs": [],
   "source": [
    "# Place your code/thoughts in one or more code/markdown cells, respectively.\n",
    "import pandas as pd\n",
    "from pyspark.sql.functions import col, when\n",
    "pd.set_option('display.max_columns', None)"
   ]
  },
  {
   "cell_type": "code",
   "execution_count": 7,
   "id": "770a3c67",
   "metadata": {},
   "outputs": [
    {
     "data": {
      "text/html": [
       "<div>\n",
       "<style scoped>\n",
       "    .dataframe tbody tr th:only-of-type {\n",
       "        vertical-align: middle;\n",
       "    }\n",
       "\n",
       "    .dataframe tbody tr th {\n",
       "        vertical-align: top;\n",
       "    }\n",
       "\n",
       "    .dataframe thead th {\n",
       "        text-align: right;\n",
       "    }\n",
       "</style>\n",
       "<table border=\"1\" class=\"dataframe\">\n",
       "  <thead>\n",
       "    <tr style=\"text-align: right;\">\n",
       "      <th></th>\n",
       "      <th>Parcel_PIN</th>\n",
       "      <th>Monit_MAP_CODE1</th>\n",
       "      <th>Monit_SITE_CODE</th>\n",
       "      <th>Monit_LAKE_SITE</th>\n",
       "      <th>Distance_Parcel_Monitoring_Site_meters</th>\n",
       "      <th>Lake_Hydroid</th>\n",
       "      <th>Distance_Parcel_Lake_meters</th>\n",
       "      <th>centroid_long</th>\n",
       "      <th>centroid_lat</th>\n",
       "      <th>Parcel_pkey</th>\n",
       "    </tr>\n",
       "  </thead>\n",
       "  <tbody>\n",
       "    <tr>\n",
       "      <th>0</th>\n",
       "      <td>None</td>\n",
       "      <td>19007900-01</td>\n",
       "      <td>19007900</td>\n",
       "      <td>1</td>\n",
       "      <td>2815.4927104148851</td>\n",
       "      <td>110517277058</td>\n",
       "      <td>2571.5267922258381</td>\n",
       "      <td>-93.11451</td>\n",
       "      <td>44.94283</td>\n",
       "      <td>2163034</td>\n",
       "    </tr>\n",
       "    <tr>\n",
       "      <th>1</th>\n",
       "      <td>None</td>\n",
       "      <td>19007900-01</td>\n",
       "      <td>19007900</td>\n",
       "      <td>1</td>\n",
       "      <td>2753.4746875312162</td>\n",
       "      <td>110517277058</td>\n",
       "      <td>2515.3738022144425</td>\n",
       "      <td>-93.11539</td>\n",
       "      <td>44.94234</td>\n",
       "      <td>2163035</td>\n",
       "    </tr>\n",
       "  </tbody>\n",
       "</table>\n",
       "</div>"
      ],
      "text/plain": [
       "  Parcel_PIN Monit_MAP_CODE1 Monit_SITE_CODE Monit_LAKE_SITE  \\\n",
       "0       None     19007900-01        19007900               1   \n",
       "1       None     19007900-01        19007900               1   \n",
       "\n",
       "  Distance_Parcel_Monitoring_Site_meters  Lake_Hydroid  \\\n",
       "0                     2815.4927104148851  110517277058   \n",
       "1                     2753.4746875312162  110517277058   \n",
       "\n",
       "  Distance_Parcel_Lake_meters centroid_long centroid_lat Parcel_pkey  \n",
       "0          2571.5267922258381     -93.11451     44.94283     2163034  \n",
       "1          2515.3738022144425     -93.11539     44.94234     2163035  "
      ]
     },
     "execution_count": 7,
     "metadata": {},
     "output_type": "execute_result"
    }
   ],
   "source": [
    "xref_data = spark.read.csv('./data/MinneMUDAC_raw_files/Parcel_Lake_Monitoring_Site_Xref.txt',\n",
    "                              header = True,\n",
    "                              sep='\\t')\n",
    "xref_data.take(2) >> to_pandas"
   ]
  },
  {
   "cell_type": "code",
   "execution_count": 8,
   "id": "3d0302c6",
   "metadata": {},
   "outputs": [],
   "source": [
    "# %%timeit -n 1 -r 1\n",
    "\n",
    "xref_data_w_distance_var = (xref_data\n",
    " .select('Monit_MAP_CODE1','Distance_Parcel_Lake_meters','centroid_long','centroid_lat')\n",
    " .withColumn(\"distance_categories\", when(col('Distance_Parcel_Lake_meters') <= 500, 'within 500m')\n",
    "                         .when((col('Distance_Parcel_Lake_meters') > 500)\n",
    "                             & (col('Distance_Parcel_Lake_meters') <= 1600), 'between 501-1600m')\n",
    "                         .otherwise('over 1600m')\n",
    "            )\n",
    ")"
   ]
  },
  {
   "cell_type": "code",
   "execution_count": 9,
   "id": "91754f8b",
   "metadata": {},
   "outputs": [
    {
     "name": "stderr",
     "output_type": "stream",
     "text": [
      "                                                                                \r"
     ]
    }
   ],
   "source": [
    "(xref_data_w_distance_var\n",
    " .write\n",
    " .partitionBy('Monit_MAP_CODE1','distance_categories')\n",
    " .mode('overwrite')\n",
    " .parquet('./data/xref.parquet')\n",
    ")"
   ]
  },
  {
   "cell_type": "code",
   "execution_count": 10,
   "id": "036d3819",
   "metadata": {},
   "outputs": [
    {
     "name": "stderr",
     "output_type": "stream",
     "text": [
      "                                                                                \r"
     ]
    }
   ],
   "source": [
    "xref_parquet = spark.read.parquet(\"data/xref.parquet\")"
   ]
  },
  {
   "cell_type": "code",
   "execution_count": 11,
   "id": "159a493b",
   "metadata": {},
   "outputs": [],
   "source": [
    "xref_parquet_within_500 = xref_parquet.where(col('distance_categories') == 'within 500m')\n",
    "xref_parquet_between_501_and_1600 = xref_parquet.where(col('distance_categories') == 'between 501-1600m')\n",
    "xref_parquet_over_1600 = xref_parquet.where(col('distance_categories') == 'over 1600m')"
   ]
  },
  {
   "cell_type": "markdown",
   "id": "100d962f",
   "metadata": {},
   "source": [
    "> We will use the columns `centroid_long` and `centroid_lat` to join the parcel data to xref data and use the column `Monit_MAP_CODE1` to join the xref data to the water quality data."
   ]
  },
  {
   "cell_type": "code",
   "execution_count": 12,
   "id": "8e7a3ed2",
   "metadata": {},
   "outputs": [
    {
     "name": "stderr",
     "output_type": "stream",
     "text": [
      "                                                                                \r"
     ]
    },
    {
     "data": {
      "text/html": [
       "<div>\n",
       "<style scoped>\n",
       "    .dataframe tbody tr th:only-of-type {\n",
       "        vertical-align: middle;\n",
       "    }\n",
       "\n",
       "    .dataframe tbody tr th {\n",
       "        vertical-align: top;\n",
       "    }\n",
       "\n",
       "    .dataframe thead th {\n",
       "        text-align: right;\n",
       "    }\n",
       "</style>\n",
       "<table border=\"1\" class=\"dataframe\">\n",
       "  <thead>\n",
       "    <tr style=\"text-align: right;\">\n",
       "      <th></th>\n",
       "      <th>centroid_lat</th>\n",
       "      <th>centroid_long</th>\n",
       "      <th>count</th>\n",
       "    </tr>\n",
       "  </thead>\n",
       "  <tbody>\n",
       "    <tr>\n",
       "      <th>0</th>\n",
       "      <td>45.31604</td>\n",
       "      <td>-93.15177</td>\n",
       "      <td>1</td>\n",
       "    </tr>\n",
       "    <tr>\n",
       "      <th>1</th>\n",
       "      <td>45.31259</td>\n",
       "      <td>-93.17935</td>\n",
       "      <td>1</td>\n",
       "    </tr>\n",
       "    <tr>\n",
       "      <th>2</th>\n",
       "      <td>45.30731</td>\n",
       "      <td>-93.16032</td>\n",
       "      <td>1</td>\n",
       "    </tr>\n",
       "    <tr>\n",
       "      <th>3</th>\n",
       "      <td>45.30093</td>\n",
       "      <td>-93.18571</td>\n",
       "      <td>1</td>\n",
       "    </tr>\n",
       "    <tr>\n",
       "      <th>4</th>\n",
       "      <td>45.30534</td>\n",
       "      <td>-93.15771</td>\n",
       "      <td>1</td>\n",
       "    </tr>\n",
       "  </tbody>\n",
       "</table>\n",
       "</div>"
      ],
      "text/plain": [
       "  centroid_lat centroid_long  count\n",
       "0     45.31604     -93.15177      1\n",
       "1     45.31259     -93.17935      1\n",
       "2     45.30731     -93.16032      1\n",
       "3     45.30093     -93.18571      1\n",
       "4     45.30534     -93.15771      1"
      ]
     },
     "execution_count": 12,
     "metadata": {},
     "output_type": "execute_result"
    }
   ],
   "source": [
    "(xref_parquet_within_500\n",
    " .groupBy(\"centroid_lat\",\"centroid_long\")\n",
    " .count()\n",
    " .orderBy(col('count').desc())\n",
    " .take(5)\n",
    ") >> to_pandas"
   ]
  },
  {
   "cell_type": "code",
   "execution_count": 13,
   "id": "7b9c1b1e",
   "metadata": {},
   "outputs": [
    {
     "name": "stderr",
     "output_type": "stream",
     "text": [
      "                                                                                \r"
     ]
    },
    {
     "data": {
      "text/html": [
       "<div>\n",
       "<style scoped>\n",
       "    .dataframe tbody tr th:only-of-type {\n",
       "        vertical-align: middle;\n",
       "    }\n",
       "\n",
       "    .dataframe tbody tr th {\n",
       "        vertical-align: top;\n",
       "    }\n",
       "\n",
       "    .dataframe thead th {\n",
       "        text-align: right;\n",
       "    }\n",
       "</style>\n",
       "<table border=\"1\" class=\"dataframe\">\n",
       "  <thead>\n",
       "    <tr style=\"text-align: right;\">\n",
       "      <th></th>\n",
       "      <th>centroid_lat</th>\n",
       "      <th>centroid_long</th>\n",
       "      <th>count</th>\n",
       "    </tr>\n",
       "  </thead>\n",
       "  <tbody>\n",
       "    <tr>\n",
       "      <th>0</th>\n",
       "      <td>44.91728</td>\n",
       "      <td>-93.22746</td>\n",
       "      <td>1</td>\n",
       "    </tr>\n",
       "    <tr>\n",
       "      <th>1</th>\n",
       "      <td>44.91771</td>\n",
       "      <td>-93.2287</td>\n",
       "      <td>1</td>\n",
       "    </tr>\n",
       "    <tr>\n",
       "      <th>2</th>\n",
       "      <td>44.91059</td>\n",
       "      <td>-93.22877</td>\n",
       "      <td>1</td>\n",
       "    </tr>\n",
       "    <tr>\n",
       "      <th>3</th>\n",
       "      <td>44.90976</td>\n",
       "      <td>-93.22878</td>\n",
       "      <td>1</td>\n",
       "    </tr>\n",
       "    <tr>\n",
       "      <th>4</th>\n",
       "      <td>44.90609</td>\n",
       "      <td>-93.23137</td>\n",
       "      <td>1</td>\n",
       "    </tr>\n",
       "  </tbody>\n",
       "</table>\n",
       "</div>"
      ],
      "text/plain": [
       "  centroid_lat centroid_long  count\n",
       "0     44.91728     -93.22746      1\n",
       "1     44.91771      -93.2287      1\n",
       "2     44.91059     -93.22877      1\n",
       "3     44.90976     -93.22878      1\n",
       "4     44.90609     -93.23137      1"
      ]
     },
     "execution_count": 13,
     "metadata": {},
     "output_type": "execute_result"
    }
   ],
   "source": [
    "(xref_parquet_between_501_and_1600\n",
    " .groupBy(\"centroid_lat\",\"centroid_long\")\n",
    " .count()\n",
    " .orderBy(col('count').desc())\n",
    " .take(5)\n",
    ") >> to_pandas"
   ]
  },
  {
   "cell_type": "code",
   "execution_count": 14,
   "id": "4bd6d3a4",
   "metadata": {},
   "outputs": [
    {
     "name": "stderr",
     "output_type": "stream",
     "text": [
      "                                                                                \r"
     ]
    },
    {
     "data": {
      "text/html": [
       "<div>\n",
       "<style scoped>\n",
       "    .dataframe tbody tr th:only-of-type {\n",
       "        vertical-align: middle;\n",
       "    }\n",
       "\n",
       "    .dataframe tbody tr th {\n",
       "        vertical-align: top;\n",
       "    }\n",
       "\n",
       "    .dataframe thead th {\n",
       "        text-align: right;\n",
       "    }\n",
       "</style>\n",
       "<table border=\"1\" class=\"dataframe\">\n",
       "  <thead>\n",
       "    <tr style=\"text-align: right;\">\n",
       "      <th></th>\n",
       "      <th>centroid_lat</th>\n",
       "      <th>centroid_long</th>\n",
       "      <th>count</th>\n",
       "    </tr>\n",
       "  </thead>\n",
       "  <tbody>\n",
       "    <tr>\n",
       "      <th>0</th>\n",
       "      <td>45.16768</td>\n",
       "      <td>-93.35504</td>\n",
       "      <td>1</td>\n",
       "    </tr>\n",
       "    <tr>\n",
       "      <th>1</th>\n",
       "      <td>45.22941</td>\n",
       "      <td>-93.40192</td>\n",
       "      <td>1</td>\n",
       "    </tr>\n",
       "    <tr>\n",
       "      <th>2</th>\n",
       "      <td>45.22526</td>\n",
       "      <td>-93.40267</td>\n",
       "      <td>1</td>\n",
       "    </tr>\n",
       "    <tr>\n",
       "      <th>3</th>\n",
       "      <td>45.22969</td>\n",
       "      <td>-93.40316</td>\n",
       "      <td>1</td>\n",
       "    </tr>\n",
       "    <tr>\n",
       "      <th>4</th>\n",
       "      <td>45.1752</td>\n",
       "      <td>-93.33356</td>\n",
       "      <td>1</td>\n",
       "    </tr>\n",
       "  </tbody>\n",
       "</table>\n",
       "</div>"
      ],
      "text/plain": [
       "  centroid_lat centroid_long  count\n",
       "0     45.16768     -93.35504      1\n",
       "1     45.22941     -93.40192      1\n",
       "2     45.22526     -93.40267      1\n",
       "3     45.22969     -93.40316      1\n",
       "4      45.1752     -93.33356      1"
      ]
     },
     "execution_count": 14,
     "metadata": {},
     "output_type": "execute_result"
    }
   ],
   "source": [
    "(xref_parquet_over_1600\n",
    " .groupBy(\"centroid_lat\",\"centroid_long\")\n",
    " .count()\n",
    " .orderBy(col('count').desc())\n",
    " .take(5)\n",
    ") >> to_pandas"
   ]
  },
  {
   "cell_type": "markdown",
   "id": "7ece6a91",
   "metadata": {},
   "source": [
    "> One to one relationship can be seen, there are one key per row. A join type could be inner-join since it is a one to one relationship, anything that would be missing from the xref file or the parcel file both could be dropped like it was mentioned in the previous lab, lab 4. Also for 7 and 8, I am just confused on what to join on and which data are we talking about? If we are talking about the parcel data or the water_quality data, it would be the same answer as the last lab since it is the same data."
   ]
  },
  {
   "cell_type": "markdown",
   "id": "f63cc118",
   "metadata": {},
   "source": [
    "### Part 3 - Inspecting the partitioned `parquet` file\n",
    "\n",
    "**Tasks.** Inspect the resulting \"file\" (actually a folder) from the last set and answer the following questions.\n",
    "\n",
    "1. What impact did the partitioning have on the way the data was saved?\n",
    "2. How would this structure help `pyspark` apply predicate pushdown?\n",
    "3. How would this structure provide help via the principle of locality.  \n",
    "4. When working with a cluster of machines, operations such as `groupby` are WIDE operations, meaning they generally need to shuffle data between machines.  Such a suffle is *very* expensive.  In a future lab, we will be creating features for each labke by grouping and aggregating on the lakes and years.  How would applying a similar structure to the parcel data help in this case? **Hint.** Remember that the data will be distributed across multiple machines using the partitions, i.e., each machine will load all or some of the same partition(s).\n"
   ]
  },
  {
   "cell_type": "markdown",
   "id": "c3825a54",
   "metadata": {},
   "source": [
    "> <font color=\"orange\"> \n",
    "    1. The file is a folder containing many folders inside for the partition varibles of the distances and the lake id that we mentioned. <br>\n",
    "    2. Pyspark can filter rows through the structure of the the folders since the folders are already named that way. <br>\n",
    "    3. The data is already partitioned so it will keep the similar data close together and in the memory so it will help via the principle of locality. <br>\n",
    "    4. When working with a cluster of machines, applying a similar technique to the parcel data would help us by loading all or some of a partition, which will save us having to spread the data across multiple machines, which is more efficient.\n",
    "</font>"
   ]
  },
  {
   "cell_type": "markdown",
   "id": "41a402c6",
   "metadata": {},
   "source": [
    "## <font color=\"blue\"> Key </font>"
   ]
  },
  {
   "cell_type": "markdown",
   "id": "cb449521",
   "metadata": {},
   "source": [
    "> <font color=\"orange\"> <b>1.</b> The \"file\" is actually a directory with sub-folders for each combo of labels for the partitioning variables.  <b>2.</b> <code>pyspark</code> can use the directory structure to totally combination that we filter out. <b>3.</b> Having the data partitioned/sorted should also help with the principle of locality by keeping similar data close and thus in memory at the same time.  When spreading our data across multiple machines, this will be particularly advantagous as each meaning can just load some/all of a partition, saving us having to spread data across multiple machines. </font>"
   ]
  },
  {
   "cell_type": "markdown",
   "id": "ee10464c",
   "metadata": {},
   "source": [
    "### Part 4 - Filter parcels and joining lake id\n",
    "\n",
    "Next, we will partition and write each of the 2004-2015 parcel files to a `parquet` \"file\".  To do this, complete each of the following tasks.\n",
    "\n",
    "**Tasks.**\n",
    "\n",
    "1. Write a helper functions that takes a parcel file path as input, reads corresponding CSV, selects the common columns (import from `parcel.py`), and joins on the necessary info from the `XREF` (lake ID, distance to the lake, distance category defined above, and centroid lat & long).\n",
    "2. Write a helper function that takes a `year` and parcel `df`, partitions the file by the lake ID and distance category, and writes the data to a \"file\" names `parcel_year.parquet`.\n",
    "3. Test the two helper functions on one of the parcel file years to make sure they are bug free.\n",
    "4. Write a pipe with a familiar shape\n",
    "    * Use `glob` to get all parcel file paths\n",
    "    * Filter the paths to 2004-2015\n",
    "    * split into year/df tuples using `get_year` and your helper function from **1.**.\n",
    "    * star_map your helper function from **2.** to write each of the files.\n",
    "    \n",
    "**Important note.** Each parcel files took 10+ minutes on my laptop, so running the whole pipe will take a while.  Pick a convenient time and be sure to plug in your laptop!"
   ]
  },
  {
   "cell_type": "code",
   "execution_count": 15,
   "id": "12de5809",
   "metadata": {},
   "outputs": [],
   "source": [
    "# Imports \n",
    "\n",
    "from parcel import sorted_common_columns_2004_to_2015\n",
    "from utility import get_year, make_data_frame\n",
    "from composable.strict import map, filter, sorted, star_map\n",
    "from composable.glob import glob"
   ]
  },
  {
   "cell_type": "code",
   "execution_count": 16,
   "id": "f023f139",
   "metadata": {},
   "outputs": [
    {
     "name": "stderr",
     "output_type": "stream",
     "text": [
      "                                                                                \r"
     ]
    },
    {
     "data": {
      "text/html": [
       "<div>\n",
       "<style scoped>\n",
       "    .dataframe tbody tr th:only-of-type {\n",
       "        vertical-align: middle;\n",
       "    }\n",
       "\n",
       "    .dataframe tbody tr th {\n",
       "        vertical-align: top;\n",
       "    }\n",
       "\n",
       "    .dataframe thead th {\n",
       "        text-align: right;\n",
       "    }\n",
       "</style>\n",
       "<table border=\"1\" class=\"dataframe\">\n",
       "  <thead>\n",
       "    <tr style=\"text-align: right;\">\n",
       "      <th></th>\n",
       "      <th>centroid_lat</th>\n",
       "      <th>centroid_long</th>\n",
       "      <th>ACRES_DEED</th>\n",
       "      <th>ACRES_POLY</th>\n",
       "      <th>AGPRE_ENRD</th>\n",
       "      <th>AGPRE_EXPD</th>\n",
       "      <th>AG_PRESERV</th>\n",
       "      <th>BASEMENT</th>\n",
       "      <th>BLDG_NUM</th>\n",
       "      <th>BLOCK</th>\n",
       "      <th>CITY</th>\n",
       "      <th>CITY_USPS</th>\n",
       "      <th>COOLING</th>\n",
       "      <th>COUNTY_ID</th>\n",
       "      <th>DWELL_TYPE</th>\n",
       "      <th>EMV_BLDG</th>\n",
       "      <th>EMV_LAND</th>\n",
       "      <th>EMV_TOTAL</th>\n",
       "      <th>FIN_SQ_FT</th>\n",
       "      <th>GARAGESQFT</th>\n",
       "      <th>GREEN_ACRE</th>\n",
       "      <th>HEATING</th>\n",
       "      <th>HOME_STYLE</th>\n",
       "      <th>LANDMARK</th>\n",
       "      <th>LOT</th>\n",
       "      <th>MULTI_USES</th>\n",
       "      <th>NUM_UNITS</th>\n",
       "      <th>OPEN_SPACE</th>\n",
       "      <th>OWNER_MORE</th>\n",
       "      <th>OWNER_NAME</th>\n",
       "      <th>OWN_ADD_L1</th>\n",
       "      <th>OWN_ADD_L2</th>\n",
       "      <th>OWN_ADD_L3</th>\n",
       "      <th>PARC_CODE</th>\n",
       "      <th>PIN</th>\n",
       "      <th>PLAT_NAME</th>\n",
       "      <th>PREFIXTYPE</th>\n",
       "      <th>PREFIX_DIR</th>\n",
       "      <th>SALE_DATE</th>\n",
       "      <th>SALE_VALUE</th>\n",
       "      <th>SCHOOL_DST</th>\n",
       "      <th>SPEC_ASSES</th>\n",
       "      <th>STREETNAME</th>\n",
       "      <th>STREETTYPE</th>\n",
       "      <th>SUFFIX_DIR</th>\n",
       "      <th>Shape_Area</th>\n",
       "      <th>Shape_Leng</th>\n",
       "      <th>TAX_ADD_L1</th>\n",
       "      <th>TAX_ADD_L2</th>\n",
       "      <th>TAX_ADD_L3</th>\n",
       "      <th>TAX_CAPAC</th>\n",
       "      <th>TAX_EXEMPT</th>\n",
       "      <th>TAX_NAME</th>\n",
       "      <th>TOTAL_TAX</th>\n",
       "      <th>UNIT_INFO</th>\n",
       "      <th>USE1_DESC</th>\n",
       "      <th>USE2_DESC</th>\n",
       "      <th>USE3_DESC</th>\n",
       "      <th>USE4_DESC</th>\n",
       "      <th>WSHD_DIST</th>\n",
       "      <th>XUSE1_DESC</th>\n",
       "      <th>XUSE2_DESC</th>\n",
       "      <th>XUSE3_DESC</th>\n",
       "      <th>XUSE4_DESC</th>\n",
       "      <th>YEAR_BUILT</th>\n",
       "      <th>Year</th>\n",
       "      <th>ZIP</th>\n",
       "      <th>ZIP4</th>\n",
       "      <th>Monit_MAP_CODE1</th>\n",
       "      <th>Distance_Parcel_Lake_meters</th>\n",
       "      <th>distance_categories</th>\n",
       "    </tr>\n",
       "  </thead>\n",
       "  <tbody>\n",
       "    <tr>\n",
       "      <th>0</th>\n",
       "      <td>44.47145</td>\n",
       "      <td>-93.15725</td>\n",
       "      <td>0.0</td>\n",
       "      <td>0.35</td>\n",
       "      <td>None</td>\n",
       "      <td>None</td>\n",
       "      <td>N</td>\n",
       "      <td>None</td>\n",
       "      <td>None</td>\n",
       "      <td>None</td>\n",
       "      <td>NORTHFIELD</td>\n",
       "      <td>None</td>\n",
       "      <td>None</td>\n",
       "      <td>037</td>\n",
       "      <td>None</td>\n",
       "      <td>0.0</td>\n",
       "      <td>6600.0</td>\n",
       "      <td>6600.0</td>\n",
       "      <td>0.0</td>\n",
       "      <td>None</td>\n",
       "      <td>N</td>\n",
       "      <td>None</td>\n",
       "      <td>None</td>\n",
       "      <td>None</td>\n",
       "      <td>None</td>\n",
       "      <td>N</td>\n",
       "      <td>0</td>\n",
       "      <td>N</td>\n",
       "      <td>None</td>\n",
       "      <td>SKLUZACEK DEBORA</td>\n",
       "      <td>804 MAYFLOWER CT</td>\n",
       "      <td>None</td>\n",
       "      <td>NORTHFIELD MN 55057</td>\n",
       "      <td>1.0</td>\n",
       "      <td>037-436760001000</td>\n",
       "      <td>None</td>\n",
       "      <td>None</td>\n",
       "      <td>None</td>\n",
       "      <td>None</td>\n",
       "      <td>0.0</td>\n",
       "      <td>659</td>\n",
       "      <td>0.0</td>\n",
       "      <td>None</td>\n",
       "      <td>None</td>\n",
       "      <td>None</td>\n",
       "      <td>1433.97645355</td>\n",
       "      <td>315.516837022</td>\n",
       "      <td>None</td>\n",
       "      <td>None</td>\n",
       "      <td>None</td>\n",
       "      <td>90.0</td>\n",
       "      <td>N</td>\n",
       "      <td>None</td>\n",
       "      <td>142.0</td>\n",
       "      <td>None</td>\n",
       "      <td>RESIDENTIAL</td>\n",
       "      <td>None</td>\n",
       "      <td>None</td>\n",
       "      <td>None</td>\n",
       "      <td>NORTH CANNON RIVER</td>\n",
       "      <td>None</td>\n",
       "      <td>None</td>\n",
       "      <td>None</td>\n",
       "      <td>None</td>\n",
       "      <td>0.0</td>\n",
       "      <td>2006</td>\n",
       "      <td>None</td>\n",
       "      <td>None</td>\n",
       "      <td>19002000-01</td>\n",
       "      <td>10702.704528893337</td>\n",
       "      <td>over 1600m</td>\n",
       "    </tr>\n",
       "    <tr>\n",
       "      <th>1</th>\n",
       "      <td>44.47158</td>\n",
       "      <td>-93.17607</td>\n",
       "      <td>0.0</td>\n",
       "      <td>0.34</td>\n",
       "      <td>None</td>\n",
       "      <td>None</td>\n",
       "      <td>N</td>\n",
       "      <td>None</td>\n",
       "      <td>1202</td>\n",
       "      <td>None</td>\n",
       "      <td>NORTHFIELD</td>\n",
       "      <td>NORTHFIELD</td>\n",
       "      <td>None</td>\n",
       "      <td>037</td>\n",
       "      <td>S.FAM.RES</td>\n",
       "      <td>260300.0</td>\n",
       "      <td>69900.0</td>\n",
       "      <td>330200.0</td>\n",
       "      <td>3372.0</td>\n",
       "      <td>None</td>\n",
       "      <td>N</td>\n",
       "      <td>None</td>\n",
       "      <td>TWO STORY</td>\n",
       "      <td>None</td>\n",
       "      <td>None</td>\n",
       "      <td>N</td>\n",
       "      <td>1</td>\n",
       "      <td>N</td>\n",
       "      <td>None</td>\n",
       "      <td>BORNHAUSER TODD J &amp; DIANE E</td>\n",
       "      <td>1202 BLUESTEM CT</td>\n",
       "      <td>None</td>\n",
       "      <td>NORTHFIELD MN 55057-5291</td>\n",
       "      <td>1.0</td>\n",
       "      <td>037-435865001001</td>\n",
       "      <td>None</td>\n",
       "      <td>None</td>\n",
       "      <td>None</td>\n",
       "      <td>1997-10-01</td>\n",
       "      <td>200000.0</td>\n",
       "      <td>659</td>\n",
       "      <td>0.0</td>\n",
       "      <td>BLUESTEM</td>\n",
       "      <td>CT</td>\n",
       "      <td>None</td>\n",
       "      <td>1381.85902107</td>\n",
       "      <td>151.671876342</td>\n",
       "      <td>None</td>\n",
       "      <td>None</td>\n",
       "      <td>None</td>\n",
       "      <td>3243.0</td>\n",
       "      <td>N</td>\n",
       "      <td>None</td>\n",
       "      <td>3576.0</td>\n",
       "      <td>None</td>\n",
       "      <td>RESIDENTIAL</td>\n",
       "      <td>None</td>\n",
       "      <td>None</td>\n",
       "      <td>None</td>\n",
       "      <td>NORTH CANNON RIVER</td>\n",
       "      <td>None</td>\n",
       "      <td>None</td>\n",
       "      <td>None</td>\n",
       "      <td>None</td>\n",
       "      <td>1994.0</td>\n",
       "      <td>2006</td>\n",
       "      <td>55057</td>\n",
       "      <td>None</td>\n",
       "      <td>19002000-01</td>\n",
       "      <td>10089.983605115398</td>\n",
       "      <td>over 1600m</td>\n",
       "    </tr>\n",
       "    <tr>\n",
       "      <th>2</th>\n",
       "      <td>44.47165</td>\n",
       "      <td>-93.15479</td>\n",
       "      <td>0.0</td>\n",
       "      <td>1.09</td>\n",
       "      <td>None</td>\n",
       "      <td>None</td>\n",
       "      <td>N</td>\n",
       "      <td>None</td>\n",
       "      <td>None</td>\n",
       "      <td>None</td>\n",
       "      <td>WATERFORD TWP</td>\n",
       "      <td>None</td>\n",
       "      <td>None</td>\n",
       "      <td>037</td>\n",
       "      <td>None</td>\n",
       "      <td>0.0</td>\n",
       "      <td>43800.0</td>\n",
       "      <td>43800.0</td>\n",
       "      <td>0.0</td>\n",
       "      <td>None</td>\n",
       "      <td>N</td>\n",
       "      <td>None</td>\n",
       "      <td>None</td>\n",
       "      <td>NORTHFIELD TRACTOR</td>\n",
       "      <td>None</td>\n",
       "      <td>N</td>\n",
       "      <td>0</td>\n",
       "      <td>N</td>\n",
       "      <td>None</td>\n",
       "      <td>LANGER &amp; ESTREM PR OP</td>\n",
       "      <td>32980 NORTHFIELD BLVD</td>\n",
       "      <td>None</td>\n",
       "      <td>NORTHFIELD MN 55057-1484</td>\n",
       "      <td>1.0</td>\n",
       "      <td>037-410300001058</td>\n",
       "      <td>None</td>\n",
       "      <td>None</td>\n",
       "      <td>None</td>\n",
       "      <td>None</td>\n",
       "      <td>0.0</td>\n",
       "      <td>659</td>\n",
       "      <td>0.0</td>\n",
       "      <td>None</td>\n",
       "      <td>None</td>\n",
       "      <td>None</td>\n",
       "      <td>None</td>\n",
       "      <td>None</td>\n",
       "      <td>None</td>\n",
       "      <td>None</td>\n",
       "      <td>None</td>\n",
       "      <td>248.0</td>\n",
       "      <td>N</td>\n",
       "      <td>None</td>\n",
       "      <td>367.0</td>\n",
       "      <td>None</td>\n",
       "      <td>COMMERCIAL</td>\n",
       "      <td>None</td>\n",
       "      <td>None</td>\n",
       "      <td>None</td>\n",
       "      <td>NORTH CANNON RIVER</td>\n",
       "      <td>None</td>\n",
       "      <td>None</td>\n",
       "      <td>None</td>\n",
       "      <td>None</td>\n",
       "      <td>0.0</td>\n",
       "      <td>2006</td>\n",
       "      <td>None</td>\n",
       "      <td>None</td>\n",
       "      <td>19002000-01</td>\n",
       "      <td>10769.861066280544</td>\n",
       "      <td>over 1600m</td>\n",
       "    </tr>\n",
       "    <tr>\n",
       "      <th>3</th>\n",
       "      <td>44.47182</td>\n",
       "      <td>-93.17815</td>\n",
       "      <td>0.0</td>\n",
       "      <td>0.25</td>\n",
       "      <td>None</td>\n",
       "      <td>None</td>\n",
       "      <td>N</td>\n",
       "      <td>None</td>\n",
       "      <td>1205</td>\n",
       "      <td>None</td>\n",
       "      <td>NORTHFIELD</td>\n",
       "      <td>NORTHFIELD</td>\n",
       "      <td>None</td>\n",
       "      <td>037</td>\n",
       "      <td>S.FAM.RES</td>\n",
       "      <td>281800.0</td>\n",
       "      <td>76700.0</td>\n",
       "      <td>358500.0</td>\n",
       "      <td>3224.0</td>\n",
       "      <td>None</td>\n",
       "      <td>N</td>\n",
       "      <td>None</td>\n",
       "      <td>TWO STORY</td>\n",
       "      <td>None</td>\n",
       "      <td>None</td>\n",
       "      <td>N</td>\n",
       "      <td>1</td>\n",
       "      <td>N</td>\n",
       "      <td>TOURE-KEITA MAIMOUNA</td>\n",
       "      <td>KEITA CHEICK M C</td>\n",
       "      <td>1205 CANNON VALLEY DR</td>\n",
       "      <td>None</td>\n",
       "      <td>NORTHFIELD MN 55057-5292</td>\n",
       "      <td>1.0</td>\n",
       "      <td>037-435865002002</td>\n",
       "      <td>None</td>\n",
       "      <td>None</td>\n",
       "      <td>None</td>\n",
       "      <td>2002-06-01</td>\n",
       "      <td>299000.0</td>\n",
       "      <td>659</td>\n",
       "      <td>0.0</td>\n",
       "      <td>CANNON VALLEY</td>\n",
       "      <td>DR</td>\n",
       "      <td>None</td>\n",
       "      <td>1025.66974075</td>\n",
       "      <td>131.005985483</td>\n",
       "      <td>None</td>\n",
       "      <td>None</td>\n",
       "      <td>None</td>\n",
       "      <td>3519.0</td>\n",
       "      <td>N</td>\n",
       "      <td>None</td>\n",
       "      <td>3912.0</td>\n",
       "      <td>None</td>\n",
       "      <td>RESIDENTIAL</td>\n",
       "      <td>None</td>\n",
       "      <td>None</td>\n",
       "      <td>None</td>\n",
       "      <td>NORTH CANNON RIVER</td>\n",
       "      <td>None</td>\n",
       "      <td>None</td>\n",
       "      <td>None</td>\n",
       "      <td>None</td>\n",
       "      <td>1995.0</td>\n",
       "      <td>2006</td>\n",
       "      <td>55057</td>\n",
       "      <td>None</td>\n",
       "      <td>19002000-01</td>\n",
       "      <td>10006.627729023399</td>\n",
       "      <td>over 1600m</td>\n",
       "    </tr>\n",
       "    <tr>\n",
       "      <th>4</th>\n",
       "      <td>44.47185</td>\n",
       "      <td>-93.17551</td>\n",
       "      <td>0.0</td>\n",
       "      <td>0.63</td>\n",
       "      <td>None</td>\n",
       "      <td>None</td>\n",
       "      <td>N</td>\n",
       "      <td>None</td>\n",
       "      <td>1233</td>\n",
       "      <td>None</td>\n",
       "      <td>NORTHFIELD</td>\n",
       "      <td>NORTHFIELD</td>\n",
       "      <td>None</td>\n",
       "      <td>037</td>\n",
       "      <td>S.FAM.RES</td>\n",
       "      <td>150600.0</td>\n",
       "      <td>75000.0</td>\n",
       "      <td>225600.0</td>\n",
       "      <td>1768.0</td>\n",
       "      <td>None</td>\n",
       "      <td>N</td>\n",
       "      <td>None</td>\n",
       "      <td>ONE STORY</td>\n",
       "      <td>None</td>\n",
       "      <td>None</td>\n",
       "      <td>N</td>\n",
       "      <td>1</td>\n",
       "      <td>N</td>\n",
       "      <td>ETT THOMAS E</td>\n",
       "      <td>GLIMSDAL ELIZABETH J</td>\n",
       "      <td>1233 WOODLAND TRAIL</td>\n",
       "      <td>None</td>\n",
       "      <td>NORTHFIELD MN 55057-5287</td>\n",
       "      <td>1.0</td>\n",
       "      <td>037-431640027000</td>\n",
       "      <td>None</td>\n",
       "      <td>None</td>\n",
       "      <td>None</td>\n",
       "      <td>2001-07-01</td>\n",
       "      <td>189900.0</td>\n",
       "      <td>659</td>\n",
       "      <td>0.0</td>\n",
       "      <td>WOODLAND</td>\n",
       "      <td>TRL</td>\n",
       "      <td>None</td>\n",
       "      <td>None</td>\n",
       "      <td>None</td>\n",
       "      <td>None</td>\n",
       "      <td>None</td>\n",
       "      <td>None</td>\n",
       "      <td>2178.0</td>\n",
       "      <td>N</td>\n",
       "      <td>None</td>\n",
       "      <td>2279.0</td>\n",
       "      <td>None</td>\n",
       "      <td>RESIDENTIAL</td>\n",
       "      <td>None</td>\n",
       "      <td>None</td>\n",
       "      <td>None</td>\n",
       "      <td>NORTH CANNON RIVER</td>\n",
       "      <td>None</td>\n",
       "      <td>None</td>\n",
       "      <td>None</td>\n",
       "      <td>None</td>\n",
       "      <td>1971.0</td>\n",
       "      <td>2006</td>\n",
       "      <td>55057</td>\n",
       "      <td>None</td>\n",
       "      <td>19002000-01</td>\n",
       "      <td>10078.147771489737</td>\n",
       "      <td>over 1600m</td>\n",
       "    </tr>\n",
       "  </tbody>\n",
       "</table>\n",
       "</div>"
      ],
      "text/plain": [
       "  centroid_lat centroid_long ACRES_DEED ACRES_POLY AGPRE_ENRD AGPRE_EXPD  \\\n",
       "0     44.47145     -93.15725        0.0       0.35       None       None   \n",
       "1     44.47158     -93.17607        0.0       0.34       None       None   \n",
       "2     44.47165     -93.15479        0.0       1.09       None       None   \n",
       "3     44.47182     -93.17815        0.0       0.25       None       None   \n",
       "4     44.47185     -93.17551        0.0       0.63       None       None   \n",
       "\n",
       "  AG_PRESERV BASEMENT BLDG_NUM BLOCK           CITY   CITY_USPS COOLING  \\\n",
       "0          N     None     None  None     NORTHFIELD        None    None   \n",
       "1          N     None     1202  None     NORTHFIELD  NORTHFIELD    None   \n",
       "2          N     None     None  None  WATERFORD TWP        None    None   \n",
       "3          N     None     1205  None     NORTHFIELD  NORTHFIELD    None   \n",
       "4          N     None     1233  None     NORTHFIELD  NORTHFIELD    None   \n",
       "\n",
       "  COUNTY_ID DWELL_TYPE  EMV_BLDG EMV_LAND EMV_TOTAL FIN_SQ_FT GARAGESQFT  \\\n",
       "0       037       None       0.0   6600.0    6600.0       0.0       None   \n",
       "1       037  S.FAM.RES  260300.0  69900.0  330200.0    3372.0       None   \n",
       "2       037       None       0.0  43800.0   43800.0       0.0       None   \n",
       "3       037  S.FAM.RES  281800.0  76700.0  358500.0    3224.0       None   \n",
       "4       037  S.FAM.RES  150600.0  75000.0  225600.0    1768.0       None   \n",
       "\n",
       "  GREEN_ACRE HEATING HOME_STYLE            LANDMARK   LOT MULTI_USES  \\\n",
       "0          N    None       None                None  None          N   \n",
       "1          N    None  TWO STORY                None  None          N   \n",
       "2          N    None       None  NORTHFIELD TRACTOR  None          N   \n",
       "3          N    None  TWO STORY                None  None          N   \n",
       "4          N    None  ONE STORY                None  None          N   \n",
       "\n",
       "  NUM_UNITS OPEN_SPACE            OWNER_MORE                   OWNER_NAME  \\\n",
       "0         0          N                  None             SKLUZACEK DEBORA   \n",
       "1         1          N                  None  BORNHAUSER TODD J & DIANE E   \n",
       "2         0          N                  None        LANGER & ESTREM PR OP   \n",
       "3         1          N  TOURE-KEITA MAIMOUNA             KEITA CHEICK M C   \n",
       "4         1          N          ETT THOMAS E         GLIMSDAL ELIZABETH J   \n",
       "\n",
       "              OWN_ADD_L1 OWN_ADD_L2                OWN_ADD_L3 PARC_CODE  \\\n",
       "0       804 MAYFLOWER CT       None       NORTHFIELD MN 55057       1.0   \n",
       "1       1202 BLUESTEM CT       None  NORTHFIELD MN 55057-5291       1.0   \n",
       "2  32980 NORTHFIELD BLVD       None  NORTHFIELD MN 55057-1484       1.0   \n",
       "3  1205 CANNON VALLEY DR       None  NORTHFIELD MN 55057-5292       1.0   \n",
       "4    1233 WOODLAND TRAIL       None  NORTHFIELD MN 55057-5287       1.0   \n",
       "\n",
       "                PIN PLAT_NAME PREFIXTYPE PREFIX_DIR   SALE_DATE SALE_VALUE  \\\n",
       "0  037-436760001000      None       None       None        None        0.0   \n",
       "1  037-435865001001      None       None       None  1997-10-01   200000.0   \n",
       "2  037-410300001058      None       None       None        None        0.0   \n",
       "3  037-435865002002      None       None       None  2002-06-01   299000.0   \n",
       "4  037-431640027000      None       None       None  2001-07-01   189900.0   \n",
       "\n",
       "  SCHOOL_DST SPEC_ASSES     STREETNAME STREETTYPE SUFFIX_DIR     Shape_Area  \\\n",
       "0        659        0.0           None       None       None  1433.97645355   \n",
       "1        659        0.0       BLUESTEM         CT       None  1381.85902107   \n",
       "2        659        0.0           None       None       None           None   \n",
       "3        659        0.0  CANNON VALLEY         DR       None  1025.66974075   \n",
       "4        659        0.0       WOODLAND        TRL       None           None   \n",
       "\n",
       "      Shape_Leng TAX_ADD_L1 TAX_ADD_L2 TAX_ADD_L3 TAX_CAPAC TAX_EXEMPT  \\\n",
       "0  315.516837022       None       None       None      90.0          N   \n",
       "1  151.671876342       None       None       None    3243.0          N   \n",
       "2           None       None       None       None     248.0          N   \n",
       "3  131.005985483       None       None       None    3519.0          N   \n",
       "4           None       None       None       None    2178.0          N   \n",
       "\n",
       "  TAX_NAME TOTAL_TAX UNIT_INFO    USE1_DESC USE2_DESC USE3_DESC USE4_DESC  \\\n",
       "0     None     142.0      None  RESIDENTIAL      None      None      None   \n",
       "1     None    3576.0      None  RESIDENTIAL      None      None      None   \n",
       "2     None     367.0      None   COMMERCIAL      None      None      None   \n",
       "3     None    3912.0      None  RESIDENTIAL      None      None      None   \n",
       "4     None    2279.0      None  RESIDENTIAL      None      None      None   \n",
       "\n",
       "            WSHD_DIST XUSE1_DESC XUSE2_DESC XUSE3_DESC XUSE4_DESC YEAR_BUILT  \\\n",
       "0  NORTH CANNON RIVER       None       None       None       None        0.0   \n",
       "1  NORTH CANNON RIVER       None       None       None       None     1994.0   \n",
       "2  NORTH CANNON RIVER       None       None       None       None        0.0   \n",
       "3  NORTH CANNON RIVER       None       None       None       None     1995.0   \n",
       "4  NORTH CANNON RIVER       None       None       None       None     1971.0   \n",
       "\n",
       "   Year    ZIP  ZIP4 Monit_MAP_CODE1 Distance_Parcel_Lake_meters  \\\n",
       "0  2006   None  None     19002000-01          10702.704528893337   \n",
       "1  2006  55057  None     19002000-01          10089.983605115398   \n",
       "2  2006   None  None     19002000-01          10769.861066280544   \n",
       "3  2006  55057  None     19002000-01          10006.627729023399   \n",
       "4  2006  55057  None     19002000-01          10078.147771489737   \n",
       "\n",
       "  distance_categories  \n",
       "0          over 1600m  \n",
       "1          over 1600m  \n",
       "2          over 1600m  \n",
       "3          over 1600m  \n",
       "4          over 1600m  "
      ]
     },
     "execution_count": 16,
     "metadata": {},
     "output_type": "execute_result"
    }
   ],
   "source": [
    "# Place your code/thoughts in one or more code/markdown cells, respectively.\n",
    "\n",
    "# Helper function 1\n",
    "\n",
    "# parcel_join_with_xref_lambda = lambda file_path: (make_data_frame(file_path)\n",
    "#                                                   .select(sorted_common_columns_2004_to_2015)\n",
    "#                                                   .join(xref_data_w_distance_var, on=[\"centroid_lat\", \"centroid_long\"], how='inner'))\n",
    "\n",
    "def parcel_join_with_xref(file_path):\n",
    "    join_xref = (make_data_frame(file_path)\n",
    "                 .select(sorted_common_columns_2004_to_2015)\n",
    "                 .join(xref_data_w_distance_var, on=[\"centroid_lat\", \"centroid_long\"], how='inner')\n",
    "                )\n",
    "    return join_xref\n",
    "    \n",
    "# parcel_join_with_xref_lambda('data/MinneMUDAC_raw_files/2006_metro_tax_parcels.txt').take(5)>>to_pandas\n",
    "parcel_join_with_xref('data/MinneMUDAC_raw_files/2006_metro_tax_parcels.txt').take(5)>>to_pandas"
   ]
  },
  {
   "cell_type": "code",
   "execution_count": 17,
   "id": "acfaaff8",
   "metadata": {},
   "outputs": [],
   "source": [
    "# Helper function 2\n",
    "\n",
    "def create_partition(year, df):\n",
    "    (df\n",
    "    .write\n",
    "    .partitionBy('Monit_MAP_CODE1','distance_categories')\n",
    "    .mode('overwrite')\n",
    "    .parquet(f'./data/parcel_{year}.parquet')\n",
    "    )\n",
    "    \n",
    "# create_partition(2005, parcel_join_with_xref('data/MinneMUDAC_raw_files/2005_metro_tax_parcels.txt'))"
   ]
  },
  {
   "cell_type": "code",
   "execution_count": 17,
   "id": "f7430597",
   "metadata": {
    "scrolled": true
   },
   "outputs": [
    {
     "name": "stderr",
     "output_type": "stream",
     "text": [
      "[Stage 39:>                                                        (0 + 8) / 15]\r"
     ]
    },
    {
     "name": "stdout",
     "output_type": "stream",
     "text": [
      "22/12/04 22:50:35 WARN MemoryManager: Total allocation exceeds 95.00% (1,020,054,720 bytes) of heap memory\n",
      "Scaling row group sizes to 95.00% for 8 writers\n"
     ]
    },
    {
     "name": "stderr",
     "output_type": "stream",
     "text": [
      "[Stage 44:>                                                        (0 + 8) / 16]\r"
     ]
    },
    {
     "name": "stdout",
     "output_type": "stream",
     "text": [
      "22/12/04 22:53:48 WARN MemoryManager: Total allocation exceeds 95.00% (1,020,054,720 bytes) of heap memory\n",
      "Scaling row group sizes to 95.00% for 8 writers\n"
     ]
    },
    {
     "name": "stderr",
     "output_type": "stream",
     "text": [
      "[Stage 44:============================>                            (8 + 8) / 16]\r"
     ]
    },
    {
     "name": "stdout",
     "output_type": "stream",
     "text": [
      "22/12/04 22:54:40 WARN MemoryManager: Total allocation exceeds 95.00% (1,020,054,720 bytes) of heap memory\n",
      "Scaling row group sizes to 95.00% for 8 writers\n"
     ]
    },
    {
     "name": "stderr",
     "output_type": "stream",
     "text": [
      "[Stage 49:>                                                        (0 + 8) / 17]\r"
     ]
    },
    {
     "name": "stdout",
     "output_type": "stream",
     "text": [
      "22/12/04 22:56:13 WARN MemoryManager: Total allocation exceeds 95.00% (1,020,054,720 bytes) of heap memory\n",
      "Scaling row group sizes to 95.00% for 8 writers\n"
     ]
    },
    {
     "name": "stderr",
     "output_type": "stream",
     "text": [
      "[Stage 54:============================>                            (8 + 8) / 16]\r"
     ]
    },
    {
     "name": "stdout",
     "output_type": "stream",
     "text": [
      "22/12/04 22:58:50 WARN MemoryManager: Total allocation exceeds 95.00% (1,020,054,720 bytes) of heap memory\n",
      "Scaling row group sizes to 95.00% for 8 writers\n"
     ]
    },
    {
     "name": "stderr",
     "output_type": "stream",
     "text": [
      "[Stage 69:>                                                        (0 + 8) / 14]\r"
     ]
    },
    {
     "name": "stdout",
     "output_type": "stream",
     "text": [
      "22/12/04 23:04:19 WARN MemoryManager: Total allocation exceeds 95.00% (1,020,054,720 bytes) of heap memory\n",
      "Scaling row group sizes to 95.00% for 8 writers\n"
     ]
    },
    {
     "name": "stderr",
     "output_type": "stream",
     "text": [
      "[Stage 74:>                                                        (0 + 8) / 16]\r"
     ]
    },
    {
     "name": "stdout",
     "output_type": "stream",
     "text": [
      "22/12/04 23:06:07 WARN MemoryManager: Total allocation exceeds 95.00% (1,020,054,720 bytes) of heap memory\n",
      "Scaling row group sizes to 95.00% for 8 writers\n"
     ]
    },
    {
     "name": "stderr",
     "output_type": "stream",
     "text": [
      "[Stage 79:>                                                        (0 + 8) / 17]\r"
     ]
    },
    {
     "name": "stdout",
     "output_type": "stream",
     "text": [
      "22/12/04 23:08:14 WARN MemoryManager: Total allocation exceeds 95.00% (1,020,054,720 bytes) of heap memory\n",
      "Scaling row group sizes to 95.00% for 8 writers\n"
     ]
    },
    {
     "name": "stderr",
     "output_type": "stream",
     "text": [
      "[Stage 89:>                                                        (0 + 8) / 16]\r"
     ]
    },
    {
     "name": "stdout",
     "output_type": "stream",
     "text": [
      "[1761.087s][warning][gc,alloc] Executor task launch worker for task 6.0 in stage 89.0 (TID 1091): Retried waiting for GCLocker too often allocating 1048578 words\n",
      "22/12/04 23:12:45 WARN TaskMemoryManager: Failed to allocate a page (8388608 bytes), try again.\n"
     ]
    },
    {
     "name": "stderr",
     "output_type": "stream",
     "text": [
      "                                                                                \r"
     ]
    },
    {
     "data": {
      "text/plain": [
       "[None, None, None, None, None, None, None, None, None, None, None, None]"
      ]
     },
     "execution_count": 17,
     "metadata": {},
     "output_type": "execute_result"
    }
   ],
   "source": [
    "('./data/MinneMUDAC_raw_files/*parcels.txt'\n",
    " >> glob\n",
    " >> filter(lambda parcel_file: int(get_year(parcel_file)) > 2003)\n",
    " >> map(lambda parcel_data_file: (get_year(parcel_data_file),parcel_join_with_xref(parcel_data_file)))\n",
    " >> star_map(create_partition)\n",
    ")"
   ]
  }
 ],
 "metadata": {
  "kernelspec": {
   "display_name": "Python 3 (ipykernel)",
   "language": "python",
   "name": "python3"
  },
  "language_info": {
   "codemirror_mode": {
    "name": "ipython",
    "version": 3
   },
   "file_extension": ".py",
   "mimetype": "text/x-python",
   "name": "python",
   "nbconvert_exporter": "python",
   "pygments_lexer": "ipython3",
   "version": "3.10.4"
  },
  "vscode": {
   "interpreter": {
    "hash": "1510f6a07727a0191a617f268a786232ed15ef53c754d8485e9e4509b80b393f"
   }
  }
 },
 "nbformat": 4,
 "nbformat_minor": 5
}
