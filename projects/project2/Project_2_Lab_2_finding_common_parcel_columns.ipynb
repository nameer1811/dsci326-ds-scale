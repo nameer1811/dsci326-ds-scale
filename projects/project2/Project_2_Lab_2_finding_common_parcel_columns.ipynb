{
 "cells": [
  {
   "cell_type": "markdown",
   "id": "19344bae",
   "metadata": {},
   "source": [
    "# Lab 2 - Finding common parcel columns\n",
    "\n",
    "\n",
    "## Task 0 - Inspecting parcel columns.\n",
    "\n",
    "In the previous lab, you created a parcel file column summary table. In this lab, we will (A) decide on which years to include based on common columns and (B) gather the names of the common columns for these years.\n",
    "\n",
    "1.\tInspect the parcel file column summary table.\n",
    "2.  Explain why 2003 is problematic.\n",
    "3.\tExplain why focusing on 2004-2015 is reasonable."
   ]
  },
  {
   "cell_type": "markdown",
   "id": "8386dafd",
   "metadata": {},
   "source": [
    "> <font color=\"orange\"> We are going to get rid of 2003 since it has a lot of missing columns, also since we want to maintain sequence to our data cutting off 2003 would mean we would have to cut off 2002. Also, I think we should drop the columns `OWN_NAME`, `PIN_1`, `STREET`, `STRUC_TYPE`, `TAX_ADD_LI`, and a bunch of others at the end of the table above. 2004 to 2015 data would give us a good continuous sequence of years.</font>"
   ]
  },
  {
   "cell_type": "markdown",
   "id": "1d94c988",
   "metadata": {},
   "source": [
    "## Aside -- Python `set`s\n",
    "\n",
    "The `set` is a core Python data structure that represents a unique collection of labels and provides set operations like `union`, `intersection`, etc.  Sets can be constructed using either the `set` type constructor or using `{}` as delimiters."
   ]
  },
  {
   "cell_type": "code",
   "execution_count": 1,
   "id": "d9790cb6",
   "metadata": {},
   "outputs": [
    {
     "data": {
      "text/plain": [
       "{'a', 'b', 'd'}"
      ]
     },
     "execution_count": 1,
     "metadata": {},
     "output_type": "execute_result"
    }
   ],
   "source": [
    "L = ['a', 'a', 'b', 'd']\n",
    "s1 = set(L)\n",
    "s1"
   ]
  },
  {
   "cell_type": "code",
   "execution_count": 2,
   "id": "89e817c3",
   "metadata": {},
   "outputs": [
    {
     "data": {
      "text/plain": [
       "{'a', 'c', 'd'}"
      ]
     },
     "execution_count": 2,
     "metadata": {},
     "output_type": "execute_result"
    }
   ],
   "source": [
    "s2 = {'a', 'c', 'd'}\n",
    "s2"
   ]
  },
  {
   "cell_type": "code",
   "execution_count": 3,
   "id": "dc868e14",
   "metadata": {},
   "outputs": [
    {
     "data": {
      "text/plain": [
       "set()"
      ]
     },
     "execution_count": 3,
     "metadata": {},
     "output_type": "execute_result"
    }
   ],
   "source": [
    "empty_set = set()\n",
    "empty_set"
   ]
  },
  {
   "cell_type": "markdown",
   "id": "f62e432f",
   "metadata": {},
   "source": [
    "#### Set operations"
   ]
  },
  {
   "cell_type": "code",
   "execution_count": 4,
   "id": "ecf08b54",
   "metadata": {},
   "outputs": [
    {
     "data": {
      "text/plain": [
       "{'a', 'b', 'c', 'd'}"
      ]
     },
     "execution_count": 4,
     "metadata": {},
     "output_type": "execute_result"
    }
   ],
   "source": [
    "s1.union(s2)"
   ]
  },
  {
   "cell_type": "code",
   "execution_count": 5,
   "id": "7bcb16bc",
   "metadata": {},
   "outputs": [
    {
     "data": {
      "text/plain": [
       "{'a', 'd'}"
      ]
     },
     "execution_count": 5,
     "metadata": {},
     "output_type": "execute_result"
    }
   ],
   "source": [
    "s1.intersection(s2)"
   ]
  },
  {
   "cell_type": "code",
   "execution_count": 6,
   "id": "f9498519",
   "metadata": {},
   "outputs": [
    {
     "data": {
      "text/plain": [
       "{'b', 'c'}"
      ]
     },
     "execution_count": 6,
     "metadata": {},
     "output_type": "execute_result"
    }
   ],
   "source": [
    "s1.symmetric_difference(s2) # In one but not both"
   ]
  },
  {
   "cell_type": "code",
   "execution_count": 7,
   "id": "2ecc027c",
   "metadata": {},
   "outputs": [
    {
     "data": {
      "text/plain": [
       "{'b'}"
      ]
     },
     "execution_count": 7,
     "metadata": {},
     "output_type": "execute_result"
    }
   ],
   "source": [
    "s1 - s2 # in s1 but not s2"
   ]
  },
  {
   "cell_type": "code",
   "execution_count": 8,
   "id": "678ea8fa",
   "metadata": {},
   "outputs": [
    {
     "data": {
      "text/plain": [
       "{'c'}"
      ]
     },
     "execution_count": 8,
     "metadata": {},
     "output_type": "execute_result"
    }
   ],
   "source": [
    "s2 - s1 # in s2 but not s1"
   ]
  },
  {
   "cell_type": "markdown",
   "id": "0966f551",
   "metadata": {},
   "source": [
    "## Task 1 - Finding all Common Columns\n",
    "1.  Use `composable.glob.glob`, `composable.strict.map`, and `composable.strict.filter` to create a list of `pyspark` data frames, one for each parcel file from 2004-2015.  You might want to reuse some of your code from the last lab.  Do this by (A) packaging helper functions in a file called `utility.py` and (B) importing these functions here.\n",
    "2. Use `map` to extract the header from each data frame.\n",
    "3. `map` the `set` constructor onto the list of headers.\n",
    "4. Reduce the list of sets of column labels to the intersection of column labels.\n",
    "5. Convert the intersection to a list and sort the labels using `composable.strict.sorted`\n",
    "\n",
    "Do this with two pipes, one for steps 1-4 and another for step 5."
   ]
  },
  {
   "cell_type": "code",
   "execution_count": 9,
   "id": "bc1c4cbc",
   "metadata": {},
   "outputs": [
    {
     "name": "stdout",
     "output_type": "stream",
     "text": [
      "22/11/29 22:04:52 WARN Utils: Your hostname, jt7372wd222 resolves to a loopback address: 127.0.1.1; using 172.19.154.159 instead (on interface eth0)\n",
      "22/11/29 22:04:52 WARN Utils: Set SPARK_LOCAL_IP if you need to bind to another address\n"
     ]
    },
    {
     "name": "stderr",
     "output_type": "stream",
     "text": [
      "Setting default log level to \"WARN\".\n",
      "To adjust logging level use sc.setLogLevel(newLevel). For SparkR, use setLogLevel(newLevel).\n"
     ]
    },
    {
     "name": "stdout",
     "output_type": "stream",
     "text": [
      "22/11/29 22:04:53 WARN NativeCodeLoader: Unable to load native-hadoop library for your platform... using builtin-java classes where applicable\n",
      "22/11/29 22:04:54 WARN Utils: Service 'SparkUI' could not bind on port 4040. Attempting port 4041.\n"
     ]
    }
   ],
   "source": [
    "# imports \n",
    "from composable.strict import map, filter, sorted\n",
    "from composable.sequence import reduce, to_list\n",
    "from composable.glob import glob\n",
    "from utility import get_year, make_data_frame"
   ]
  },
  {
   "cell_type": "code",
   "execution_count": 10,
   "id": "7f29ecac",
   "metadata": {
    "scrolled": true
   },
   "outputs": [
    {
     "data": {
      "text/plain": [
       "{'ACRES_DEED',\n",
       " 'ACRES_POLY',\n",
       " 'AGPRE_ENRD',\n",
       " 'AGPRE_EXPD',\n",
       " 'AG_PRESERV',\n",
       " 'BASEMENT',\n",
       " 'BLDG_NUM',\n",
       " 'BLOCK',\n",
       " 'CITY',\n",
       " 'CITY_USPS',\n",
       " 'COOLING',\n",
       " 'COUNTY_ID',\n",
       " 'DWELL_TYPE',\n",
       " 'EMV_BLDG',\n",
       " 'EMV_LAND',\n",
       " 'EMV_TOTAL',\n",
       " 'FIN_SQ_FT',\n",
       " 'GARAGESQFT',\n",
       " 'GREEN_ACRE',\n",
       " 'HEATING',\n",
       " 'HOME_STYLE',\n",
       " 'LANDMARK',\n",
       " 'LOT',\n",
       " 'MULTI_USES',\n",
       " 'NUM_UNITS',\n",
       " 'OPEN_SPACE',\n",
       " 'OWNER_MORE',\n",
       " 'OWNER_NAME',\n",
       " 'OWN_ADD_L1',\n",
       " 'OWN_ADD_L2',\n",
       " 'OWN_ADD_L3',\n",
       " 'PARC_CODE',\n",
       " 'PIN',\n",
       " 'PLAT_NAME',\n",
       " 'PREFIXTYPE',\n",
       " 'PREFIX_DIR',\n",
       " 'SALE_DATE',\n",
       " 'SALE_VALUE',\n",
       " 'SCHOOL_DST',\n",
       " 'SPEC_ASSES',\n",
       " 'STREETNAME',\n",
       " 'STREETTYPE',\n",
       " 'SUFFIX_DIR',\n",
       " 'Shape_Area',\n",
       " 'Shape_Leng',\n",
       " 'TAX_ADD_L1',\n",
       " 'TAX_ADD_L2',\n",
       " 'TAX_ADD_L3',\n",
       " 'TAX_CAPAC',\n",
       " 'TAX_EXEMPT',\n",
       " 'TAX_NAME',\n",
       " 'TOTAL_TAX',\n",
       " 'UNIT_INFO',\n",
       " 'USE1_DESC',\n",
       " 'USE2_DESC',\n",
       " 'USE3_DESC',\n",
       " 'USE4_DESC',\n",
       " 'WSHD_DIST',\n",
       " 'XUSE1_DESC',\n",
       " 'XUSE2_DESC',\n",
       " 'XUSE3_DESC',\n",
       " 'XUSE4_DESC',\n",
       " 'YEAR_BUILT',\n",
       " 'Year',\n",
       " 'ZIP',\n",
       " 'ZIP4',\n",
       " 'centroid_lat',\n",
       " 'centroid_long'}"
      ]
     },
     "execution_count": 10,
     "metadata": {},
     "output_type": "execute_result"
    }
   ],
   "source": [
    "# Your code here\n",
    "\n",
    "common_cols_set = ('./data/MinneMUDAC_raw_files/*parcels.txt'\n",
    "              >> glob\n",
    "              >> filter(lambda parcel_file: int(get_year(parcel_file)) > 2003)\n",
    "              >> map(lambda parcel_data_file: make_data_frame(parcel_data_file))\n",
    "              >> map(lambda parcel_data_frame: set(parcel_data_frame.columns))\n",
    "              >> reduce(lambda acc, s: acc.intersection(s))\n",
    "              )\n",
    "common_cols_set"
   ]
  },
  {
   "cell_type": "code",
   "execution_count": 11,
   "id": "42237a69",
   "metadata": {
    "scrolled": true
   },
   "outputs": [
    {
     "data": {
      "text/plain": [
       "['ACRES_DEED',\n",
       " 'ACRES_POLY',\n",
       " 'AGPRE_ENRD',\n",
       " 'AGPRE_EXPD',\n",
       " 'AG_PRESERV',\n",
       " 'BASEMENT',\n",
       " 'BLDG_NUM',\n",
       " 'BLOCK',\n",
       " 'CITY',\n",
       " 'CITY_USPS',\n",
       " 'COOLING',\n",
       " 'COUNTY_ID',\n",
       " 'DWELL_TYPE',\n",
       " 'EMV_BLDG',\n",
       " 'EMV_LAND',\n",
       " 'EMV_TOTAL',\n",
       " 'FIN_SQ_FT',\n",
       " 'GARAGESQFT',\n",
       " 'GREEN_ACRE',\n",
       " 'HEATING',\n",
       " 'HOME_STYLE',\n",
       " 'LANDMARK',\n",
       " 'LOT',\n",
       " 'MULTI_USES',\n",
       " 'NUM_UNITS',\n",
       " 'OPEN_SPACE',\n",
       " 'OWNER_MORE',\n",
       " 'OWNER_NAME',\n",
       " 'OWN_ADD_L1',\n",
       " 'OWN_ADD_L2',\n",
       " 'OWN_ADD_L3',\n",
       " 'PARC_CODE',\n",
       " 'PIN',\n",
       " 'PLAT_NAME',\n",
       " 'PREFIXTYPE',\n",
       " 'PREFIX_DIR',\n",
       " 'SALE_DATE',\n",
       " 'SALE_VALUE',\n",
       " 'SCHOOL_DST',\n",
       " 'SPEC_ASSES',\n",
       " 'STREETNAME',\n",
       " 'STREETTYPE',\n",
       " 'SUFFIX_DIR',\n",
       " 'Shape_Area',\n",
       " 'Shape_Leng',\n",
       " 'TAX_ADD_L1',\n",
       " 'TAX_ADD_L2',\n",
       " 'TAX_ADD_L3',\n",
       " 'TAX_CAPAC',\n",
       " 'TAX_EXEMPT',\n",
       " 'TAX_NAME',\n",
       " 'TOTAL_TAX',\n",
       " 'UNIT_INFO',\n",
       " 'USE1_DESC',\n",
       " 'USE2_DESC',\n",
       " 'USE3_DESC',\n",
       " 'USE4_DESC',\n",
       " 'WSHD_DIST',\n",
       " 'XUSE1_DESC',\n",
       " 'XUSE2_DESC',\n",
       " 'XUSE3_DESC',\n",
       " 'XUSE4_DESC',\n",
       " 'YEAR_BUILT',\n",
       " 'Year',\n",
       " 'ZIP',\n",
       " 'ZIP4',\n",
       " 'centroid_lat',\n",
       " 'centroid_long']"
      ]
     },
     "execution_count": 11,
     "metadata": {},
     "output_type": "execute_result"
    }
   ],
   "source": [
    "sorted_common_cols_list = (common_cols_set \n",
    "                    >> to_list() \n",
    "                    >> sorted)\n",
    "sorted_common_cols_list"
   ]
  },
  {
   "cell_type": "markdown",
   "id": "53c4be91",
   "metadata": {},
   "source": [
    "## Task 2 - One Big Happy File\n",
    "\n",
    "Since we will want to reuse the information generated in this lab, it will be useful to be able save it to a python file.\n",
    "\n",
    "1. Create a python file named `parcel.py`\n",
    "2. Save set representing the common columns to a variable named `common_columns_2004_to_2015`.\n",
    "3. Save sorted list of common columns to a variable named `sorted_common_columns_2004_to_2015`.\n",
    "4. Restart the kernel and verify that you can import both of these data structures."
   ]
  },
  {
   "cell_type": "code",
   "execution_count": 12,
   "id": "54e72a89",
   "metadata": {},
   "outputs": [],
   "source": [
    "with open('parcel.py', 'w') as f: \n",
    "    f.write(f'common_columns_2004_to_2015 = {common_cols_set}')\n",
    "    f.write('\\n')\n",
    "    f.write(f'sorted_common_columns_2004_to_2015 = {sorted_common_cols_list}')\n"
   ]
  },
  {
   "cell_type": "code",
   "execution_count": 13,
   "id": "21d70ec8",
   "metadata": {
    "scrolled": true
   },
   "outputs": [
    {
     "data": {
      "text/plain": [
       "{'ACRES_DEED',\n",
       " 'ACRES_POLY',\n",
       " 'AGPRE_ENRD',\n",
       " 'AGPRE_EXPD',\n",
       " 'AG_PRESERV',\n",
       " 'BASEMENT',\n",
       " 'BLDG_NUM',\n",
       " 'BLOCK',\n",
       " 'CITY',\n",
       " 'CITY_USPS',\n",
       " 'COOLING',\n",
       " 'COUNTY_ID',\n",
       " 'DWELL_TYPE',\n",
       " 'EMV_BLDG',\n",
       " 'EMV_LAND',\n",
       " 'EMV_TOTAL',\n",
       " 'FIN_SQ_FT',\n",
       " 'GARAGESQFT',\n",
       " 'GREEN_ACRE',\n",
       " 'HEATING',\n",
       " 'HOME_STYLE',\n",
       " 'LANDMARK',\n",
       " 'LOT',\n",
       " 'MULTI_USES',\n",
       " 'NUM_UNITS',\n",
       " 'OPEN_SPACE',\n",
       " 'OWNER_MORE',\n",
       " 'OWNER_NAME',\n",
       " 'OWN_ADD_L1',\n",
       " 'OWN_ADD_L2',\n",
       " 'OWN_ADD_L3',\n",
       " 'PARC_CODE',\n",
       " 'PIN',\n",
       " 'PLAT_NAME',\n",
       " 'PREFIXTYPE',\n",
       " 'PREFIX_DIR',\n",
       " 'SALE_DATE',\n",
       " 'SALE_VALUE',\n",
       " 'SCHOOL_DST',\n",
       " 'SPEC_ASSES',\n",
       " 'STREETNAME',\n",
       " 'STREETTYPE',\n",
       " 'SUFFIX_DIR',\n",
       " 'Shape_Area',\n",
       " 'Shape_Leng',\n",
       " 'TAX_ADD_L1',\n",
       " 'TAX_ADD_L2',\n",
       " 'TAX_ADD_L3',\n",
       " 'TAX_CAPAC',\n",
       " 'TAX_EXEMPT',\n",
       " 'TAX_NAME',\n",
       " 'TOTAL_TAX',\n",
       " 'UNIT_INFO',\n",
       " 'USE1_DESC',\n",
       " 'USE2_DESC',\n",
       " 'USE3_DESC',\n",
       " 'USE4_DESC',\n",
       " 'WSHD_DIST',\n",
       " 'XUSE1_DESC',\n",
       " 'XUSE2_DESC',\n",
       " 'XUSE3_DESC',\n",
       " 'XUSE4_DESC',\n",
       " 'YEAR_BUILT',\n",
       " 'Year',\n",
       " 'ZIP',\n",
       " 'ZIP4',\n",
       " 'centroid_lat',\n",
       " 'centroid_long'}"
      ]
     },
     "execution_count": 13,
     "metadata": {},
     "output_type": "execute_result"
    }
   ],
   "source": [
    "# Your code here\n",
    "from parcel import common_columns_2004_to_2015, sorted_common_columns_2004_to_2015\n",
    "\n",
    "common_columns_2004_to_2015"
   ]
  },
  {
   "cell_type": "code",
   "execution_count": 14,
   "id": "737e77e0",
   "metadata": {
    "scrolled": true
   },
   "outputs": [
    {
     "data": {
      "text/plain": [
       "['ACRES_DEED',\n",
       " 'ACRES_POLY',\n",
       " 'AGPRE_ENRD',\n",
       " 'AGPRE_EXPD',\n",
       " 'AG_PRESERV',\n",
       " 'BASEMENT',\n",
       " 'BLDG_NUM',\n",
       " 'BLOCK',\n",
       " 'CITY',\n",
       " 'CITY_USPS',\n",
       " 'COOLING',\n",
       " 'COUNTY_ID',\n",
       " 'DWELL_TYPE',\n",
       " 'EMV_BLDG',\n",
       " 'EMV_LAND',\n",
       " 'EMV_TOTAL',\n",
       " 'FIN_SQ_FT',\n",
       " 'GARAGESQFT',\n",
       " 'GREEN_ACRE',\n",
       " 'HEATING',\n",
       " 'HOME_STYLE',\n",
       " 'LANDMARK',\n",
       " 'LOT',\n",
       " 'MULTI_USES',\n",
       " 'NUM_UNITS',\n",
       " 'OPEN_SPACE',\n",
       " 'OWNER_MORE',\n",
       " 'OWNER_NAME',\n",
       " 'OWN_ADD_L1',\n",
       " 'OWN_ADD_L2',\n",
       " 'OWN_ADD_L3',\n",
       " 'PARC_CODE',\n",
       " 'PIN',\n",
       " 'PLAT_NAME',\n",
       " 'PREFIXTYPE',\n",
       " 'PREFIX_DIR',\n",
       " 'SALE_DATE',\n",
       " 'SALE_VALUE',\n",
       " 'SCHOOL_DST',\n",
       " 'SPEC_ASSES',\n",
       " 'STREETNAME',\n",
       " 'STREETTYPE',\n",
       " 'SUFFIX_DIR',\n",
       " 'Shape_Area',\n",
       " 'Shape_Leng',\n",
       " 'TAX_ADD_L1',\n",
       " 'TAX_ADD_L2',\n",
       " 'TAX_ADD_L3',\n",
       " 'TAX_CAPAC',\n",
       " 'TAX_EXEMPT',\n",
       " 'TAX_NAME',\n",
       " 'TOTAL_TAX',\n",
       " 'UNIT_INFO',\n",
       " 'USE1_DESC',\n",
       " 'USE2_DESC',\n",
       " 'USE3_DESC',\n",
       " 'USE4_DESC',\n",
       " 'WSHD_DIST',\n",
       " 'XUSE1_DESC',\n",
       " 'XUSE2_DESC',\n",
       " 'XUSE3_DESC',\n",
       " 'XUSE4_DESC',\n",
       " 'YEAR_BUILT',\n",
       " 'Year',\n",
       " 'ZIP',\n",
       " 'ZIP4',\n",
       " 'centroid_lat',\n",
       " 'centroid_long']"
      ]
     },
     "execution_count": 14,
     "metadata": {},
     "output_type": "execute_result"
    }
   ],
   "source": [
    "sorted_common_columns_2004_to_2015"
   ]
  }
 ],
 "metadata": {
  "kernelspec": {
   "display_name": "Python 3 (ipykernel)",
   "language": "python",
   "name": "python3"
  },
  "language_info": {
   "codemirror_mode": {
    "name": "ipython",
    "version": 3
   },
   "file_extension": ".py",
   "mimetype": "text/x-python",
   "name": "python",
   "nbconvert_exporter": "python",
   "pygments_lexer": "ipython3",
   "version": "3.10.4"
  },
  "vscode": {
   "interpreter": {
    "hash": "1510f6a07727a0191a617f268a786232ed15ef53c754d8485e9e4509b80b393f"
   }
  }
 },
 "nbformat": 4,
 "nbformat_minor": 5
}
