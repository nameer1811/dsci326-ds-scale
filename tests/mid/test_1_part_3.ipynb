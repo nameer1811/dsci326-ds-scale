{
 "cells": [
  {
   "cell_type": "markdown",
   "id": "cf95c72f",
   "metadata": {},
   "source": [
    "# Test 1 - Part 3\n",
    "\n",
    "## Cleaning Comic Data\n",
    "\n",
    "The file `./data/Comic_Data_Messy.csv` contains data on comic book characters scraped from some wiki.  Complete the of the following tasks."
   ]
  },
  {
   "cell_type": "code",
   "execution_count": 266,
   "id": "2e84431f",
   "metadata": {
    "scrolled": true
   },
   "outputs": [
    {
     "name": "stdout",
     "output_type": "stream",
     "text": [
      "Comic_Data_Messy.csv  comics_clean.csv\r\n"
     ]
    }
   ],
   "source": [
    "!ls data"
   ]
  },
  {
   "cell_type": "markdown",
   "id": "a42bc8a8",
   "metadata": {},
   "source": [
    "#### Problem 1 [10 points]\n",
    "\n",
    "1. Load the data into a `pandas` dataframe.\n",
    "2. Inspect the unique values in the `comic` column.\n",
    "3. Comment on problems with the column."
   ]
  },
  {
   "cell_type": "code",
   "execution_count": 267,
   "id": "f99338c4",
   "metadata": {},
   "outputs": [],
   "source": [
    "import pandas as pd\n",
    "from dfply import *\n",
    "from more_dfply.facets import text_filter"
   ]
  },
  {
   "cell_type": "code",
   "execution_count": 268,
   "id": "71961873",
   "metadata": {
    "scrolled": true
   },
   "outputs": [
    {
     "data": {
      "text/plain": [
       "array(['marvel', 'marvl', 'DC comics', 'DC', 'Marvel Comics',\n",
       "       'marvelcomics', 'dc comics', 'Marvel', 'MV', 'DC Comics'],\n",
       "      dtype=object)"
      ]
     },
     "execution_count": 268,
     "metadata": {},
     "output_type": "execute_result"
    }
   ],
   "source": [
    "# Your code here\n",
    "comic_data = pd.read_csv(\"./data/Comic_Data_Messy.csv\")\n",
    "comic_data.comic.unique() #This is from my first submission, I have used unique() here."
   ]
  },
  {
   "cell_type": "code",
   "execution_count": 269,
   "id": "a8f9509b",
   "metadata": {},
   "outputs": [
    {
     "data": {
      "text/plain": [
       "<bound method Series.unique of 0               marvel\n",
       "1                marvl\n",
       "2            DC comics\n",
       "3                   DC\n",
       "4                marvl\n",
       "             ...      \n",
       "23267        DC Comics\n",
       "23268           marvel\n",
       "23269           marvel\n",
       "23270    Marvel Comics\n",
       "23271           marvel\n",
       "Name: comic, Length: 23272, dtype: object>"
      ]
     },
     "execution_count": 269,
     "metadata": {},
     "output_type": "execute_result"
    }
   ],
   "source": [
    "comic_data.comic.unique"
   ]
  },
  {
   "cell_type": "markdown",
   "id": "38b0bf77",
   "metadata": {},
   "source": [
    "> <font color=\"orange\"> Your thoughts here </font>\n",
    "\n",
    "> Marvel and DC comics has multiple names in the column. Marvel has marvl, marvel comics, MV, and so on. DC has similar like Marvel, such as DC Comics, DC comics, DC, and so on. We have to clean the column so that both the franchise have only one single name, Marvel and DC."
   ]
  },
  {
   "cell_type": "markdown",
   "id": "e3f58e3e",
   "metadata": {},
   "source": [
    "#### Problem 2 [10 points]\n",
    "\n",
    "Clean up the `comic` column."
   ]
  },
  {
   "cell_type": "code",
   "execution_count": 270,
   "id": "34ec72f1",
   "metadata": {},
   "outputs": [],
   "source": [
    "# Your code here\n",
    "# View Cell\n",
    "\n",
    "cleaned = (comic_data\n",
    " >> select(X.comic)\n",
    " >> filter_by(~text_filter(X.comic, r'\\w{6}\\s\\w{6}', regex=True))\n",
    " >> filter_by(~text_filter(X.comic, r'\\w{2}\\s\\w{6}', regex=True))\n",
    " >> filter_by(~text_filter(X.comic, r'DC', regex=True))\n",
    " >> filter_by(~text_filter(X.comic, r'marvl', regex=True))\n",
    " >> filter_by(~text_filter(X.comic, r'MV', regex=True))\n",
    " >> filter_by(text_filter(X.comic, r'marvel', regex=True))\n",
    " )\n",
    "\n"
   ]
  },
  {
   "cell_type": "code",
   "execution_count": 271,
   "id": "bbdd8b37",
   "metadata": {},
   "outputs": [
    {
     "data": {
      "text/plain": [
       "array(['marvel', 'marvelcomics', 'Marvel'], dtype=object)"
      ]
     },
     "execution_count": 271,
     "metadata": {},
     "output_type": "execute_result"
    }
   ],
   "source": [
    "cleaned.comic.unique()"
   ]
  },
  {
   "cell_type": "code",
   "execution_count": 272,
   "id": "aa6453a6",
   "metadata": {},
   "outputs": [
    {
     "name": "stderr",
     "output_type": "stream",
     "text": [
      "/home/fahad/.pyenv/versions/anaconda3-2022.05/lib/python3.9/site-packages/dfply/vector.py:110: FutureWarning: The 'lookup' method is deprecated and will be removed in a future version. You can use DataFrame.melt and DataFrame.loc as a substitute.\n",
      "  return coalescer.lookup(np.arange(coalescer.shape[0]), min_nonna)\n"
     ]
    }
   ],
   "source": [
    "# Tranform Cell\n",
    "\n",
    "# Mutate in place used\n",
    "cleaned_data = (comic_data\n",
    "    >> mutate(Comic = case_when((text_filter(X.comic, r'\\w{6}\\s\\w{6}', regex=True), \"Marvel\"),\n",
    "                                (text_filter(X.comic, r'\\w{2}\\s\\w{6}', regex=True), \"DC\"),\n",
    "                                (text_filter(X.comic, r'marvl', regex=True), \"Marvel\"),\n",
    "                                (text_filter(X.comic, r'MV', regex=True), \"Marvel\"),\n",
    "                                (text_filter(X.comic, r'marvel', regex=True), \"Marvel\"),\n",
    "                                (text_filter(X.comic, r'DC', regex=True), \"DC\"),\n",
    "                               )\n",
    "             )\n",
    "    >> drop(X.comic)\n",
    ")"
   ]
  },
  {
   "cell_type": "code",
   "execution_count": 273,
   "id": "30dab0b7",
   "metadata": {},
   "outputs": [
    {
     "data": {
      "text/plain": [
       "array(['Marvel', 'DC'], dtype=object)"
      ]
     },
     "execution_count": 273,
     "metadata": {},
     "output_type": "execute_result"
    }
   ],
   "source": [
    "cleaned_data.Comic.unique()"
   ]
  },
  {
   "cell_type": "markdown",
   "id": "5c98ea3e",
   "metadata": {},
   "source": [
    "#### Problem 3 [10 points]\n",
    "\n",
    "The `PHYSICAL` column contains information about both the character's hair and eyes.  Extract this information into separate columns and clean up as necessary."
   ]
  },
  {
   "cell_type": "code",
   "execution_count": 274,
   "id": "9213660e",
   "metadata": {},
   "outputs": [],
   "source": [
    "# Your code here\n",
    "cleaned_data_2 = (cleaned_data\n",
    " >> mutate(Eyes = X.PHYSICAL.str.extract(r\"(\\w+) Eye[s|balls]+\"),Hair = X.PHYSICAL.str.extract(r\", (.*)\").replace(\" Hair\", \"\", regex=True))\n",
    " >> mutate(Hair = if_else(X.Hair == \"\", \"Not Available\", X.Hair), Eyes = if_else(X.Eyes.isna(), \"Not Available\", X.Eyes))\n",
    " >> drop(X.PHYSICAL)\n",
    "          )"
   ]
  },
  {
   "cell_type": "code",
   "execution_count": 275,
   "id": "32b055e4",
   "metadata": {},
   "outputs": [],
   "source": [
    "# just testing some ideas out, could be achieved in a much simpler way wihtout trying to find optional \n",
    "# word matching for hair from stackoverflow and avoiding regex for eyes overall\n",
    "# (cleaned_data \n",
    "#  >> mutate(Eyes = X.PHYSICAL.str.split(\",\").str.get(0).str.split(\" \").str.get(0), \n",
    "#            Hair = X.PHYSICAL.str.split(\",\").str.get(1).str.replace(\"Hair\", \" \"))\n",
    "#  >> mutate(Eyes = if_else(X.Eyes == \"\", \"NA\", X.Eyes), \n",
    "#            Hair = if_else(X.Hair == \" \", \"NA\", X.Hair) )\n",
    "#  >> drop(X.PHYSICAL)\n",
    "# )"
   ]
  },
  {
   "cell_type": "markdown",
   "id": "df1ec130",
   "metadata": {},
   "source": [
    "#### Problem 4 [5 points]\n",
    "\n",
    "The `url_slug` column contains the characters name, universe (at the end in parentheses) and a possible alias/nickname (middle of the name in parentheses).  Extract this information into separate columns."
   ]
  },
  {
   "cell_type": "code",
   "execution_count": 284,
   "id": "66743370",
   "metadata": {},
   "outputs": [],
   "source": [
    "# Your code here\n",
    "cleaned_data_3 = (cleaned_data_2\n",
    " >> mutate(\n",
    "     Name = X.urlslug.str.extract(r\"\\\\/(\\w+)_\").replace(\"_\", \" \", regex = True).replace(np.nan,\"Not Available\"),\n",
    "     Universe = X.urlslug.str.extract(r\"_\\((\\w+[_-]\\w+)\\)\").replace(\"_\", \" \", regex = True).replace(np.nan,\"Not Available\"),\n",
    "     Nickname = X.urlslug.str.extract(r\"_\\((\\w+)\\)_\").replace(np.nan, \"Not Available\")\n",
    " )\n",
    " >> drop(X.urlslug)\n",
    ")"
   ]
  },
  {
   "cell_type": "code",
   "execution_count": 289,
   "id": "25cde62e",
   "metadata": {},
   "outputs": [
    {
     "data": {
      "text/html": [
       "<div>\n",
       "<style scoped>\n",
       "    .dataframe tbody tr th:only-of-type {\n",
       "        vertical-align: middle;\n",
       "    }\n",
       "\n",
       "    .dataframe tbody tr th {\n",
       "        vertical-align: top;\n",
       "    }\n",
       "\n",
       "    .dataframe thead th {\n",
       "        text-align: right;\n",
       "    }\n",
       "</style>\n",
       "<table border=\"1\" class=\"dataframe\">\n",
       "  <thead>\n",
       "    <tr style=\"text-align: right;\">\n",
       "      <th></th>\n",
       "      <th>page_id</th>\n",
       "      <th>ID</th>\n",
       "      <th>ALIGN</th>\n",
       "      <th>SEX</th>\n",
       "      <th>ALIVE</th>\n",
       "      <th>APPEARANCES</th>\n",
       "      <th>FIRST.APPEARANCE</th>\n",
       "      <th>Comic</th>\n",
       "      <th>Eyes</th>\n",
       "      <th>Hair</th>\n",
       "      <th>Name</th>\n",
       "      <th>Universe</th>\n",
       "      <th>Nickname</th>\n",
       "    </tr>\n",
       "  </thead>\n",
       "  <tbody>\n",
       "    <tr>\n",
       "      <th>0</th>\n",
       "      <td>666101</td>\n",
       "      <td>Public Identity</td>\n",
       "      <td>NaN</td>\n",
       "      <td>Male Characters</td>\n",
       "      <td>Living Characters</td>\n",
       "      <td>4.0</td>\n",
       "      <td>Apr-97</td>\n",
       "      <td>Marvel</td>\n",
       "      <td>Blue</td>\n",
       "      <td>Brown</td>\n",
       "      <td>Jonathan Dillon</td>\n",
       "      <td>Earth-616</td>\n",
       "      <td>Not Available</td>\n",
       "    </tr>\n",
       "    <tr>\n",
       "      <th>1</th>\n",
       "      <td>280850</td>\n",
       "      <td>Public Identity</td>\n",
       "      <td>NaN</td>\n",
       "      <td>Male Characters</td>\n",
       "      <td>Deceased Characters</td>\n",
       "      <td>NaN</td>\n",
       "      <td>Oct-01</td>\n",
       "      <td>Marvel</td>\n",
       "      <td>Blue</td>\n",
       "      <td>Blond</td>\n",
       "      <td>John</td>\n",
       "      <td>Earth-616</td>\n",
       "      <td>Mutant</td>\n",
       "    </tr>\n",
       "    <tr>\n",
       "      <th>2</th>\n",
       "      <td>129267</td>\n",
       "      <td>Public Identity</td>\n",
       "      <td>Good Characters</td>\n",
       "      <td>Male Characters</td>\n",
       "      <td>Living Characters</td>\n",
       "      <td>15.0</td>\n",
       "      <td>1987, September</td>\n",
       "      <td>DC</td>\n",
       "      <td>Not Available</td>\n",
       "      <td>Black</td>\n",
       "      <td>Gene LaBostrie</td>\n",
       "      <td>New Earth</td>\n",
       "      <td>Not Available</td>\n",
       "    </tr>\n",
       "    <tr>\n",
       "      <th>3</th>\n",
       "      <td>157368</td>\n",
       "      <td>Public Identity</td>\n",
       "      <td>Good Characters</td>\n",
       "      <td>Male Characters</td>\n",
       "      <td>Deceased Characters</td>\n",
       "      <td>15.0</td>\n",
       "      <td>1992, September</td>\n",
       "      <td>DC</td>\n",
       "      <td>Black</td>\n",
       "      <td>Not Available</td>\n",
       "      <td>Reemuz</td>\n",
       "      <td>New Earth</td>\n",
       "      <td>Not Available</td>\n",
       "    </tr>\n",
       "    <tr>\n",
       "      <th>4</th>\n",
       "      <td>16171</td>\n",
       "      <td>Secret Identity</td>\n",
       "      <td>Bad Characters</td>\n",
       "      <td>Male Characters</td>\n",
       "      <td>Living Characters</td>\n",
       "      <td>1.0</td>\n",
       "      <td>Jul-73</td>\n",
       "      <td>Marvel</td>\n",
       "      <td>Not Available</td>\n",
       "      <td>Not Available</td>\n",
       "      <td>Aquon</td>\n",
       "      <td>Earth-616</td>\n",
       "      <td>Not Available</td>\n",
       "    </tr>\n",
       "    <tr>\n",
       "      <th>...</th>\n",
       "      <td>...</td>\n",
       "      <td>...</td>\n",
       "      <td>...</td>\n",
       "      <td>...</td>\n",
       "      <td>...</td>\n",
       "      <td>...</td>\n",
       "      <td>...</td>\n",
       "      <td>...</td>\n",
       "      <td>...</td>\n",
       "      <td>...</td>\n",
       "      <td>...</td>\n",
       "      <td>...</td>\n",
       "      <td>...</td>\n",
       "    </tr>\n",
       "    <tr>\n",
       "      <th>23267</th>\n",
       "      <td>183949</td>\n",
       "      <td>NaN</td>\n",
       "      <td>Bad Characters</td>\n",
       "      <td>Female Characters</td>\n",
       "      <td>Living Characters</td>\n",
       "      <td>2.0</td>\n",
       "      <td>2009, October</td>\n",
       "      <td>DC</td>\n",
       "      <td>Not Available</td>\n",
       "      <td>Not Available</td>\n",
       "      <td>Queen of Hearts IV</td>\n",
       "      <td>New Earth</td>\n",
       "      <td>Not Available</td>\n",
       "    </tr>\n",
       "    <tr>\n",
       "      <th>23268</th>\n",
       "      <td>30345</td>\n",
       "      <td>Secret Identity</td>\n",
       "      <td>Bad Characters</td>\n",
       "      <td>Male Characters</td>\n",
       "      <td>Living Characters</td>\n",
       "      <td>3.0</td>\n",
       "      <td>Dec-93</td>\n",
       "      <td>Marvel</td>\n",
       "      <td>Not Available</td>\n",
       "      <td>Brown</td>\n",
       "      <td>Regent</td>\n",
       "      <td>Earth-616</td>\n",
       "      <td>Not Available</td>\n",
       "    </tr>\n",
       "    <tr>\n",
       "      <th>23269</th>\n",
       "      <td>432532</td>\n",
       "      <td>Secret Identity</td>\n",
       "      <td>Good Characters</td>\n",
       "      <td>Male Characters</td>\n",
       "      <td>Deceased Characters</td>\n",
       "      <td>1.0</td>\n",
       "      <td>Mar-11</td>\n",
       "      <td>Marvel</td>\n",
       "      <td>Blue</td>\n",
       "      <td>Black</td>\n",
       "      <td>Malcolm Monroe</td>\n",
       "      <td>Earth-616</td>\n",
       "      <td>Not Available</td>\n",
       "    </tr>\n",
       "    <tr>\n",
       "      <th>23270</th>\n",
       "      <td>16723</td>\n",
       "      <td>Secret Identity</td>\n",
       "      <td>Neutral Characters</td>\n",
       "      <td>Female Characters</td>\n",
       "      <td>Living Characters</td>\n",
       "      <td>2.0</td>\n",
       "      <td>Oct-97</td>\n",
       "      <td>Marvel</td>\n",
       "      <td>Not Available</td>\n",
       "      <td>No</td>\n",
       "      <td>Tether</td>\n",
       "      <td>Earth-616</td>\n",
       "      <td>Not Available</td>\n",
       "    </tr>\n",
       "    <tr>\n",
       "      <th>23271</th>\n",
       "      <td>68416</td>\n",
       "      <td>No Dual Identity</td>\n",
       "      <td>Good Characters</td>\n",
       "      <td>Male Characters</td>\n",
       "      <td>Living Characters</td>\n",
       "      <td>473.0</td>\n",
       "      <td>Nov-68</td>\n",
       "      <td>Marvel</td>\n",
       "      <td>Blue</td>\n",
       "      <td>Blond</td>\n",
       "      <td>Franklin Richards</td>\n",
       "      <td>Earth-616</td>\n",
       "      <td>Not Available</td>\n",
       "    </tr>\n",
       "  </tbody>\n",
       "</table>\n",
       "<p>23272 rows × 13 columns</p>\n",
       "</div>"
      ],
      "text/plain": [
       "       page_id                ID               ALIGN                SEX  \\\n",
       "0       666101   Public Identity                 NaN    Male Characters   \n",
       "1       280850   Public Identity                 NaN    Male Characters   \n",
       "2       129267   Public Identity     Good Characters    Male Characters   \n",
       "3       157368   Public Identity     Good Characters    Male Characters   \n",
       "4        16171   Secret Identity      Bad Characters    Male Characters   \n",
       "...        ...               ...                 ...                ...   \n",
       "23267   183949               NaN      Bad Characters  Female Characters   \n",
       "23268    30345   Secret Identity      Bad Characters    Male Characters   \n",
       "23269   432532   Secret Identity     Good Characters    Male Characters   \n",
       "23270    16723   Secret Identity  Neutral Characters  Female Characters   \n",
       "23271    68416  No Dual Identity     Good Characters    Male Characters   \n",
       "\n",
       "                     ALIVE  APPEARANCES FIRST.APPEARANCE   Comic  \\\n",
       "0        Living Characters          4.0           Apr-97  Marvel   \n",
       "1      Deceased Characters          NaN           Oct-01  Marvel   \n",
       "2        Living Characters         15.0  1987, September      DC   \n",
       "3      Deceased Characters         15.0  1992, September      DC   \n",
       "4        Living Characters          1.0           Jul-73  Marvel   \n",
       "...                    ...          ...              ...     ...   \n",
       "23267    Living Characters          2.0    2009, October      DC   \n",
       "23268    Living Characters          3.0           Dec-93  Marvel   \n",
       "23269  Deceased Characters          1.0           Mar-11  Marvel   \n",
       "23270    Living Characters          2.0           Oct-97  Marvel   \n",
       "23271    Living Characters        473.0           Nov-68  Marvel   \n",
       "\n",
       "                Eyes           Hair                Name   Universe  \\\n",
       "0               Blue          Brown     Jonathan Dillon  Earth-616   \n",
       "1               Blue          Blond                John  Earth-616   \n",
       "2      Not Available          Black      Gene LaBostrie  New Earth   \n",
       "3              Black  Not Available              Reemuz  New Earth   \n",
       "4      Not Available  Not Available               Aquon  Earth-616   \n",
       "...              ...            ...                 ...        ...   \n",
       "23267  Not Available  Not Available  Queen of Hearts IV  New Earth   \n",
       "23268  Not Available          Brown              Regent  Earth-616   \n",
       "23269           Blue          Black      Malcolm Monroe  Earth-616   \n",
       "23270  Not Available             No              Tether  Earth-616   \n",
       "23271           Blue          Blond   Franklin Richards  Earth-616   \n",
       "\n",
       "            Nickname  \n",
       "0      Not Available  \n",
       "1             Mutant  \n",
       "2      Not Available  \n",
       "3      Not Available  \n",
       "4      Not Available  \n",
       "...              ...  \n",
       "23267  Not Available  \n",
       "23268  Not Available  \n",
       "23269  Not Available  \n",
       "23270  Not Available  \n",
       "23271  Not Available  \n",
       "\n",
       "[23272 rows x 13 columns]"
      ]
     },
     "execution_count": 289,
     "metadata": {},
     "output_type": "execute_result"
    }
   ],
   "source": [
    "cleaned_data_3"
   ]
  },
  {
   "cell_type": "markdown",
   "id": "0b181343",
   "metadata": {},
   "source": [
    "#### Problem 5 [5 points]\n",
    "\n",
    "Write the your resulting table to a file named `comics_clean.csv` and push you code and this CSV to GitHub."
   ]
  },
  {
   "cell_type": "code",
   "execution_count": 290,
   "id": "6496259b",
   "metadata": {},
   "outputs": [],
   "source": [
    "# Your code here\n",
    "cleaned_data_3.to_csv(\"./data/comics_clean.csv\")"
   ]
  }
 ],
 "metadata": {
  "kernelspec": {
   "display_name": "Python 3 (ipykernel)",
   "language": "python",
   "name": "python3"
  },
  "language_info": {
   "codemirror_mode": {
    "name": "ipython",
    "version": 3
   },
   "file_extension": ".py",
   "mimetype": "text/x-python",
   "name": "python",
   "nbconvert_exporter": "python",
   "pygments_lexer": "ipython3",
   "version": "3.10.4"
  },
  "vscode": {
   "interpreter": {
    "hash": "1510f6a07727a0191a617f268a786232ed15ef53c754d8485e9e4509b80b393f"
   }
  }
 },
 "nbformat": 4,
 "nbformat_minor": 5
}
