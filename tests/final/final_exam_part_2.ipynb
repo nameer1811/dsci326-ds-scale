{
 "cells": [
  {
   "cell_type": "markdown",
   "metadata": {},
   "source": [
    "# Final Exam Part 2"
   ]
  },
  {
   "cell_type": "markdown",
   "metadata": {},
   "source": [
    "## Background\n",
    "\n",
    "In previous semesters, I used an single attendance quiz to track  attendance in each course.  Students took multiple attempts of the same quiz, one at the start of each class. Consequently, the number of attempts a student took on this quiz represents the number of class sessions that student attended.\n",
    "\n",
    "In some, but not all, of my courses I also provide practice quizzes that students can use to prepare for actual quizzes and tests.  These quizzes pull questions randomly from a bank of questions, allow students unlimited attempts, and are not used as part of the students grade.\n",
    "\n",
    "For this part of the exam, you will collect simulated data from mock classes into one table, then and create a summarize table."
   ]
  },
  {
   "cell_type": "markdown",
   "metadata": {},
   "source": [
    "## Assessment Overview\n",
    "\n",
    "When evaluating your work, here is what I will generally be looking for each grade level.\n",
    "\n",
    "* **A-level work.** Data is processed using the functional tools from `composable` in 1-2 pipes using quality names.  Complex code/expressions is refactored. \n",
    "* **B-level work.** Data is processed using the list comprehensions and the `reduce` function (if necessary). All code uses quality names.\n",
    "* **C-level work.** Data is processed using `for` loops using quality names.\n",
    "* **D-level work.** Tasks are completed, but rely on a brute-force approach."
   ]
  },
  {
   "cell_type": "markdown",
   "metadata": {},
   "source": [
    "## File structure\n",
    "\n",
    "The files found in `attendance_example` folder contains (made-up and random) examples of the D2L files that I use to summarize my attendance quizzes and practice quizzes.  Note that there is important information that you need to extract from the file path. \n",
    "\n",
    "<img src=\"./img/attendance_example_tree.png\" width =\"600\">"
   ]
  },
  {
   "cell_type": "markdown",
   "metadata": {},
   "source": [
    "### Task 1 - Combine the attendance data\n",
    "\n",
    "<img src=\"./img/tracking_attendance.png\" width=\"600\">\n",
    "\n",
    "Your first task it to combine the attendance data for all courses into a table with the following columns.\n",
    "* `Program` (e.g., `stat`)\n",
    "* `Course` (e.g., `491`)\n",
    "* `Section` (e.g., `s1`)\n",
    "* `UserName`\n",
    "* `FirstName`\n",
    "* `LastName`\n",
    "* `TotalAttendance` (number of classes attended)\n",
    "* `OutOf` (total possible number of classes, assume this is the same as the max)\n",
    "* `PercentAttendance`\n",
    "    \n",
    "Write this table to a parquet file that is partitioned by program and course number."
   ]
  },
  {
   "cell_type": "code",
   "execution_count": 2,
   "metadata": {},
   "outputs": [
    {
     "name": "stdout",
     "output_type": "stream",
     "text": [
      "22/12/08 13:55:59 WARN Utils: Your hostname, jt7372wd222 resolves to a loopback address: 127.0.1.1; using 172.21.137.216 instead (on interface eth0)\n",
      "22/12/08 13:55:59 WARN Utils: Set SPARK_LOCAL_IP if you need to bind to another address\n"
     ]
    },
    {
     "name": "stderr",
     "output_type": "stream",
     "text": [
      "Setting default log level to \"WARN\".\n",
      "To adjust logging level use sc.setLogLevel(newLevel). For SparkR, use setLogLevel(newLevel).\n"
     ]
    },
    {
     "name": "stdout",
     "output_type": "stream",
     "text": [
      "22/12/08 13:56:01 WARN NativeCodeLoader: Unable to load native-hadoop library for your platform... using builtin-java classes where applicable\n",
      "22/12/08 13:56:01 WARN Utils: Service 'SparkUI' could not bind on port 4040. Attempting port 4041.\n"
     ]
    }
   ],
   "source": [
    "from pyspark.sql import SparkSession\n",
    "spark = (SparkSession.builder\n",
    "         .config(\"spark.executor.memory\", '8g')\n",
    "         .config(\"spark.driver.memory\", '8g')\n",
    "         .appName('Ops')\n",
    "         .getOrCreate())"
   ]
  },
  {
   "cell_type": "code",
   "execution_count": 91,
   "metadata": {},
   "outputs": [],
   "source": [
    "from composable.strict import map, filter, sorted\n",
    "from composable.sequence import reduce, to_list\n",
    "from composable.glob import glob\n",
    "from more_pyspark import to_pandas\n",
    "import re\n",
    "from pyspark.sql.functions import lit, col, sum, count"
   ]
  },
  {
   "cell_type": "code",
   "execution_count": 79,
   "metadata": {
    "scrolled": true
   },
   "outputs": [],
   "source": [
    "attendance_paths = ['./attendance_example/dsci494s7/Attendance Quiz - User Attempts.csv','./attendance_example/stat180s18/Attendance Quiz - User Attempts.csv','./attendance_example/stat491s1/Attendance Quiz - User Attempts.csv'  ]\n",
    "\n",
    "\n",
    "dsci494s7 = spark.read.csv(attendance_paths[0], sep=',', header = True)\n",
    "\n",
    "stat180s18 = spark.read.csv(attendance_paths[1], sep=',', header = True)\n",
    "\n",
    "stat491s1 = spark.read.csv(attendance_paths[2], sep=',', header = True)"
   ]
  },
  {
   "cell_type": "code",
   "execution_count": 83,
   "metadata": {},
   "outputs": [],
   "source": [
    "dsci494s7_added_columns = (dsci494s7\n",
    "                           .withColumn(\"Program\", lit(\"dsci\"))\n",
    "                           .withColumn(\"Course\", lit(\"494\"))\n",
    "                           .withColumn(\"Section\", lit(\"s7\"))\n",
    ")\n",
    "stat180s18_added_columns = (stat180s18\n",
    "                           .withColumn(\"Program\", lit(\"stat\"))\n",
    "                           .withColumn(\"Course\", lit(\"180\"))\n",
    "                           .withColumn(\"Section\", lit(\"s18\"))\n",
    ")\n",
    "stat491s1_added_columns = (stat491s1\n",
    "                           .withColumn(\"Program\", lit(\"stat\"))\n",
    "                           .withColumn(\"Course\", lit(\"491\"))\n",
    "                           .withColumn(\"Section\", lit(\"s1\"))\n",
    ")"
   ]
  },
  {
   "cell_type": "code",
   "execution_count": 85,
   "metadata": {},
   "outputs": [],
   "source": [
    "union_data_frame = (dsci494s7_added_columns\n",
    ".union(stat180s18_added_columns)\n",
    ".union(stat491s1_added_columns)\n",
    ")"
   ]
  },
  {
   "cell_type": "code",
   "execution_count": 92,
   "metadata": {},
   "outputs": [
    {
     "data": {
      "text/plain": [
       "DataFrame[UserName: string, count(UserName AS TotalAttendance): bigint]"
      ]
     },
     "execution_count": 92,
     "metadata": {},
     "output_type": "execute_result"
    }
   ],
   "source": [
    "(union_data_frame\n",
    ".groupBy(col(\"UserName\"))\n",
    ".agg(count(col(\"UserName\").alias(\"TotalAttendance\"))))"
   ]
  },
  {
   "cell_type": "code",
   "execution_count": 86,
   "metadata": {},
   "outputs": [
    {
     "data": {
      "text/html": [
       "<div>\n",
       "<style scoped>\n",
       "    .dataframe tbody tr th:only-of-type {\n",
       "        vertical-align: middle;\n",
       "    }\n",
       "\n",
       "    .dataframe tbody tr th {\n",
       "        vertical-align: top;\n",
       "    }\n",
       "\n",
       "    .dataframe thead th {\n",
       "        text-align: right;\n",
       "    }\n",
       "</style>\n",
       "<table border=\"1\" class=\"dataframe\">\n",
       "  <thead>\n",
       "    <tr style=\"text-align: right;\">\n",
       "      <th></th>\n",
       "      <th>Org Defined ID</th>\n",
       "      <th>UserName</th>\n",
       "      <th>FirstName</th>\n",
       "      <th>LastName</th>\n",
       "      <th>Attempt #</th>\n",
       "      <th>Score</th>\n",
       "      <th>Out Of</th>\n",
       "      <th>Attempt_Start</th>\n",
       "      <th>Attempt_End</th>\n",
       "      <th>Percent</th>\n",
       "      <th>Program</th>\n",
       "      <th>Course</th>\n",
       "      <th>Section</th>\n",
       "    </tr>\n",
       "  </thead>\n",
       "  <tbody>\n",
       "    <tr>\n",
       "      <th>0</th>\n",
       "      <td>14460432</td>\n",
       "      <td>au9747cp</td>\n",
       "      <td>Jericho</td>\n",
       "      <td>Greer</td>\n",
       "      <td>1</td>\n",
       "      <td>1</td>\n",
       "      <td>1</td>\n",
       "      <td>2019-01-14 14:00:00</td>\n",
       "      <td>2019-01-14 14:06:00</td>\n",
       "      <td>100 %</td>\n",
       "      <td>dsci</td>\n",
       "      <td>494</td>\n",
       "      <td>s7</td>\n",
       "    </tr>\n",
       "    <tr>\n",
       "      <th>1</th>\n",
       "      <td>14460432</td>\n",
       "      <td>au9747cp</td>\n",
       "      <td>Jericho</td>\n",
       "      <td>Greer</td>\n",
       "      <td>2</td>\n",
       "      <td>1</td>\n",
       "      <td>1</td>\n",
       "      <td>2019-01-16 14:00:00</td>\n",
       "      <td>2019-01-16 14:08:00</td>\n",
       "      <td>100 %</td>\n",
       "      <td>dsci</td>\n",
       "      <td>494</td>\n",
       "      <td>s7</td>\n",
       "    </tr>\n",
       "  </tbody>\n",
       "</table>\n",
       "</div>"
      ],
      "text/plain": [
       "  Org Defined ID  UserName FirstName LastName  ... Percent Program Course Section\n",
       "0       14460432  au9747cp   Jericho    Greer  ...   100 %    dsci    494      s7\n",
       "1       14460432  au9747cp   Jericho    Greer  ...   100 %    dsci    494      s7\n",
       "\n",
       "[2 rows x 13 columns]"
      ]
     },
     "execution_count": 86,
     "metadata": {},
     "output_type": "execute_result"
    }
   ],
   "source": [
    "union_data_frame.take(2) >> to_pandas"
   ]
  },
  {
   "cell_type": "markdown",
   "metadata": {},
   "source": [
    "### Task 2 - Combine the practice quiz data\n",
    "\n",
    "<img src=\"./img/tracking_practice_attempts.png\" width=\"600\">\n",
    "\n",
    "Some of the classes contained in `attendance_example.zip` contain information about attempts on practice quizzes for four modules.  We want to create a table for each class that summarizes the practice quiz attempts.  This table should contain the following columns: \n",
    "* `Program` (e.g., `stat`)\n",
    "* `Course` (e.g., `491`)\n",
    "* `Section` (e.g., `s1`)\n",
    "* `UserName`\n",
    "* `FirstName`\n",
    "* `LastName`\n",
    "* `Module 1 Attempts`, \n",
    "* `Module 2 Attempts`, \n",
    "* `Module 3 Attempts`, \n",
    "* `Module 4 Attempts`, and \n",
    "* `Total Attempts`.  \n",
    "\n",
    "Note that, for example, `Module 1 Attempts` contains the total number of attempts each student made on the corresponding quiz and `Total Attempts` contains the total number of attempts on all four quizzes.\n",
    "\n",
    "Write this table to a parquet file that is partitioned by program and course number."
   ]
  },
  {
   "cell_type": "code",
   "execution_count": 1,
   "metadata": {},
   "outputs": [],
   "source": [
    "# Your code here"
   ]
  },
  {
   "cell_type": "markdown",
   "metadata": {},
   "source": [
    "### Task 3 - Summarize attendance and practice quiz attempts\n",
    "\n",
    "Finally, you need to create a overall summary of the attendance and practice quiz attempts.  This table will have one row per course and include the following summaries.\n",
    "\n",
    "* `Program` (e.g., `stat`)\n",
    "* `Course` (e.g., `491`)\n",
    "* `Section` (e.g., `s1`)\n",
    "* `Min(Attendance)`\n",
    "* `Mean(Attendance)`\n",
    "* `Max(Attendance)`\n",
    "* `Mean(Module 1 Attempts)`, \n",
    "* `Mean(Module 2 Attempts)`, \n",
    "* `Mean(Module 3 Attempts)`, \n",
    "* `Mean(Module 4 Attempts)`, and \n",
    "* `Mean(Total Attempts)`.  \n",
    "\n",
    "Write this table to a parquet file that is partitioned by program and course number."
   ]
  },
  {
   "cell_type": "code",
   "execution_count": 1,
   "metadata": {},
   "outputs": [],
   "source": [
    "# Your code here"
   ]
  },
  {
   "cell_type": "markdown",
   "metadata": {},
   "source": [
    "## Deliverables\n",
    "\n",
    "1. You should commit and push your work in this notebook along with each of the files from the last three tasks.  \n",
    "2. Submit a WORD doc on D2L containing a link to your repository."
   ]
  }
 ],
 "metadata": {
  "kernelspec": {
   "display_name": "Python 3 (ipykernel)",
   "language": "python",
   "name": "python3"
  },
  "language_info": {
   "codemirror_mode": {
    "name": "ipython",
    "version": 3
   },
   "file_extension": ".py",
   "mimetype": "text/x-python",
   "name": "python",
   "nbconvert_exporter": "python",
   "pygments_lexer": "ipython3",
   "version": "3.10.4"
  }
 },
 "nbformat": 4,
 "nbformat_minor": 2
}
